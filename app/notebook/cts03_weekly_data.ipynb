{
 "cells": [
  {
   "cell_type": "code",
   "execution_count": null,
   "id": "3932ea0a",
   "metadata": {},
   "outputs": [],
   "source": [
    "import sys\n",
    "import os\n",
    "import importlib\n",
    "sys.path.append(os.path.join(os.path.dirname(os.getcwd()), 'import'))\n",
    "sys.path.append(os.path.join(os.path.dirname(os.getcwd()), 'module'))\n",
    "\n",
    "import import_default\n",
    "import import_database\n",
    "import import_other\n",
    "import gemini_model\n",
    "\n",
    "importlib.reload(import_default)\n",
    "importlib.reload(import_database)\n",
    "importlib.reload(import_other)\n",
    "importlib.reload(gemini_model)\n",
    "\n",
    "from import_default import *\n",
    "from import_database import *\n",
    "from import_other import *\n",
    "from gemini_model import *"
   ]
  }
 ],
 "metadata": {
  "language_info": {
   "name": "python"
  }
 },
 "nbformat": 4,
 "nbformat_minor": 5
}
