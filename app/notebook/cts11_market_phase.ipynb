{
 "cells": [
  {
   "cell_type": "code",
   "execution_count": 33,
   "id": "3bcf3026",
   "metadata": {},
   "outputs": [],
   "source": [
    "# %%capture\n",
    "\n",
    "import sys\n",
    "import os\n",
    "import importlib\n",
    "sys.path.append(os.path.join(os.path.dirname(os.getcwd()), 'import'))\n",
    "sys.path.append(os.path.join(os.path.dirname(os.getcwd()), 'module'))\n",
    "\n",
    "import import_default\n",
    "import import_database\n",
    "import import_other\n",
    "\n",
    "importlib.reload(import_default)\n",
    "importlib.reload(import_database)\n",
    "importlib.reload(import_other)\n",
    "\n",
    "from import_default import *\n",
    "from import_database import *\n",
    "from import_other import *"
   ]
  },
  {
   "cell_type": "code",
   "execution_count": 34,
   "id": "a9fa768a",
   "metadata": {},
   "outputs": [],
   "source": [
    "today_index_df = get_mongo_collection(stock_db, \"today_index\", find_query={'ticker': 'VNINDEX'}, projection={'_id': 0, 'date': 1, 'close': 1})\n",
    "history_index_df = get_mongo_collection(stock_db, \"history_index\", find_query={'ticker': 'VNINDEX'}, projection={'_id': 0, 'date': 1, 'close': 1})\n",
    "vnindex_df = pd.concat([history_index_df, today_index_df], ignore_index=True).rename(columns={'close': 'vnindex'})"
   ]
  },
  {
   "cell_type": "code",
   "execution_count": 35,
   "id": "e020a073",
   "metadata": {},
   "outputs": [],
   "source": [
    "market_benchmark = get_mongo_collection(stock_db, \"market_benchmark\")\n",
    "market_phase = get_mongo_collection(stock_db, \"market_phase\")\n",
    "market_phase = market_phase.merge(vnindex_df, on='date', how='left')\n",
    "market_phase['phase_name'] = market_phase['final_signal_phase'].apply(lambda x: \n",
    "                                    'An toàn' if x == 3 else \n",
    "                                    'Nghi ngờ (1)' if x == 2 else \n",
    "                                    'Nghi ngờ (2)' if x == 1 else \n",
    "                                    'Rủi ro')"
   ]
  },
  {
   "cell_type": "code",
   "execution_count": 37,
   "id": "51300678",
   "metadata": {},
   "outputs": [],
   "source": [
    "%%capture\n",
    "save_to_mssql(cts_engine, market_phase, 'vip_market_phase')\n",
    "save_to_mssql(cts_engine, market_benchmark, 'vip_market_benchmark')"
   ]
  }
 ],
 "metadata": {
  "kernelspec": {
   "display_name": "base",
   "language": "python",
   "name": "python3"
  },
  "language_info": {
   "codemirror_mode": {
    "name": "ipython",
    "version": 3
   },
   "file_extension": ".py",
   "mimetype": "text/x-python",
   "name": "python",
   "nbconvert_exporter": "python",
   "pygments_lexer": "ipython3",
   "version": "3.12.7"
  }
 },
 "nbformat": 4,
 "nbformat_minor": 5
}
