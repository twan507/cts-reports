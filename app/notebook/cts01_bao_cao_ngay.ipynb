{
 "cells": [
  {
   "cell_type": "markdown",
   "id": "6a9be442",
   "metadata": {},
   "source": [
    "# Cập nhật dữ liệu cho bản tin chiến lược hàng ngày"
   ]
  },
  {
   "cell_type": "code",
   "execution_count": 2,
   "id": "e2882d76",
   "metadata": {},
   "outputs": [],
   "source": [
    "import sys\n",
    "import os\n",
    "import importlib\n",
    "sys.path.append(os.path.join(os.path.dirname(os.getcwd()), 'import'))\n",
    "sys.path.append(os.path.join(os.path.dirname(os.getcwd()), 'module'))\n",
    "\n",
    "import import_default\n",
    "import import_database\n",
    "import import_other\n",
    "\n",
    "importlib.reload(import_default)\n",
    "importlib.reload(import_database)\n",
    "importlib.reload(import_other)\n",
    "\n",
    "from import_default import *\n",
    "from import_database import *\n",
    "from import_other import *"
   ]
  },
  {
   "cell_type": "markdown",
   "id": "ae706cc5",
   "metadata": {},
   "source": [
    "#### Bản tin 8h30"
   ]
  },
  {
   "cell_type": "code",
   "execution_count": null,
   "id": "818666f7",
   "metadata": {},
   "outputs": [],
   "source": []
  }
 ],
 "metadata": {
  "kernelspec": {
   "display_name": "base",
   "language": "python",
   "name": "python3"
  },
  "language_info": {
   "codemirror_mode": {
    "name": "ipython",
    "version": 3
   },
   "file_extension": ".py",
   "mimetype": "text/x-python",
   "name": "python",
   "nbconvert_exporter": "python",
   "pygments_lexer": "ipython3",
   "version": "3.12.7"
  }
 },
 "nbformat": 4,
 "nbformat_minor": 5
}
