{
 "cells": [
  {
   "cell_type": "code",
   "execution_count": 1,
   "id": "6f293953",
   "metadata": {},
   "outputs": [],
   "source": [
    "%%capture\n",
    "\n",
    "import sys\n",
    "import os\n",
    "import importlib\n",
    "sys.path.append(os.path.join(os.path.dirname(os.getcwd()), 'import'))\n",
    "sys.path.append(os.path.join(os.path.dirname(os.getcwd()), 'module'))\n",
    "\n",
    "import import_default\n",
    "import import_database\n",
    "import import_other\n",
    "\n",
    "importlib.reload(import_default)\n",
    "importlib.reload(import_database)\n",
    "importlib.reload(import_other)\n",
    "\n",
    "from import_default import *\n",
    "from import_database import *\n",
    "from import_other import *"
   ]
  },
  {
   "cell_type": "code",
   "execution_count": 7,
   "id": "3f8fd556",
   "metadata": {},
   "outputs": [],
   "source": [
    "client = fq.FiinSession(\n",
    "    username=load_env(\"FQX_USER\"),\n",
    "    password=load_env(\"FQX_PWD\"),\n",
    ").login()"
   ]
  },
  {
   "cell_type": "code",
   "execution_count": 8,
   "id": "b24503d8",
   "metadata": {},
   "outputs": [
    {
     "name": "stdout",
     "output_type": "stream",
     "text": [
      "Fetching data, it may take a while. Please wait...\n",
      "401 Client Error: Unauthorized for url: https://fiinquant.fiintrade.vn/TradingView/GetIndicatorBuSd?Code=VN30F1M&Type=Derivative&Frequency=Daily&From=2024-12-04&To=2025-07-08+14%3A36&PageSize=216\n",
      "Failed to fetch data for VN30F1M. {\"status\":\"ApiAccessFailed\",\"errors\":[\"Service has expired.\"]}\n",
      "401 Client Error: Unauthorized for url: https://fiinquant.fiintrade.vn/TradingView/GetStockChartData?Code=VN30F1M&Type=Derivative&Frequency=Daily&From=2024-12-04&To=2025-07-08+14%3A36&PageSize=216\n",
      "Failed to fetch data for VN30F1M. {\"status\":\"ApiAccessFailed\",\"errors\":[\"Service has expired.\"]}\n",
      "401 Client Error: Unauthorized for url: https://fiinquant.fiintrade.vn/TradingView/GetIndicatorForeign?Code=VN30F1M&Type=Derivative&Frequency=Daily&From=2024-12-04&To=2025-07-08+14%3A36&PageSize=216\n",
      "Failed to fetch data for VN30F1M. {\"status\":\"ApiAccessFailed\",\"errors\":[\"Service has expired.\"]}\n"
     ]
    },
    {
     "data": {
      "text/html": [
       "<div>\n",
       "<style scoped>\n",
       "    .dataframe tbody tr th:only-of-type {\n",
       "        vertical-align: middle;\n",
       "    }\n",
       "\n",
       "    .dataframe tbody tr th {\n",
       "        vertical-align: top;\n",
       "    }\n",
       "\n",
       "    .dataframe thead th {\n",
       "        text-align: right;\n",
       "    }\n",
       "</style>\n",
       "<table border=\"1\" class=\"dataframe\">\n",
       "  <thead>\n",
       "    <tr style=\"text-align: right;\">\n",
       "      <th></th>\n",
       "      <th>ticker</th>\n",
       "      <th>timestamp</th>\n",
       "      <th>open</th>\n",
       "      <th>high</th>\n",
       "      <th>low</th>\n",
       "      <th>close</th>\n",
       "      <th>volume</th>\n",
       "      <th>bu</th>\n",
       "      <th>sd</th>\n",
       "      <th>fn</th>\n",
       "      <th>fb</th>\n",
       "      <th>fs</th>\n",
       "    </tr>\n",
       "  </thead>\n",
       "  <tbody>\n",
       "  </tbody>\n",
       "</table>\n",
       "</div>"
      ],
      "text/plain": [
       "Empty DataFrame\n",
       "Columns: [ticker, timestamp, open, high, low, close, volume, bu, sd, fn, fb, fs]\n",
       "Index: []"
      ]
     },
     "execution_count": 8,
     "metadata": {},
     "output_type": "execute_result"
    }
   ],
   "source": [
    "fi = client.FiinIndicator()\n",
    "# Lấy dữ liệu có sẵn\n",
    "tickers = ['VN30F1M'] \n",
    "event = client.Fetch_Trading_Data(\n",
    "    realtime = False,\n",
    "    tickers = tickers,    \n",
    "    fields = ['open','high','low','close','volume','bu','sd','fn','fs','fb'],\n",
    "    adjusted=True,  \n",
    "    # period=10,\n",
    "    from_date='2024-12-04',\n",
    "    by = '1d'\n",
    "    )\n",
    "df = event.get_data()\n",
    "df"
   ]
  }
 ],
 "metadata": {
  "kernelspec": {
   "display_name": "venv",
   "language": "python",
   "name": "python3"
  },
  "language_info": {
   "codemirror_mode": {
    "name": "ipython",
    "version": 3
   },
   "file_extension": ".py",
   "mimetype": "text/x-python",
   "name": "python",
   "nbconvert_exporter": "python",
   "pygments_lexer": "ipython3",
   "version": "3.12.7"
  }
 },
 "nbformat": 4,
 "nbformat_minor": 5
}
