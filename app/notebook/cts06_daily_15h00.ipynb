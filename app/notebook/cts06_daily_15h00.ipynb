{
 "cells": [
  {
   "cell_type": "code",
   "execution_count": 43,
   "id": "b6706d30",
   "metadata": {},
   "outputs": [],
   "source": [
    "import sys\n",
    "import os\n",
    "import importlib\n",
    "sys.path.append(os.path.join(os.path.dirname(os.getcwd()), 'import'))\n",
    "sys.path.append(os.path.join(os.path.dirname(os.getcwd()), 'module'))\n",
    "\n",
    "import import_default\n",
    "import import_database\n",
    "import import_other\n",
    "import import_gemini\n",
    "import gemini_analyze_fuction\n",
    "import gemini_comment_fuction\n",
    "import gemini_summary_function\n",
    "import get_and_crawl_data\n",
    "import plotly_and_upload\n",
    "import other_source_data\n",
    "\n",
    "importlib.reload(import_default)\n",
    "importlib.reload(import_database)\n",
    "importlib.reload(import_other)\n",
    "importlib.reload(import_gemini)\n",
    "importlib.reload(gemini_analyze_fuction)\n",
    "importlib.reload(gemini_comment_fuction)\n",
    "importlib.reload(gemini_summary_function)\n",
    "importlib.reload(get_and_crawl_data)\n",
    "importlib.reload(plotly_and_upload)\n",
    "importlib.reload(other_source_data)\n",
    "\n",
    "from import_default import *\n",
    "from import_database import *\n",
    "from import_other import *\n",
    "from import_gemini import *\n",
    "from gemini_analyze_fuction import *\n",
    "from gemini_comment_fuction import *\n",
    "from gemini_summary_function import *\n",
    "from get_and_crawl_data import *\n",
    "from plotly_and_upload import *\n",
    "from other_source_data import *"
   ]
  },
  {
   "cell_type": "markdown",
   "id": "1f3d3dc8",
   "metadata": {},
   "source": [
    "#### Dữ liệu từ Mongo"
   ]
  },
  {
   "cell_type": "code",
   "execution_count": 44,
   "id": "2891501e",
   "metadata": {},
   "outputs": [],
   "source": [
    "date_series = get_mongo_collection(ref_db, 'date_series')\n",
    "time_series = get_mongo_collection(ref_db, 'time_series')\n",
    "name_map = get_mongo_collection(ref_db, \"name_map\")\n",
    "name_map_dict = name_map.set_index('code')['full_name'].to_dict()\n",
    "full_stock_classification_df = get_mongo_collection(ref_db, 'full_stock_classification')\n",
    "current_quarter_classification_df = get_mongo_collection(ref_db, 'current_quarter_classification')\n",
    "\n",
    "if date_series['date'].max() < get_today_date():\n",
    "    new_date = get_today_date()\n",
    "    date_series = pd.concat([date_series, pd.DataFrame({'date': [new_date]})]).sort_values(by='date', ascending=False).reset_index(drop=True)"
   ]
  },
  {
   "cell_type": "code",
   "execution_count": 45,
   "id": "114ee277",
   "metadata": {},
   "outputs": [],
   "source": [
    "projection = {\n",
    "    \"_id\": 0,\n",
    "    \"date\": 1,\n",
    "    \"ticker\": 1,\n",
    "    \"open\": 1,\n",
    "    \"high\": 1,\n",
    "    \"low\": 1,\n",
    "    \"close\": 1,\n",
    "    \"pct_change\": 1,\n",
    "    \"diff\": 1,\n",
    "    \"volume\": 1,\n",
    "    \"option\": 1,\n",
    "    \"SMA_20\": 1,\n",
    "    \"SMA_60\": 1,\n",
    "    \"RSI_14\": 1,\n",
    "    \"week_prev_high\": 1,\n",
    "    \"week_prev_low\": 1,\n",
    "    \"week_open\": 1,\n",
    "    \"month_prev_high\": 1,\n",
    "    \"month_prev_low\": 1,\n",
    "    \"month_open\": 1,\n",
    "    \"quarter_prev_high\": 1,\n",
    "    \"quarter_prev_low\": 1,\n",
    "    \"quarter_open\": 1,\n",
    "    \"year_open\": 1,\n",
    "    \"MFIBO_0382\": 1,\n",
    "    \"MFIBO_0500\": 1,\n",
    "    \"MFIBO_0618\": 1,\n",
    "    \"QFIBO_0382\": 1,\n",
    "    \"QFIBO_0500\": 1,\n",
    "    \"QFIBO_0618\": 1,\n",
    "\t\"YFIBO_0382\": 1,\n",
    "    \"YFIBO_0500\": 1,\n",
    "    \"YFIBO_0618\": 1,\n",
    "    'WPIVOT_P': 1,\n",
    "    'MPIVOT_P': 1,\n",
    "}\n",
    "today_index_df = get_mongo_collection(stock_db, \"today_index\", projection=projection)\n",
    "history_index_df = get_mongo_collection(stock_db, \"history_index\", projection=projection)\n",
    "full_index_df = pd.concat([today_index_df, history_index_df], axis=0, ignore_index=True)"
   ]
  },
  {
   "cell_type": "code",
   "execution_count": 46,
   "id": "4a31df1d",
   "metadata": {},
   "outputs": [],
   "source": [
    "today_stock_df = get_mongo_collection(stock_db, \"today_stock\", projection={\"_id\": 0, \"date\": 1, \"ticker\": 1, \"open\": 1,\"high\": 1, \"low\": 1, \"close\": 1, \"volume\": 1, 'pct_change': 1, \"t0_score\": 1, 'vol_ratio': 1})\n",
    "today_group_df = get_mongo_collection(stock_db, \"today_group\")\n",
    "\n",
    "itd_index_df = get_mongo_collection(stock_db, \"itd_index\")\n",
    "itd_stock_df = get_mongo_collection(stock_db, \"itd_stock\", projection={\"_id\": 0, \"date\": 1, \"ticker\": 1, \"close\": 1, \"t0_score\": 1, \"vol_ratio\": 1})\n",
    "itd_group_df = get_mongo_collection(stock_db, \"itd_group\")\n",
    "\n",
    "other_ticker_df = get_mongo_collection(stock_db, 'other_ticker', projection=projection)\n",
    "nntd_index_df = get_mongo_collection(stock_db, 'nntd_index')\n",
    "nntd_stock_df = get_mongo_collection(stock_db, 'nntd_stock')"
   ]
  },
  {
   "cell_type": "markdown",
   "id": "e0838ff1",
   "metadata": {},
   "source": [
    "#### Tạo các models cho gemini"
   ]
  },
  {
   "cell_type": "code",
   "execution_count": 47,
   "id": "c63b506d",
   "metadata": {},
   "outputs": [],
   "source": [
    "# Thiết lập kết nối với cơ sở dữ liệu\n",
    "genai.configure(api_key=load_env(\"GEMINI_API\"))\n",
    "\n",
    "# Sắp xếp danh sách model theo thứ tự ổn định\n",
    "# fast_model_list = select_fast_models(get_gemini_models())\n",
    "# standard_model_list = select_standard_models(get_gemini_models())\n",
    "fast_model_list = ['gemini-2.5-flash-lite', 'gemini-2.0-flash-lite', 'gemma-3-27b-it']\n",
    "standard_model_list = ['gemini-2.5-flash', 'gemini-2.0-flash', 'gemini-2.5-flash-lite', 'gemini-2.0-flash-lite', 'gemma-3-27b-it']\n",
    "\n",
    "# Tạo dictionary cho các model\n",
    "fast_model_dict = {model_name: genai.GenerativeModel(model_name) for model_name in fast_model_list}\n",
    "standard_model_dict = {model_name: genai.GenerativeModel(model_name) for model_name in standard_model_list}"
   ]
  },
  {
   "cell_type": "markdown",
   "id": "adc0ff51",
   "metadata": {},
   "source": [
    "#### Dữ liệu ITD"
   ]
  },
  {
   "cell_type": "markdown",
   "id": "16ecae55",
   "metadata": {},
   "source": [
    "- Dữ liệu cho VNINDEX"
   ]
  },
  {
   "cell_type": "code",
   "execution_count": 48,
   "id": "1d1ec5fb",
   "metadata": {},
   "outputs": [],
   "source": [
    "itd_vnindex_df = itd_index_df[itd_index_df['ticker'] == 'VNINDEX'].reset_index(drop=True)\n",
    "eod_vnindex_df = full_index_df[full_index_df['ticker'] == 'VNINDEX'].reset_index(drop=True)\n",
    "vnindex_close_prev = eod_vnindex_df[eod_vnindex_df['date'] < itd_vnindex_df['date'].iloc[-1].normalize()].iloc[0]['close'].item()\n",
    "\n",
    "itd_vnindex_df['cum_volume'] = itd_vnindex_df['volume'][::-1].cumsum()[::-1]\n",
    "itd_vnindex_df['cum_value'] = eod_vnindex_df['option'].iloc[0]\n",
    "itd_vnindex_df['pct_change'] = (itd_vnindex_df['close'] - vnindex_close_prev) / vnindex_close_prev\n",
    "itd_vnindex_df['diff'] = itd_vnindex_df['close'] - vnindex_close_prev\n",
    "\n",
    "itd_vnindex_df = itd_vnindex_df.set_index('date')"
   ]
  },
  {
   "cell_type": "markdown",
   "id": "a9cef452",
   "metadata": {},
   "source": [
    "- Dữ liệu cho tâm lý thị trường, biến động giá và độ rộng thanh khoản"
   ]
  },
  {
   "cell_type": "code",
   "execution_count": 49,
   "id": "60a9fcf7",
   "metadata": {},
   "outputs": [],
   "source": [
    "itd_stock_dict = {}\n",
    "for ticker in current_quarter_classification_df['ticker'].unique():\n",
    "    temp_df = itd_stock_df[itd_stock_df['ticker'] == ticker]\n",
    "    temp_df['open'] = today_stock_df[today_stock_df['ticker'] == ticker]['open'].item()\n",
    "    temp_df['diff'] = temp_df['close'] - temp_df['open']\n",
    "    itd_stock_dict[ticker] = temp_df\n",
    "\n",
    "temp_sentiment_df = time_series.set_index('date')\n",
    "temp_diff_df = time_series.set_index('date')\n",
    "temp_vol_ratio_df = time_series.set_index('date')\n",
    "for ticker, df in itd_stock_dict.items():\n",
    "    temp_df = df.dropna().set_index('date')\n",
    "    temp_sentiment_df[ticker] = temp_df['t0_score']\n",
    "    temp_diff_df[ticker] = temp_df['diff']\n",
    "    temp_vol_ratio_df[ticker] = temp_df['vol_ratio']\n",
    "\n",
    "sentiment_stock_df = time_series.set_index('date')\n",
    "sentiment_stock_df['sentiment_pos'] = (temp_sentiment_df > 0.2).sum(axis=1) / len(current_quarter_classification_df)\n",
    "sentiment_stock_df['sentiment_neg'] = (temp_sentiment_df <= -1).sum(axis=1) / len(current_quarter_classification_df)\n",
    "\n",
    "diff_stock_df = time_series.set_index('date')\n",
    "diff_stock_df['price_pos'] = (temp_diff_df > 0).sum(axis=1)\n",
    "diff_stock_df['price_neu'] = (temp_diff_df == 0).sum(axis=1)\n",
    "diff_stock_df['price_neg'] = (temp_diff_df < 0).sum(axis=1)\n",
    "\n",
    "vol_ratio_stock_df = time_series.set_index('date')\n",
    "vol_ratio_stock_df['vol_ratio_pos'] = (temp_vol_ratio_df > 1.0).sum(axis=1)\n",
    "vol_ratio_stock_df['vol_ratio_neu'] = ((temp_vol_ratio_df > 0.7) & (temp_vol_ratio_df <= 1.0)).sum(axis=1)\n",
    "vol_ratio_stock_df['vol_ratio_neg'] = (temp_vol_ratio_df <= 0.7).sum(axis=1)\n",
    "\n",
    "sentiment_stock_df = sentiment_stock_df.dropna()\n",
    "diff_stock_df = diff_stock_df.dropna()\n",
    "vol_ratio_stock_df = vol_ratio_stock_df.dropna()"
   ]
  },
  {
   "cell_type": "markdown",
   "id": "541541f7",
   "metadata": {},
   "source": [
    "- Tổng hợp và ghép thêm giá trị thanh khoản"
   ]
  },
  {
   "cell_type": "code",
   "execution_count": 50,
   "id": "e373ff51",
   "metadata": {},
   "outputs": [],
   "source": [
    "daily_15h00_itd_df = time_series.set_index('date')\n",
    "daily_15h00_itd_df = pd.concat([daily_15h00_itd_df, itd_vnindex_df], axis=1)\n",
    "daily_15h00_itd_df = pd.concat([daily_15h00_itd_df, sentiment_stock_df], axis=1)\n",
    "daily_15h00_itd_df = pd.concat([daily_15h00_itd_df, diff_stock_df], axis=1)\n",
    "daily_15h00_itd_df = pd.concat([daily_15h00_itd_df, vol_ratio_stock_df], axis=1)\n",
    "daily_15h00_itd_df = pd.concat([daily_15h00_itd_df, itd_group_df[itd_group_df['ticker'] == 'all'].set_index('date')['vol_ratio']], axis=1)\n",
    "daily_15h00_itd_df = daily_15h00_itd_df.sort_index().dropna().reset_index()"
   ]
  },
  {
   "cell_type": "markdown",
   "id": "0ae8e14a",
   "metadata": {},
   "source": [
    "- Nhận xét biến động VNINDEX"
   ]
  },
  {
   "cell_type": "code",
   "execution_count": 51,
   "id": "431d169b",
   "metadata": {},
   "outputs": [
    {
     "name": "stdout",
     "output_type": "stream",
     "text": [
      "✅ Model 'gemini-2.5-flash' thành công lần 1/2 tại hàm daily_vnindex_overall_comment.\n"
     ]
    }
   ],
   "source": [
    "def daily_vn30f1m_overall_comment(df):\n",
    "    prompt = f\"\"\"\n",
    "    Đây là dữ liệu của chỉ số VNINDEX:\n",
    "    {df.to_csv(index=False, sep='|', lineterminator='\\n')}\n",
    "\n",
    "    **Bối cảnh:**\n",
    "    Hãy đóng vai là một nhà phân tích tài chính chuyên nghiệp và khách quan của một công ty chứng khoán. Nhiệm vụ của bạn là phân tích dữ liệu giá theo phút của chỉ số VNINDEX được cung cấp và viết một báo cáo ngắn gọn, súc tích về diễn biến của phiên giao dịch buổi.\n",
    "\n",
    "    **Dữ liệu đầu vào:**\n",
    "    Dữ liệu là một chuỗi văn bản chứa thông tin giao dịch theo từng phút, bao gồm các cột: `date`, `ticker`, `open`, `high`, `low`, `close`.\n",
    "\n",
    "    **Yêu cầu đầu ra:**\n",
    "    Kết quả trả về phải tuân thủ nghiêm ngặt các quy tắc sau:\n",
    "\n",
    "    * **Định dạng:** Chỉ trả về **duy nhất** đoạn văn phân tích. **Tuyệt đối không** thêm bất kỳ câu dẫn dắt, tiêu đề, hay lời chào nào (ví dụ: không được viết \"Dưới đây là báo cáo...\" hoặc \"Sau khi phân tích...\").\n",
    "    * **Cấu trúc:** Đoạn văn phải có chính xác **3 câu**. Mỗi câu từ 25 đến 30 từ.\n",
    "    * **Giọng điệu:** Chuyên nghiệp, khách quan, mang tính tường thuật, không đưa ra khuyến nghị mua/bán.\n",
    "    * **Nguồn:** Mọi phân tích phải dựa hoàn toàn vào dữ liệu được cung cấp.\n",
    "    * **LUÔN LUÔN** sử dụng ngày dạng \"dd/mm\" trong bài viết khi được yêu cầu.\n",
    "\n",
    "    **Chi tiết hướng dẫn cho từng câu:**\n",
    "\n",
    "    * **Câu 1: Bối cảnh và Diễn biến mở đầu (khoảng 15-20 từ)**\n",
    "        * **Mục đích:** Giới thiệu bối cảnh phiên giao dịch và mô tả xu hướng ngay sau khi thị trường mở cửa.\n",
    "        * **Hướng dẫn nội dung:**\n",
    "            1.  Bắt đầu câu bằng cụm từ \"Tổng kết phiên giao dịch ngày `[DD/MM/YYYY]`...\". Bạn phải tự động trích xuất và định dạng ngày từ cột `date` trong dữ liệu.\n",
    "            2.  Nhận xét ngắn gọn về trạng thái mở cửa (ví dụ: \"mở cửa khá ổn định\", \"mở cửa trong sắc xanh\", \"chịu áp lực ngay từ đầu\").\n",
    "            3.  Mô tả hành động giá ngay sau đó (ví dụ: \"nhưng nhanh chóng chịu áp lực bán\", \"tuy nhiên đà tăng không duy trì được\", \"và tiếp tục nới rộng đà giảm\").\n",
    "\n",
    "    * **Câu 2: Diễn biến chính và Mức biến động (khoảng 15-20 từ)**\n",
    "        * **Mục đích:** Tóm tắt xu hướng chủ đạo trong phiên và định lượng mức độ biến động mạnh nhất.\n",
    "        * **Hướng dẫn nội dung:**\n",
    "            1.  Mô tả xu hướng chính kéo dài trong phiên (ví dụ: \"Xu hướng tiêu cực này chiếm ưu thế\", \"Lực mua chủ động xuyên suốt phiên\").\n",
    "            2.  Làm nổi bật mức biến động lớn nhất bằng cách tính chênh lệch giữa giá trị `high` cao nhất và `low` thấp nhất trong toàn bộ dữ liệu. Diễn đạt nó dưới dạng \"đẩy chỉ số có thời điểm giảm hơn `X` điểm so với mức cao nhất\" hoặc \"giúp chỉ số có lúc tăng hơn `X` điểm so với mức điểm thấp nhất\" .\n",
    "\n",
    "    * **Câu 3: Tổng kết cuối phiên (khoảng 15-20 từ)**\n",
    "        * **Mục đích:** Mô tả các nỗ lực vào cuối phiên và chốt lại trạng thái của giá đóng cửa.\n",
    "        * **Hướng dẫn nội dung:**\n",
    "            1.  Nhận xét về các diễn biến trong giai đoạn cuối phiên (ví dụ: \"Mặc dù một nỗ lực phục hồi...\", \"Áp lực bán gia tăng trở lại...\", \"Xu hướng vẫn tiếp diễn...\").\n",
    "            2.  Đưa ra kết luận về giá đóng cửa so với mặt bằng chung của phiên (ví dụ: \"chỉ số vẫn duy trì ở vùng giá thấp\", \"bảo toàn được thành quả\", \"thu hẹp đáng kể đà giảm\").\n",
    "    \"\"\"\n",
    "    return prompt\n",
    "\n",
    "promt_df = daily_15h00_itd_df[['date', 'ticker', 'open', 'high', 'low', 'close', 'volume']]\n",
    "overall_vnindex_comment = generate_content_with_model_dict(standard_model_dict, daily_vn30f1m_overall_comment(promt_df), 'daily_vnindex_overall_comment')"
   ]
  },
  {
   "cell_type": "markdown",
   "id": "c255fe01",
   "metadata": {},
   "source": [
    "#### Dữ liệu khối ngoại trong phiên"
   ]
  },
  {
   "cell_type": "markdown",
   "id": "efe6a4a3",
   "metadata": {},
   "source": [
    "- Lịch sử mua bán khối ngoại"
   ]
  },
  {
   "cell_type": "code",
   "execution_count": 52,
   "id": "f01b00c0",
   "metadata": {},
   "outputs": [],
   "source": [
    "#Dữ liệu NN từ Fireant\n",
    "daily_15h00_nn_data_df = nntd_index_df[(nntd_index_df['ticker'].isin(['HNXINDEX', 'UPINDEX', 'VNINDEX'])) & (nntd_index_df['type'] == 'NN')].reset_index(drop=True)\n",
    "daily_15h00_nn_data_df = daily_15h00_nn_data_df.groupby(['date']).sum().iloc[:, :6].sort_values('date', ascending = False).reset_index()"
   ]
  },
  {
   "cell_type": "markdown",
   "id": "d8710423",
   "metadata": {},
   "source": [
    "- Top cổ phiếu mua bán trong phiên"
   ]
  },
  {
   "cell_type": "code",
   "execution_count": 53,
   "id": "1521cc5e",
   "metadata": {},
   "outputs": [],
   "source": [
    "type_df = pd.DataFrame()\n",
    "for ticker in nntd_stock_df['ticker'].unique():\n",
    "    temp_df = nntd_stock_df[(nntd_stock_df['ticker'] == ticker) & (nntd_stock_df['type'] == \"NN\")]\n",
    "    temp_df = temp_df.sort_values('date', ascending=False).reset_index(drop=True)\n",
    "    type_df = pd.concat([type_df, temp_df[['type', 'ticker', 'net_value']].iloc[[0]]], ignore_index=True).sort_values('net_value', ascending=False)\n",
    "\n",
    "# Gán kết quả và tổng hợp\n",
    "daily_15h00_nn_stock_df = pd.concat([type_df.head(10), type_df.tail(10)], ignore_index=True)\n",
    "daily_15h00_nn_stock_df['top_check'] = (daily_15h00_nn_stock_df['net_value'] > 0).astype(int)\n",
    "daily_15h00_nn_stock_df['net_value'] = abs(daily_15h00_nn_stock_df['net_value'])"
   ]
  },
  {
   "cell_type": "markdown",
   "id": "c7ad98a0",
   "metadata": {},
   "source": [
    "#### Dòng tiền và thanh khoản các nhóm ngành"
   ]
  },
  {
   "cell_type": "code",
   "execution_count": 54,
   "id": "cfcca343",
   "metadata": {},
   "outputs": [],
   "source": [
    "daily_15h00_industry_df = today_group_df[~today_group_df['ticker'].isin(['all', 'hsA', 'hsB', 'hsC', 'hsD', 'large', 'mid', 'small', 'penny'])]\n",
    "daily_15h00_industry_df = daily_15h00_industry_df[['ticker', 'vol_ratio', 't0_score']].sort_values('t0_score', ascending=False).reset_index(drop=True)\n",
    "daily_15h00_industry_df['ticker'] = daily_15h00_industry_df['ticker'].map(name_map_dict)"
   ]
  },
  {
   "cell_type": "markdown",
   "id": "efa2e226",
   "metadata": {},
   "source": [
    "#### Top cổ phiếu"
   ]
  },
  {
   "cell_type": "code",
   "execution_count": 55,
   "id": "c4d1b74d",
   "metadata": {},
   "outputs": [],
   "source": [
    "top_stock_df = today_stock_df[today_stock_df['ticker'].isin(current_quarter_classification_df['ticker'].unique())][['ticker', 'close', 'pct_change', 't0_score', 'vol_ratio', 'volume']]\n",
    "top_stock_df['value'] = top_stock_df['close'] * top_stock_df['volume']\n",
    "top_stock_df = top_stock_df[(top_stock_df['value'] > 50000000) & (top_stock_df['volume'] > 500000)].sort_values('t0_score', ascending=False)\n",
    "top_stock_df['industry'] = top_stock_df['ticker'].map(full_stock_classification_df.set_index('ticker')['industry_name'])\n",
    "top_stock_df['industry'] = top_stock_df['industry'].map(name_map_dict)\n",
    "\n",
    "top_stock_pos = top_stock_df.head(10)\n",
    "top_stock_pos['type'] = 'pos'\n",
    "top_stock_neg = top_stock_df.tail(10).sort_values('t0_score')\n",
    "top_stock_neg['type'] = 'neg'\n",
    "\n",
    "daily_15h00_top_stock_df = pd.concat([top_stock_pos, top_stock_neg], ignore_index=True)\n",
    "daily_15h00_top_stock_df = daily_15h00_top_stock_df[['ticker', 'industry', 'close', 'pct_change', 't0_score', 'vol_ratio', 'type']]"
   ]
  },
  {
   "cell_type": "markdown",
   "id": "2db9716c",
   "metadata": {},
   "source": [
    "#### Lưu vào MSSQL"
   ]
  },
  {
   "cell_type": "code",
   "execution_count": 56,
   "id": "871761c6",
   "metadata": {},
   "outputs": [],
   "source": [
    "daily_15h00_comment_df = pd.DataFrame(\n",
    "    {\n",
    "        \"type\":     [\"overall\", \"date\", \"time\"],\n",
    "        \"comment\": [\n",
    "            overall_vnindex_comment,\n",
    "            time_series.iloc[0].item().strftime('%d/%m/%Y'),\n",
    "            time_series.iloc[0].item().strftime('%H:%M')\n",
    "        ],\n",
    "    }\n",
    ")"
   ]
  },
  {
   "cell_type": "code",
   "execution_count": 57,
   "id": "1a59f7b4",
   "metadata": {},
   "outputs": [],
   "source": [
    "%%capture\n",
    "save_to_mssql(cts_engine, daily_15h00_comment_df, 'daily_15h00_comment')\n",
    "save_to_mssql(cts_engine, daily_15h00_itd_df, 'daily_15h00_itd')\n",
    "save_to_mssql(cts_engine, daily_15h00_nn_data_df, 'daily_15h00_nn_data')\n",
    "save_to_mssql(cts_engine, daily_15h00_nn_stock_df, 'daily_15h00_nn_stock')\n",
    "save_to_mssql(cts_engine, daily_15h00_industry_df, 'daily_15h00_industry')\n",
    "save_to_mssql(cts_engine, daily_15h00_top_stock_df, 'daily_15h00_top_stock')\n"
   ]
  }
 ],
 "metadata": {
  "kernelspec": {
   "display_name": "Python (Report Generator)",
   "language": "python",
   "name": "report-generator-venv"
  },
  "language_info": {
   "codemirror_mode": {
    "name": "ipython",
    "version": 3
   },
   "file_extension": ".py",
   "mimetype": "text/x-python",
   "name": "python",
   "nbconvert_exporter": "python",
   "pygments_lexer": "ipython3",
   "version": "3.12.7"
  }
 },
 "nbformat": 4,
 "nbformat_minor": 5
}
