{
 "cells": [
  {
   "cell_type": "code",
   "execution_count": 1,
   "id": "b6706d30",
   "metadata": {},
   "outputs": [],
   "source": [
    "import sys\n",
    "import os\n",
    "import importlib\n",
    "sys.path.append(os.path.join(os.path.dirname(os.getcwd()), 'import'))\n",
    "sys.path.append(os.path.join(os.path.dirname(os.getcwd()), 'module'))\n",
    "\n",
    "import import_default\n",
    "import import_database\n",
    "import import_other\n",
    "import import_gemini\n",
    "import gemini_analyze_fuction\n",
    "import gemini_comment_fuction\n",
    "import gemini_summary_function\n",
    "import get_and_crawl_data\n",
    "import plotly_and_upload\n",
    "import other_source_data\n",
    "\n",
    "importlib.reload(import_default)\n",
    "importlib.reload(import_database)\n",
    "importlib.reload(import_other)\n",
    "importlib.reload(import_gemini)\n",
    "importlib.reload(gemini_analyze_fuction)\n",
    "importlib.reload(gemini_comment_fuction)\n",
    "importlib.reload(gemini_summary_function)\n",
    "importlib.reload(get_and_crawl_data)\n",
    "importlib.reload(plotly_and_upload)\n",
    "importlib.reload(other_source_data)\n",
    "\n",
    "from import_default import *\n",
    "from import_database import *\n",
    "from import_other import *\n",
    "from import_gemini import *\n",
    "from gemini_analyze_fuction import *\n",
    "from gemini_comment_fuction import *\n",
    "from gemini_summary_function import *\n",
    "from get_and_crawl_data import *\n",
    "from plotly_and_upload import *\n",
    "from other_source_data import *"
   ]
  },
  {
   "cell_type": "markdown",
   "id": "681edfa0",
   "metadata": {},
   "source": [
    "### Phần dữ liệu lịch sử các ticker"
   ]
  },
  {
   "cell_type": "markdown",
   "id": "1f3d3dc8",
   "metadata": {},
   "source": [
    "#### Dữ liệu từ Mongo"
   ]
  },
  {
   "cell_type": "code",
   "execution_count": 2,
   "id": "2891501e",
   "metadata": {},
   "outputs": [],
   "source": [
    "date_series = get_mongo_collection(ref_db, 'date_series')\n",
    "time_series = get_mongo_collection(ref_db, 'time_series')\n",
    "name_map = get_mongo_collection(ref_db, \"name_map\")\n",
    "name_map_dict = name_map.set_index('code')['full_name'].to_dict()\n",
    "full_stock_classification_df = get_mongo_collection(ref_db, 'full_stock_classification')\n",
    "\n",
    "if date_series['date'].max() < get_today_date():\n",
    "    new_date = get_today_date()\n",
    "    date_series = pd.concat([date_series, pd.DataFrame({'date': [new_date]})]).sort_values(by='date', ascending=False).reset_index(drop=True)"
   ]
  },
  {
   "cell_type": "code",
   "execution_count": 3,
   "id": "4a31df1d",
   "metadata": {},
   "outputs": [],
   "source": [
    "projection = {\"_id\": 0,\"date\": 1,\"ticker\": 1,\"open\": 1,\"high\": 1,\"low\": 1,\"close\": 1,'volume': 1}\n",
    "today_index_df = get_mongo_collection(stock_db, \"today_index\", projection=projection)\n",
    "history_index_df = get_mongo_collection(stock_db, \"history_index\", projection=projection)\n",
    "full_index_df = pd.concat([today_index_df, history_index_df], axis=0, ignore_index=True)\n",
    "\n",
    "itd_index_df = get_mongo_collection(stock_db, \"itd_index\")\n",
    "other_ticker_df = get_mongo_collection(stock_db, 'other_ticker', projection=projection)\n",
    "nntd_index_df = get_mongo_collection(stock_db, 'nntd_index')\n",
    "nntd_stock_df = get_mongo_collection(stock_db, 'nntd_stock')"
   ]
  },
  {
   "cell_type": "markdown",
   "id": "adc0ff51",
   "metadata": {},
   "source": [
    "#### Chuẩn bị các dữ liệu cần thiết"
   ]
  }
 ],
 "metadata": {
  "kernelspec": {
   "display_name": "Python (Report Generator)",
   "language": "python",
   "name": "report-generator-venv"
  },
  "language_info": {
   "codemirror_mode": {
    "name": "ipython",
    "version": 3
   },
   "file_extension": ".py",
   "mimetype": "text/x-python",
   "name": "python",
   "nbconvert_exporter": "python",
   "pygments_lexer": "ipython3",
   "version": "3.12.7"
  }
 },
 "nbformat": 4,
 "nbformat_minor": 5
}
