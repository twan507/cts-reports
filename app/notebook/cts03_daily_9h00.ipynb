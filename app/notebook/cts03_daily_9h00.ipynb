{
 "cells": [
  {
   "cell_type": "code",
   "execution_count": 1,
   "id": "e883572a",
   "metadata": {},
   "outputs": [],
   "source": [
    "import sys\n",
    "import os\n",
    "import importlib\n",
    "sys.path.append(os.path.join(os.path.dirname(os.getcwd()), 'import'))\n",
    "sys.path.append(os.path.join(os.path.dirname(os.getcwd()), 'module'))\n",
    "\n",
    "import import_default\n",
    "import import_database\n",
    "import import_other\n",
    "import import_gemini\n",
    "import gemini_analyze_fuction\n",
    "import gemini_comment_fuction\n",
    "import gemini_summary_function\n",
    "import get_and_crawl_data\n",
    "import plotly_and_upload\n",
    "import other_source_data\n",
    "\n",
    "importlib.reload(import_default)\n",
    "importlib.reload(import_database)\n",
    "importlib.reload(import_other)\n",
    "importlib.reload(import_gemini)\n",
    "importlib.reload(gemini_analyze_fuction)\n",
    "importlib.reload(gemini_comment_fuction)\n",
    "importlib.reload(gemini_summary_function)\n",
    "importlib.reload(get_and_crawl_data)\n",
    "importlib.reload(plotly_and_upload)\n",
    "importlib.reload(other_source_data)\n",
    "\n",
    "from import_default import *\n",
    "from import_database import *\n",
    "from import_other import *\n",
    "from import_gemini import *\n",
    "from gemini_analyze_fuction import *\n",
    "from gemini_comment_fuction import *\n",
    "from gemini_summary_function import *\n",
    "from get_and_crawl_data import *\n",
    "from plotly_and_upload import *\n",
    "from other_source_data import *"
   ]
  },
  {
   "cell_type": "markdown",
   "id": "d2bdeb0d",
   "metadata": {},
   "source": [
    "#### Dữ liệu từ Mongo"
   ]
  },
  {
   "cell_type": "code",
   "execution_count": 2,
   "id": "e156e822",
   "metadata": {},
   "outputs": [],
   "source": [
    "date_series = get_mongo_collection(ref_db, 'date_series')\n",
    "time_series = get_mongo_collection(ref_db, 'time_series')\n",
    "name_map = get_mongo_collection(ref_db, \"name_map\")\n",
    "name_map_dict = name_map.set_index('code')['full_name'].to_dict()\n",
    "full_stock_classification_df = get_mongo_collection(ref_db, 'full_stock_classification')\n",
    "current_quarter_classification_df = get_mongo_collection(ref_db, 'current_quarter_classification')\n",
    "\n",
    "if date_series['date'].max() < get_today_date():\n",
    "    new_date = get_today_date()\n",
    "    date_series = pd.concat([date_series, pd.DataFrame({'date': [new_date]})]).sort_values(by='date', ascending=False).reset_index(drop=True)"
   ]
  },
  {
   "cell_type": "code",
   "execution_count": 3,
   "id": "5e07d0ff",
   "metadata": {},
   "outputs": [],
   "source": [
    "projection = {\n",
    "    \"_id\": 0,\n",
    "    \"date\": 1,\n",
    "    \"ticker\": 1,\n",
    "    \"open\": 1,\n",
    "    \"high\": 1,\n",
    "    \"low\": 1,\n",
    "    \"close\": 1,\n",
    "    \"pct_change\": 1,\n",
    "    \"diff\": 1,\n",
    "    \"volume\": 1,\n",
    "    \"option\": 1,\n",
    "    \"SMA_20\": 1,\n",
    "    \"SMA_60\": 1,\n",
    "    \"RSI_14\": 1,\n",
    "    \"week_prev_high\": 1,\n",
    "    \"week_prev_low\": 1,\n",
    "    \"week_open\": 1,\n",
    "    \"month_prev_high\": 1,\n",
    "    \"month_prev_low\": 1,\n",
    "    \"month_open\": 1,\n",
    "    \"quarter_prev_high\": 1,\n",
    "    \"quarter_prev_low\": 1,\n",
    "    \"quarter_open\": 1,\n",
    "    \"year_open\": 1,\n",
    "    \"MFIBO_0382\": 1,\n",
    "    \"MFIBO_0500\": 1,\n",
    "    \"MFIBO_0618\": 1,\n",
    "    \"QFIBO_0382\": 1,\n",
    "    \"QFIBO_0500\": 1,\n",
    "    \"QFIBO_0618\": 1,\n",
    "\t\"YFIBO_0382\": 1,\n",
    "    \"YFIBO_0500\": 1,\n",
    "    \"YFIBO_0618\": 1,\n",
    "    'WPIVOT_P': 1,\n",
    "    'MPIVOT_P': 1,\n",
    "}\n",
    "today_index_df = get_mongo_collection(stock_db, \"today_index\", projection=projection)\n",
    "history_index_df = get_mongo_collection(stock_db, \"history_index\", projection=projection)\n",
    "full_index_df = pd.concat([today_index_df, history_index_df], axis=0, ignore_index=True)"
   ]
  },
  {
   "cell_type": "code",
   "execution_count": 4,
   "id": "0df9c17f",
   "metadata": {},
   "outputs": [],
   "source": [
    "today_group_df = get_mongo_collection(stock_db, \"today_group\")\n",
    "history_group_df = get_mongo_collection(stock_db, \"history_group\")\n",
    "full_group_df = pd.concat([today_group_df, history_group_df], axis=0, ignore_index=True)"
   ]
  },
  {
   "cell_type": "code",
   "execution_count": 5,
   "id": "1ec26c72",
   "metadata": {},
   "outputs": [],
   "source": [
    "itd_index_df = get_mongo_collection(stock_db, \"itd_index\")\n",
    "\n",
    "other_ticker_df = get_mongo_collection(stock_db, 'other_ticker', projection=projection)\n",
    "nntd_index_df = get_mongo_collection(stock_db, 'nntd_index')\n",
    "nntd_stock_df = get_mongo_collection(stock_db, 'nntd_stock')"
   ]
  },
  {
   "cell_type": "markdown",
   "id": "d360a878",
   "metadata": {},
   "source": [
    "#### Tạo các models cho gemini"
   ]
  },
  {
   "cell_type": "code",
   "execution_count": 6,
   "id": "8da46edf",
   "metadata": {},
   "outputs": [],
   "source": [
    "# Thiết lập kết nối với cơ sở dữ liệu\n",
    "genai.configure(api_key=load_env(\"GEMINI_API\"))\n",
    "\n",
    "# Sắp xếp danh sách model theo thứ tự ổn định\n",
    "# fast_model_list = select_fast_models(get_gemini_models())\n",
    "# standard_model_list = select_standard_models(get_gemini_models())\n",
    "fast_model_list = ['gemini-2.5-flash-lite', 'gemini-2.0-flash-lite', 'gemma-3-27b-it']\n",
    "standard_model_list = ['gemini-2.5-flash', 'gemini-2.0-flash', 'gemini-2.5-flash-lite', 'gemini-2.0-flash-lite', 'gemma-3-27b-it']\n",
    "\n",
    "# Tạo dictionary cho các model\n",
    "fast_model_dict = {model_name: genai.GenerativeModel(model_name) for model_name in fast_model_list}\n",
    "standard_model_dict = {model_name: genai.GenerativeModel(model_name) for model_name in standard_model_list}"
   ]
  },
  {
   "cell_type": "markdown",
   "id": "75049e87",
   "metadata": {},
   "source": [
    "#### Dữ liệu thống kê giao dịch phiên hôm trước"
   ]
  },
  {
   "cell_type": "markdown",
   "id": "d815deab",
   "metadata": {},
   "source": [
    "- Tính toán bảng dữ liệu"
   ]
  },
  {
   "cell_type": "code",
   "execution_count": 7,
   "id": "abb5637c",
   "metadata": {},
   "outputs": [],
   "source": [
    "itd_vnindex_df = itd_index_df[itd_index_df['ticker'] == 'VNINDEX'].reset_index(drop=True)\n",
    "eod_vnindex_df = full_index_df[full_index_df['ticker'] == 'VNINDEX'].reset_index(drop=True)\n",
    "vnindex_close_prev = eod_vnindex_df[eod_vnindex_df['date'] < itd_vnindex_df['date'].iloc[-1].normalize()].iloc[0]['close'].item()\n",
    "\n",
    "itd_vnindex_df['pct_change'] = (itd_vnindex_df['close'] - vnindex_close_prev) / vnindex_close_prev\n",
    "itd_vnindex_df['diff'] = itd_vnindex_df['close'] - vnindex_close_prev\n",
    "itd_vnindex_df['cum_volume'] = itd_vnindex_df['volume'][::-1].cumsum()[::-1]\n",
    "itd_vnindex_df['cum_value'] = eod_vnindex_df['option'].iloc[0]\n",
    "\n",
    "itd_vnindex_df['week_open'] = eod_vnindex_df[eod_vnindex_df['date'] < itd_vnindex_df['date'].iloc[-1].normalize()].iloc[0]['week_open'].item()\n",
    "itd_vnindex_df['week_prev_high'] = eod_vnindex_df[eod_vnindex_df['date'] < itd_vnindex_df['date'].iloc[-1].normalize()].iloc[0]['week_prev_high'].item()\n",
    "itd_vnindex_df['week_prev_low'] = eod_vnindex_df[eod_vnindex_df['date'] < itd_vnindex_df['date'].iloc[-1].normalize()].iloc[0]['week_prev_low'].item()\n",
    "itd_vnindex_df['week_pivot'] = eod_vnindex_df[eod_vnindex_df['date'] < itd_vnindex_df['date'].iloc[-1].normalize()].iloc[0]['WPIVOT_P'].item()\n",
    "\n",
    "itd_vnindex_df['month_open'] = eod_vnindex_df[eod_vnindex_df['date'] < itd_vnindex_df['date'].iloc[-1].normalize()].iloc[0]['month_open'].item()\n",
    "itd_vnindex_df['month_prev_high'] = eod_vnindex_df[eod_vnindex_df['date'] < itd_vnindex_df['date'].iloc[-1].normalize()].iloc[0]['month_prev_high'].item()\n",
    "itd_vnindex_df['month_prev_low'] = eod_vnindex_df[eod_vnindex_df['date'] < itd_vnindex_df['date'].iloc[-1].normalize()].iloc[0]['month_prev_low'].item()\n",
    "itd_vnindex_df['month_pivot'] = eod_vnindex_df[eod_vnindex_df['date'] < itd_vnindex_df['date'].iloc[-1].normalize()].iloc[0]['MPIVOT_P'].item()\n",
    "\n",
    "daily_9h00_itd_df = itd_vnindex_df.sort_values('date').copy()"
   ]
  },
  {
   "cell_type": "markdown",
   "id": "94d35f12",
   "metadata": {},
   "source": [
    "- Viêt nhận xét ngắn"
   ]
  },
  {
   "cell_type": "code",
   "execution_count": 8,
   "id": "98006690",
   "metadata": {},
   "outputs": [
    {
     "name": "stdout",
     "output_type": "stream",
     "text": [
      "✅ Model 'gemini-2.5-flash' thành công lần 1/2 tại hàm daily_vnindex_overall_comment.\n"
     ]
    }
   ],
   "source": [
    "def daily_vnindex_overall_comment(df):\n",
    "    prompt = f\"\"\"\n",
    "    Đây là dữ liệu của chỉ số VNINDEX:\n",
    "    {df.to_csv(index=False, sep='|', lineterminator='\\n')}\n",
    "\n",
    "    **Bối cảnh:**\n",
    "    Hãy đóng vai là một nhà phân tích tài chính chuyên nghiệp và khách quan của một công ty chứng khoán. Nhiệm vụ của bạn là phân tích dữ liệu giá theo phút của hợp đồng tương lai (ticker vnindex) được cung cấp và viết một báo cáo ngắn gọn, súc tích về diễn biến của phiên giao dịch đó.\n",
    "\n",
    "    **Dữ liệu đầu vào:**\n",
    "    Dữ liệu là một chuỗi văn bản chứa thông tin giao dịch theo từng phút, bao gồm các cột: `date`, `ticker`, `open`, `high`, `low`, `close`.\n",
    "\n",
    "    **Yêu cầu đầu ra:**\n",
    "    Kết quả trả về phải tuân thủ nghiêm ngặt các quy tắc sau:\n",
    "\n",
    "    * **Định dạng:** Chỉ trả về **duy nhất** đoạn văn phân tích. **Tuyệt đối không** thêm bất kỳ câu dẫn dắt, tiêu đề, hay lời chào nào (ví dụ: không được viết \"Dưới đây là báo cáo...\" hoặc \"Sau khi phân tích...\").\n",
    "    * **Cấu trúc:** Đoạn văn phải có chính xác **3 câu**. Mỗi câu từ 25 đến 30 từ.\n",
    "    * **Giọng điệu:** Chuyên nghiệp, khách quan, mang tính tường thuật, không đưa ra khuyến nghị mua/bán.\n",
    "    * **Nguồn:** Mọi phân tích phải dựa hoàn toàn vào dữ liệu được cung cấp.\n",
    "    * **LUÔN LUÔN** sử dụng ngày dạng \"dd/mm\" trong bài viết khi được yêu cầu.\n",
    "\n",
    "    **Chi tiết hướng dẫn cho từng câu:**\n",
    "\n",
    "    * **Câu 1: Bối cảnh và Diễn biến mở đầu (khoảng 15-20 từ)**\n",
    "        * **Mục đích:** Giới thiệu bối cảnh phiên giao dịch và mô tả xu hướng ngay sau khi thị trường mở cửa.\n",
    "        * **Hướng dẫn nội dung:**\n",
    "            1.  Bắt đầu câu bằng cụm từ \"Trong phiên giao dịch ngày `[DD/MM/YYYY]`...\". Bạn phải tự động trích xuất và định dạng ngày từ cột `date` trong dữ liệu.\n",
    "            2.  Nhận xét ngắn gọn về trạng thái mở cửa (ví dụ: \"mở cửa khá ổn định\", \"mở cửa trong sắc xanh\", \"chịu áp lực ngay từ đầu\").\n",
    "            3.  Mô tả hành động giá ngay sau đó (ví dụ: \"nhưng nhanh chóng chịu áp lực bán\", \"tuy nhiên đà tăng không duy trì được\", \"và tiếp tục nới rộng đà giảm\").\n",
    "\n",
    "    * **Câu 2: Diễn biến chính và Mức biến động (khoảng 15-20 từ)**\n",
    "        * **Mục đích:** Tóm tắt xu hướng chủ đạo trong phiên và định lượng mức độ biến động mạnh nhất.\n",
    "        * **Hướng dẫn nội dung:**\n",
    "            1.  Mô tả xu hướng chính kéo dài trong phiên (ví dụ: \"Xu hướng tiêu cực này chiếm ưu thế\", \"Lực mua chủ động xuyên suốt phiên\").\n",
    "            2.  Làm nổi bật mức biến động lớn nhất bằng cách tính chênh lệch giữa giá trị `high` cao nhất và `low` thấp nhất trong toàn bộ dữ liệu. Diễn đạt nó dưới dạng \"đẩy chỉ số có thời điểm giảm hơn `X` điểm so với mức cao nhất\" hoặc \"giúp chỉ số có lúc tăng hơn `X` điểm so với mức điểm thấp nhất\" .\n",
    "\n",
    "    * **Câu 3: Tổng kết cuối phiên (khoảng 15-20 từ)**\n",
    "        * **Mục đích:** Mô tả các nỗ lực vào cuối phiên và chốt lại trạng thái của giá đóng cửa.\n",
    "        * **Hướng dẫn nội dung:**\n",
    "            1.  Nhận xét về các diễn biến trong giai đoạn cuối phiên (ví dụ: \"Mặc dù một nỗ lực phục hồi...\", \"Áp lực bán gia tăng trở lại...\", \"Xu hướng vẫn tiếp diễn...\").\n",
    "            2.  Đưa ra kết luận về giá đóng cửa so với mặt bằng chung của phiên (ví dụ: \"chỉ số vẫn duy trì ở vùng giá thấp\", \"bảo toàn được thành quả\", \"thu hẹp đáng kể đà giảm\").\n",
    "    \"\"\"\n",
    "    return prompt\n",
    "\n",
    "overall_vnindex_comment = generate_content_with_model_dict(standard_model_dict, daily_vnindex_overall_comment(itd_vnindex_df), 'daily_vnindex_overall_comment')"
   ]
  },
  {
   "cell_type": "markdown",
   "id": "614c720d",
   "metadata": {},
   "source": [
    "#### Dòng tiền và biến động tương quan"
   ]
  },
  {
   "cell_type": "code",
   "execution_count": 9,
   "id": "27ea84fe",
   "metadata": {},
   "outputs": [],
   "source": [
    "temp_group_df = date_series.iloc[:20].set_index('date')\n",
    "temp_group_df['pct_change'] = full_index_df[full_index_df['ticker'] == 'VNINDEX'].iloc[:20].set_index('date')['pct_change']\n",
    "temp_df = full_group_df[full_group_df['ticker'] == 'all'].set_index('date')\n",
    "temp_group_df['vol_ratio'] = temp_df['vol_ratio']\n",
    "temp_group_df['t0_score'] = temp_df['t0_score']\n",
    "temp_group_df['t5_score'] = temp_df['t5_score']\n",
    "\n",
    "temp_group_df['pct_score'] = temp_group_df['t0_score'][::-1].cumsum()[::-1]/100\n",
    "temp_group_df['pct_score'].iloc[-1] = 0\n",
    "temp_group_df['pct_price'] = temp_group_df['pct_change'][::-1].cumsum()[::-1]\n",
    "temp_group_df['pct_price'].iloc[-1] = 0\n",
    "\n",
    "daily_9h00_flow_df = temp_group_df.reset_index()"
   ]
  },
  {
   "cell_type": "markdown",
   "id": "fba79336",
   "metadata": {},
   "source": [
    "#### Dữ liệu nước ngoài và tự doanh"
   ]
  },
  {
   "cell_type": "code",
   "execution_count": 10,
   "id": "35744d2d",
   "metadata": {},
   "outputs": [],
   "source": [
    "nntd_data_list = []\n",
    "for type_name in ['NN', 'TD']:\n",
    "    temp_df = nntd_index_df[(nntd_index_df['ticker'].isin(['HNXINDEX', 'UPINDEX', 'VNINDEX'])) & (nntd_index_df['type'] == type_name)].reset_index(drop=True)\n",
    "    temp_df = temp_df.groupby(['date']).sum().iloc[:, :6].reset_index().sort_values(by='date', ascending=False)\n",
    "    temp_df = temp_df[temp_df['net_value'] != 0].reset_index(drop=True)\n",
    "    temp_df['type'] = type_name\n",
    "    nntd_data_list.append(temp_df)\n",
    "\n",
    "daily_9h00_nntd_data_df = pd.concat(nntd_data_list, ignore_index=True)"
   ]
  },
  {
   "cell_type": "code",
   "execution_count": 11,
   "id": "5dc45172",
   "metadata": {},
   "outputs": [],
   "source": [
    "nntd_stock_list = []\n",
    "for type_name in ['NN', 'TD']:\n",
    "    type_df = pd.DataFrame()\n",
    "    for ticker in nntd_stock_df['ticker'].unique():\n",
    "        temp_df = nntd_stock_df[(nntd_stock_df['ticker'] == ticker) & (nntd_stock_df['type'] == type_name)]\n",
    "        temp_df = temp_df.sort_values('date', ascending=False).reset_index(drop=True)\n",
    "        temp_df = temp_df[temp_df['net_value'] != 0].reset_index(drop=True)\n",
    "        if len(temp_df) > 0:\n",
    "            type_df = pd.concat([type_df, temp_df[['type', 'ticker', 'net_value']].iloc[[0]]], ignore_index=True).sort_values('net_value', ascending=False)\n",
    "\n",
    "    # Gán kết quả và tổng hợp\n",
    "    result_df = pd.concat([type_df.head(10), type_df.tail(10)], ignore_index=True)\n",
    "    result_df['top_check'] = (result_df['net_value'] > 0).astype(int)\n",
    "    result_df['net_value'] = abs(result_df['net_value'])\n",
    "    result_df['type'] = type_name\n",
    "    nntd_stock_list.append(result_df)\n",
    "\n",
    "daily_9h00_nntd_stock_df = pd.concat(nntd_stock_list, ignore_index=True)"
   ]
  },
  {
   "cell_type": "markdown",
   "id": "40f268de",
   "metadata": {},
   "source": [
    "#### Phân tích kĩ thuật VNINDEX"
   ]
  },
  {
   "cell_type": "code",
   "execution_count": 12,
   "id": "ca86df40",
   "metadata": {},
   "outputs": [],
   "source": [
    "vnindex_chart_df = full_index_df[full_index_df['ticker'] == 'VNINDEX'].iloc[:120].sort_values('date').reset_index(drop=True)\n",
    "image_name = 'TA_DAILY_VNINDEX.png'\n",
    "\n",
    "line_name_dict = {\n",
    "    'SMA_20': 'SMA 20',\n",
    "    'SMA_60': 'SMA 60',\n",
    "    'week_open': 'WEEK OPEN',\n",
    "    'month_open': 'MONTH OPEN',\n",
    "    'quarter_open': 'QUARTER OPEN',\n",
    "    'year_open': 'YEAR OPEN',\n",
    "    'month_prev_high': 'LAST MHIGH',\n",
    "    'month_prev_low': 'LAST MLOW',\n",
    "    'quarter_prev_high': 'LAST QHIGH',\n",
    "    'quarter_prev_low': 'LAST QLOW',\n",
    "    'MFIBO_0382': 'MFIBO 0.382',\n",
    "    'MFIBO_0500': 'MFIBO 0.500',\n",
    "    'MFIBO_0618': 'MFIBO 0.618',\n",
    "    'QFIBO_0382': 'QFIBO 0.382',\n",
    "    'QFIBO_0500': 'QFIBO 0.500',\n",
    "    'QFIBO_0618': 'QFIBO 0.618',\n",
    "\t'YFIBO_0382': 'YFIBO 0.382',\n",
    "    'YFIBO_0500': 'YFIBO 0.500',\n",
    "    'YFIBO_0618': 'YFIBO 0.618'\n",
    "}\n",
    "\n",
    "chart_config = create_chart_config(\n",
    "\ttitle_font_size=30,\n",
    "\taxis_font_size=24,\n",
    "\ttag_font_size=24,\n",
    "\tprice_tag_font_size=24,\n",
    "    min_spacing_ratio = 0.042,\n",
    "\tmargin=dict(l=20, r=220, t=20, b=20, pad=10)\n",
    ")\n",
    "\n",
    "max_attempts = 5\n",
    "for attempt in range(max_attempts):\n",
    "    try:\n",
    "        fig, fig_images = create_financial_chart(\n",
    "            vnindex_chart_df, # DataFrame của bạn\n",
    "            width=1400,\n",
    "            height=1200,\n",
    "            line_name_dict=line_name_dict,\n",
    "            line_columns=list(line_name_dict.keys()),\n",
    "            chart_config=chart_config,\n",
    "            path='../output/cts_weekly_chart/',\n",
    "            symbol_name='VNINDEX',\n",
    "            image_name = image_name\n",
    "        )\n",
    "        upload_to_r2(fig_images, image_name)\n",
    "        break\n",
    "    except Exception as e:\n",
    "        if attempt == max_attempts - 1:\n",
    "            raise e\n",
    "# fig.show()"
   ]
  },
  {
   "cell_type": "code",
   "execution_count": 13,
   "id": "5281bb56",
   "metadata": {},
   "outputs": [
    {
     "name": "stdout",
     "output_type": "stream",
     "text": [
      "✅ Model 'gemini-2.5-flash' thành công lần 1/2 tại hàm daily_vnindex_ta_analysis.\n"
     ]
    }
   ],
   "source": [
    "def daily_vnindex_ta_analysis(itd_df, eod_df):\n",
    "    prompt = f\"\"\"\n",
    "Đây là dữ liệu trong phiên gần nhất của chỉ số VNINDEX:\n",
    "    {itd_df[['date', 'ticker', 'open', 'high', 'low', 'close']].to_csv(index=False, sep='|', lineterminator='\\\\n')}\n",
    "\n",
    "Đây là dữ liệu lịch sử của chỉ số hợp đồng tương lai VNINDEX:\n",
    "    {eod_df.to_csv(index=False, sep='|', lineterminator='\\\\n')}\n",
    "\n",
    "**Vai trò:** Bạn là một **nhà phân tích kỹ thuật cấp cao**, chuyên về phái sinh, có nhiệm vụ đưa ra nhận định kỹ thuật khách quan và sắc bén.\n",
    "\n",
    "**Nhiệm vụ:** Dựa trên dữ liệu và các chỉ báo kỹ thuật, hãy viết một báo cáo phân tích về trạng thái kỹ thuật của chỉ số cho **phiên kế tiếp**, tuân thủ nghiêm ngặt cấu trúc **8 câu, 3 đoạn**.\n",
    "\n",
    "**Yêu cầu về nội dung, cấu trúc và định dạng:**\n",
    "    Báo cáo phải gồm **8 câu, mỗi câu dài khoảng 20 đến 25 từ** và được chia thành **3 đoạn văn riêng biệt**. Bắt đầu thẳng vào nội dung, không có lời chào.\n",
    "\n",
    "    **Đoạn 1 (3 câu): Phân tích Phiên Gần Nhất dựa vào dự liệu trong phiên gần nhất**\n",
    "        * **Câu 1:** Viết một câu duy nhất mô tả phiên gần nhất theo đúng cấu trúc sau: **\"Trong phiên (dd/mm), chỉ số [Trạng thái mở cửa so với phiên trước] và [Diễn biến ngắn gọn đầu và cuối phiên]\"** đã hình thành nên một **\"[Mô tả hình thái nến chi tiết]\"**, thể hiện **\"[Kết luận về phe thắng thế hoặc sự giằng co trong phiên]\"**.\n",
    "        * **Câu 2:** Phân tích vai trò của hai đường **SMA 20 và SMA 60** trong việc xác nhận xu hướng ngắn hạn và trung hạn hiện tại.\n",
    "        * **Câu 3:** Đánh giá chỉ báo **RSI 14**, nêu bật trạng thái hiện tại của chỉ báo (ví dụ: vùng trung tính, quá mua/bán) và ý nghĩa của nó.\n",
    "\n",
    "    **Đoạn 2 (3 câu): Xác định các Vùng giá Cốt lõi dựa vào giữ liệu lịch sử**\n",
    "        * **Câu 4:** Phân tích và xác định mốc hỗ trợ/kháng cự quan trọng theo **khung Tuần** (kết hợp O-H-L gần nhất và Fibonacci gần nhất).\n",
    "        * **Câu 5:** Phân tích và xác định mốc hỗ trợ/kháng cự quan trọng theo **khung Tháng** (kết hợp O-H-L gần nhất và Fibonacci gần nhất).\n",
    "        * **Câu 6:** Đưa ra kết luận và nhấn mạnh **một vùng hỗ trợ và một vùng kháng cự then chốt nhất** sẽ quyết định xu hướng trong các phiên tới.\n",
    "\n",
    "    **Đoạn 3 (2 câu): Kết luận Kỹ thuật**\n",
    "        * **Câu 7:** Đưa ra một câu nhận định tổng thể, khẳng định xu hướng kỹ thuật chủ đạo hiện tại của chỉ số (tăng, giảm hoặc đi ngang).\n",
    "        * **Câu 8:** Ngay sau đó, chỉ ra các vùng giá hỗ trợ và kháng cự then chốt và giải thích tại sao (ý là các vùng này là của chỉ báo nào và sức mạnh thế nào).\n",
    "\n",
    "**Yêu cầu về ngôn ngữ và trình bày:**\n",
    "    * **Văn phong:** Sắc bén, khách quan, quyết đoán và đa dạng, tránh lặp lại cấu trúc câu.\n",
    "    * **TUYỆT ĐỐI KHÔNG** sử dụng dấu ;.\n",
    "    * **TUYỆT ĐỐI KHÔNG** được viết tên cột dữ liệu gốc và **KHÔNG** có lời chào hay câu dẫn dắt.\n",
    "    * **TUYỆT ĐỐI KHÔNG** sử dụng các từ nối mang tính tổng kết ở đầu câu, cứ đi thẳng vào nội dung chính (ví dụ: \"Nhìn chung\", \"Do đó\", \"Theo đó\", \"Tổng thể\").\n",
    "    * **LUÔN LUÔN** sử dụng ngày dạng \"dd/mm\" trong bài viết khi được yêu cầu.\n",
    "    \"\"\"\n",
    "    return prompt\n",
    "\n",
    "ta_vnindex_comment = generate_content_with_model_dict(standard_model_dict, daily_vnindex_ta_analysis(itd_vnindex_df, vnindex_chart_df), 'daily_vnindex_ta_analysis')\n"
   ]
  },
  {
   "cell_type": "markdown",
   "id": "350eb250",
   "metadata": {},
   "source": [
    "#### Lưu vào MSSQL"
   ]
  },
  {
   "cell_type": "code",
   "execution_count": 14,
   "id": "29f7b53d",
   "metadata": {},
   "outputs": [],
   "source": [
    "daily_9h00_comment_df = pd.DataFrame(\n",
    "    {\n",
    "        \"type\":     [\"overall\", \"ta_vnindex\", \"date\", \"time\"],\n",
    "        \"comment\": [\n",
    "            overall_vnindex_comment,\n",
    "            ta_vnindex_comment,\n",
    "            time_series.iloc[0].item().strftime('%d/%m/%Y'),\n",
    "            time_series.iloc[0].item().strftime('%H:%M')\n",
    "        ],\n",
    "    }\n",
    ")"
   ]
  },
  {
   "cell_type": "code",
   "execution_count": 15,
   "id": "b57e6c93",
   "metadata": {},
   "outputs": [],
   "source": [
    "%%capture\n",
    "save_to_mssql(cts_engine, daily_9h00_comment_df, 'daily_9h00_comment')\n",
    "save_to_mssql(cts_engine, daily_9h00_itd_df, 'daily_9h00_itd')\n",
    "save_to_mssql(cts_engine, daily_9h00_nntd_data_df, 'daily_9h00_nntd_data')\n",
    "save_to_mssql(cts_engine, daily_9h00_nntd_stock_df, 'daily_9h00_nntd_stock')\n",
    "save_to_mssql(cts_engine, daily_9h00_flow_df, 'daily_9h00_flow')"
   ]
  }
 ],
 "metadata": {
  "kernelspec": {
   "display_name": "Python (Report Generator)",
   "language": "python",
   "name": "report-generator-venv"
  },
  "language_info": {
   "codemirror_mode": {
    "name": "ipython",
    "version": 3
   },
   "file_extension": ".py",
   "mimetype": "text/x-python",
   "name": "python",
   "nbconvert_exporter": "python",
   "pygments_lexer": "ipython3",
   "version": "3.12.7"
  }
 },
 "nbformat": 4,
 "nbformat_minor": 5
}
