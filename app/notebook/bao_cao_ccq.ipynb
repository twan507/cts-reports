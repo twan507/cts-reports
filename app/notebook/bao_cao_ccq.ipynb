{
 "cells": [
  {
   "cell_type": "markdown",
   "id": "961b5dbb",
   "metadata": {},
   "source": [
    "# Tạo Output thô sơ cho báo cáo chứng chỉ quỹ"
   ]
  },
  {
   "cell_type": "code",
   "execution_count": 1,
   "id": "12ce3b0b",
   "metadata": {},
   "outputs": [],
   "source": [
    "%%capture\n",
    "\n",
    "import sys\n",
    "import os\n",
    "import importlib\n",
    "sys.path.append(os.path.join(os.path.dirname(os.getcwd()), 'import'))\n",
    "sys.path.append(os.path.join(os.path.dirname(os.getcwd()), 'module'))\n",
    "\n",
    "import import_default\n",
    "import import_database\n",
    "import import_other\n",
    "\n",
    "importlib.reload(import_default)\n",
    "importlib.reload(import_database)\n",
    "importlib.reload(import_other)\n",
    "\n",
    "from import_default import *\n",
    "from import_database import *\n",
    "from import_other import *"
   ]
  },
  {
   "cell_type": "code",
   "execution_count": null,
   "id": "ce5fbc75",
   "metadata": {},
   "outputs": [],
   "source": [
    "ctv_df = pd.read_excel('../data/ccq/cts02_danh_sach_ctv_ccq.xlsx')\n",
    "cn_df = pd.read_excel('../data/ccq/cts03_danh_sach_cn_ccq.xlsx')"
   ]
  },
  {
   "cell_type": "code",
   "execution_count": null,
   "id": "4e722b9c",
   "metadata": {},
   "outputs": [],
   "source": [
    "df = pd.read_excel('../data/ccq/cts01_phi_hop_tac_ccq.xlsx')\n",
    "df.columns"
   ]
  },
  {
   "cell_type": "code",
   "execution_count": null,
   "id": "ac28c274",
   "metadata": {},
   "outputs": [],
   "source": [
    "['no','account_no','investor_name','dksh','fund','trading_date','txn_code','ccq_unit','nav','gross_amount','net_amount','commission','rm_code_cts','rm_name','rm_code_vncapital','branch_code_vncapital','ten_cn_quan_ly_rm','ten_cn_quan_ly_tktt']"
   ]
  },
  {
   "cell_type": "code",
   "execution_count": null,
   "id": "78a1f659",
   "metadata": {},
   "outputs": [],
   "source": [
    "df = df[['account_no','investor_name','dksh','fund','trading_date','order_code','ccq_unit','nav','gross_amount','net_amount','rm_name','rm_code_vncapital','branch_code_vncapital']]\n",
    "df"
   ]
  }
 ],
 "metadata": {
  "kernelspec": {
   "display_name": "venv",
   "language": "python",
   "name": "python3"
  },
  "language_info": {
   "codemirror_mode": {
    "name": "ipython",
    "version": 3
   },
   "file_extension": ".py",
   "mimetype": "text/x-python",
   "name": "python",
   "nbconvert_exporter": "python",
   "pygments_lexer": "ipython3",
   "version": "3.12.7"
  }
 },
 "nbformat": 4,
 "nbformat_minor": 5
}
