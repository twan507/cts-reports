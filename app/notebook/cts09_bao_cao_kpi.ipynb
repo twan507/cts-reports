{
 "cells": [
  {
   "cell_type": "code",
   "execution_count": 1,
   "metadata": {},
   "outputs": [],
   "source": [
    "import pandas as pd\n",
    "from datetime import datetime, timedelta\n",
    "import warnings\n",
    "\n",
    "warnings.filterwarnings(\"ignore\")\n",
    "warnings.simplefilter('ignore', category=FutureWarning)\n",
    "pd.options.mode.chained_assignment = None"
   ]
  },
  {
   "cell_type": "markdown",
   "metadata": {},
   "source": [
    "#### Đọc các file báo cáo"
   ]
  },
  {
   "cell_type": "code",
   "execution_count": 2,
   "metadata": {},
   "outputs": [],
   "source": [
    "df_3128 = pd.read_excel(\"../input/kpi/3128-PROD - Danh sách khách hàng.xlsx\", dtype=object)\n",
    "df_3128.columns = ['chon', 'tai_khoan', 'ten_kh', 'trang_thai_ho_so', 'so_ngay_con_lai', 'gioi_tinh', 'ngay_sinh', 'loai_giay_dksh',\n",
    "                    'so_dksh', 'ngay_cap', 'ngay_het_han', 'noi_cap', 'ma_so_thue', 'ma_doi_tac', 'di_dong', 'email', 'dia_chi', 'ca_nhan_to_chuc', 'trong_nuoc_ngoai_nuoc',\n",
    "                    'quoc_tich', 'nhom_phi_gd', 'khong_thu_thue', 'so_hd', 'nvcs', 'nv_gioi_thieu', 'ql_tien', 'ql_ck', 'ngay_mo', 'trang_thai',\n",
    "                    'ngay_thay_doi_tt', 'ngay_kich_hoat_lai', 'trang_thai_vsd', 'ngay_hoan_hien_ho_so', 'so_ngay_hoan_thien_ho_so', 'tt_lien_ket_cp_ccq', \n",
    "                    'tt_lien_ket_tpdn', 'tt_lien_ket_tpcp', 'tt_lien_ket_ps', 'sid', 'pcod', 'loai_hinh_dau_tu',\n",
    "                    'nghe_nghiep', 'chi_nhanh', 'diem_giao_dich', 'nguoi_mo_tk', 'nguoi_dong_tk', 'thoi_gian_tao', 'nguoi_tao', 'tg_cap_nhat', 'nguoi_cap_nhat']\n",
    "df_3128 = df_3128[['tai_khoan', 'ten_kh', 'trang_thai', 'nvcs', 'diem_giao_dich', 'trang_thai_vsd']]\n",
    "df_3128 = df_3128[~df_3128['trang_thai_vsd'].isin(['3:VSD từ chối', '4:Từ chối bởi Gate'])]\n",
    "df_3128['nvcs'] = df_3128['nvcs'].fillna('Khác')\n",
    "\n",
    "df_3128_tsc = df_3128[df_3128['diem_giao_dich'] == '100_Trụ Sở Chính CTS']\n",
    "df_3128_cn = df_3128[df_3128['diem_giao_dich'] != '100_Trụ Sở Chính CTS']"
   ]
  },
  {
   "cell_type": "code",
   "execution_count": 3,
   "metadata": {},
   "outputs": [],
   "source": [
    "df_3306 = pd.read_excel(\"../input/kpi/3306-PROD - Quản lý lãi tiền gửi không kỳ hạn.xlsx\", dtype=object)\n",
    "df_3306.columns = ['xoa', 'chon', 'tieu_khoan', 'ten_kh', 'nam_thang', 'lai', 'trang_thai', 'ngay_thanh_toan', 'thoi_gian_tao', 'nguoi_tao', 'thoi_gian_cap_nhat', 'nguoi_cap_nhat']\n",
    "df_3306 = df_3306[['tieu_khoan', 'ten_kh', 'trang_thai', 'lai']]\n",
    "df_3306['tai_khoan'] = df_3306['tieu_khoan'].apply(lambda x: x.split('.')[0])"
   ]
  },
  {
   "cell_type": "code",
   "execution_count": 4,
   "metadata": {},
   "outputs": [],
   "source": [
    "df_9388 = pd.read_excel(\"../input/kpi/9388.xls\", dtype=object, skiprows=1)\n",
    "df_9388.columns = ['tieu_khoan','ho_ten','du_no_dau_ki','giai_ngan','lai_tam_tinh','thu_no_goc','thu_lai','du_no_cuoi_ky','du_no_binh_quan']\n",
    "df_9388 = df_9388.dropna()\n",
    "df_9388['tai_khoan'] = df_9388['tieu_khoan'].apply(lambda x: x.split('.')[0])"
   ]
  },
  {
   "cell_type": "code",
   "execution_count": 5,
   "metadata": {},
   "outputs": [],
   "source": [
    "df_9063 = pd.read_excel(\"../input/kpi/9063.xls\", dtype=object, skiprows=1)\n",
    "df_9063.columns = ['ngay_gia_han','tieu_khoan','ho_ten','ngay_vay','ngay_het_han','lan_gia_han','gia_tri_vay','phi_gia_han']\n",
    "df_9063 = df_9063.dropna()\n",
    "df_9063['tai_khoan'] = df_9063['tieu_khoan'].apply(lambda x: x.split('.')[0])"
   ]
  },
  {
   "cell_type": "code",
   "execution_count": 6,
   "metadata": {},
   "outputs": [],
   "source": [
    "df_9850 = pd.read_excel(\"../input/kpi/9850.xls\", dtype=object, skiprows=1)\n",
    "df_9850 = df_9850.dropna()\n",
    "df_9850.columns = ['ngay_vay','tieu_khoan','du_no_dau_ki','du_no_hien_tai','tong_lai_da_thu','thu_lai_ky_truoc','thu_lai_trong_ky','du_thu_lai_cuoi_thang']\n",
    "df_9850['tai_khoan'] = df_9850['tieu_khoan'].apply(lambda x: x.split('.')[0])\n"
   ]
  },
  {
   "cell_type": "code",
   "execution_count": 7,
   "metadata": {},
   "outputs": [],
   "source": [
    "df_9401 = pd.read_excel(\"../input/kpi/9401.xls\", dtype=object, skiprows=1)\n",
    "df_9401 = df_9401.dropna()\n",
    "df_9401.columns = ['ngay_gd','tieu_khoan','khach_hang','mua_ban','ma_ck','khoi_luong','gia_khop','gtgd','phi_giao_dich','thue_tncn']\n",
    "df_9401['tai_khoan'] = df_9401['tieu_khoan'].apply(lambda x: x.split('.')[0])\n"
   ]
  },
  {
   "cell_type": "code",
   "execution_count": 8,
   "metadata": {},
   "outputs": [],
   "source": [
    "df_9270 = pd.read_excel(\"../input/kpi/9270.xls\", dtype=object, skiprows=1).iloc[:,1:]\n",
    "df_9270 = df_9270.dropna()\n",
    "df_9270.columns = ['so_hop_dong','khach_hang','tieu_khoan','so_cmnd','ngay_cap','noi_cap','so_tien_ut_lan_nay','ngay_hd','ngay_ban','ngay_tt','so_ngay','lai_ung_truoc','phi_quan_ly','tong_cong']\n",
    "df_9270['tai_khoan'] = df_9270['tieu_khoan'].apply(lambda x: x.split('.')[0])\n"
   ]
  },
  {
   "cell_type": "code",
   "execution_count": 9,
   "metadata": {},
   "outputs": [],
   "source": [
    "df_9063 = pd.read_excel(\"../input/kpi/9063.xls\", dtype=object, skiprows=1)\n",
    "df_9063 = df_9063.dropna()\n",
    "df_9063.columns = ['ngay_het_han','tieu_khoan','ho_ten','ngay_vay','ngay_het_han','lan_gia_han','gia_tri_vay','phi_gia_han']\n",
    "df_9063['tai_khoan'] = df_9063['tieu_khoan'].apply(lambda x: x.split('.')[0])\n"
   ]
  },
  {
   "cell_type": "code",
   "execution_count": 10,
   "metadata": {},
   "outputs": [],
   "source": [
    "df_9213_da_thu = pd.read_excel(\"../input/kpi/9213_2.xls\", dtype=object, skiprows=1)\n",
    "df_9213_da_thu = df_9213_da_thu.dropna().iloc[:,1:]\n",
    "df_9213_da_thu.columns = ['ho_va_ten','tieu_khoan','so_cmnd','so_tien','ghi_chu']\n",
    "df_9213_da_thu['tai_khoan'] = df_9213_da_thu['tieu_khoan'].astype(str).apply(lambda x: x.split('.')[0])\n",
    "\n",
    "df_9213_con_no = pd.read_excel(\"../input/kpi/9213_3.xls\", dtype=object, skiprows=1)\n",
    "df_9213_con_no = df_9213_con_no.dropna().iloc[:,1:]\n",
    "df_9213_con_no.columns = ['ho_va_ten','tieu_khoan','so_cmnd','so_tien','ghi_chu']\n",
    "df_9213_con_no['tai_khoan'] = df_9213_con_no['tieu_khoan'].astype(str).apply(lambda x: x.split('.')[0])\n",
    "\n",
    "df_9213 = pd.concat([df_9213_da_thu, df_9213_con_no], ignore_index=True)"
   ]
  },
  {
   "cell_type": "code",
   "execution_count": 11,
   "metadata": {},
   "outputs": [],
   "source": [
    "df_9107_cp = pd.read_excel(\"../input/kpi/9107_1.xls\", dtype=object, skiprows=1)\n",
    "df_9107_cp.columns = ['ngay','tieu_khoan','ma_chung_khoan','khoi_luong_mua','gtgd_mua','phi_mua','khoi_luong_ban','gtgd_ban','phi_ban','unknown1','unknown2','unknown3']\n",
    "df_9107_cp = df_9107_cp[['ngay','tieu_khoan','ma_chung_khoan','khoi_luong_mua','gtgd_mua','phi_mua','khoi_luong_ban','gtgd_ban','phi_ban']]\n",
    "df_9107_cp = df_9107_cp.dropna()\n",
    "df_9107_cp['tai_khoan'] = df_9107_cp['tieu_khoan'].astype(str).apply(lambda x: x.split('.')[0])\n",
    "df_9107_cp['tong_phi'] = df_9107_cp['phi_mua'].astype(float) + df_9107_cp['phi_ban'].astype(float)\n",
    "df_9107_cp['tong_gtgd'] = df_9107_cp['gtgd_mua'].astype(float) + df_9107_cp['gtgd_ban'].astype(float)\n",
    "\n",
    "df_9107_tp = pd.read_excel(\"../input/kpi/9107_2.xls\", dtype=object, skiprows=1)\n",
    "df_9107_tp.columns = ['ngay','tieu_khoan','ma_chung_khoan','khoi_luong_mua','gtgd_mua','phi_mua','khoi_luong_ban','gtgd_ban','phi_ban','unknown1','unknown2','unknown3']\n",
    "df_9107_tp = df_9107_tp[['ngay','tieu_khoan','ma_chung_khoan','khoi_luong_mua','gtgd_mua','phi_mua','khoi_luong_ban','gtgd_ban','phi_ban']]\n",
    "df_9107_tp = df_9107_tp.dropna()\n",
    "df_9107_tp['tai_khoan'] = df_9107_tp['tieu_khoan'].astype(str).apply(lambda x: x.split('.')[0])\n",
    "df_9107_tp['tong_phi'] = df_9107_tp['phi_mua'].astype(float) + df_9107_tp['phi_ban'].astype(float)\n",
    "df_9107_tp['tong_gtgd'] = df_9107_tp['gtgd_mua'].astype(float) + df_9107_tp['gtgd_ban'].astype(float)\n"
   ]
  },
  {
   "cell_type": "code",
   "execution_count": 12,
   "metadata": {},
   "outputs": [],
   "source": [
    "df_9004 = pd.read_excel(\"../input/kpi/9004.xls\", dtype=object, skiprows=1)\n",
    "df_9004 = df_9004.dropna()\n",
    "df_9004.columns = ['tieu_khoan', 'ma_ck', 'giao_dich', 'han_che', 'cam_co', 'pt_tai_cong_ty', 'cho_gd', 'han_che_gd', 't_0', 't_1', 't_2', 'tong', 'gia', 'gia_tri']\n",
    "df_9004['tai_khoan'] = df_9004['tieu_khoan'].astype(str).apply(lambda x: x.split('.')[0])"
   ]
  },
  {
   "cell_type": "markdown",
   "metadata": {},
   "source": [
    "#### Xây dựng báo cáo "
   ]
  },
  {
   "cell_type": "markdown",
   "metadata": {},
   "source": [
    "- Báo cáo trụ sở chính"
   ]
  },
  {
   "cell_type": "code",
   "execution_count": 13,
   "metadata": {},
   "outputs": [],
   "source": [
    "statistic_dict = {\n",
    "    'khach_hang_active': [],\n",
    "    'khach_hang_reactive': [],\n",
    "    'khach_hang_new': [],\n",
    "    'du_no_binh_quan': [],\n",
    "    'tong_gtgd': [],\n",
    "    'doanh_thu_phi_giao_dich': [],\n",
    "    'doanh_thu_phi_phai_sinh': [],\n",
    "    'doanh_thu_margin': [],\n",
    "    'doanh_thu_cho_vay_uttbck': [],\n",
    "    'doanh_thu_moi_gioi_khac': [],\n",
    "    'doanh_thu_phi_luu_ki': [],\n",
    "    'doanh_thu_tien_kkh': [],\n",
    "    'khach_hang_sleeping': [],\n",
    "    'khach_hang_close': [],\n",
    "    'doanh_thu_phi_luu_ki_da_thu': [],\n",
    "    'doanh_thu_phi_luu_ki_con_no': [],\n",
    "    'doanh_thu_phi_giao_dich_co_phieu': [],\n",
    "    'doanh_thu_phi_giao_dich_trai_phieu': [],\n",
    "    'gtgd_co_phieu': [],\n",
    "    'gtgd_trai_phieu': [],\n",
    "}\n",
    "\n",
    "nvcs_list = df_3128_tsc['nvcs'].unique().tolist()\n",
    "for ma_nvcs in nvcs_list:\n",
    "\n",
    "    temp_3128 = df_3128_tsc[df_3128_tsc['nvcs'] == ma_nvcs]\n",
    "    statistic_dict['khach_hang_active'].append(temp_3128[temp_3128['trang_thai'] == 'Active'].shape[0])\n",
    "    statistic_dict['khach_hang_reactive'].append(temp_3128[temp_3128['trang_thai'] == 'Reactive'].shape[0])\n",
    "    statistic_dict['khach_hang_new'].append(temp_3128[temp_3128['trang_thai'] == 'New'].shape[0])\n",
    "\n",
    "    tai_khoan_list = temp_3128['tai_khoan'].tolist()\n",
    "\n",
    "    phi_gd_cp = df_9107_cp[df_9107_cp['tai_khoan'].isin(tai_khoan_list)]['tong_phi'].sum()\n",
    "    gtgd_cp = df_9107_cp[df_9107_cp['tai_khoan'].isin(tai_khoan_list)]['tong_gtgd'].sum()\n",
    "    phi_gd_tp = df_9107_tp[df_9107_tp['tai_khoan'].isin(tai_khoan_list)]['tong_phi'].sum()\n",
    "    gtgd_tp = df_9107_tp[df_9107_tp['tai_khoan'].isin(tai_khoan_list)]['tong_gtgd'].sum()\n",
    "\n",
    "    statistic_dict['tong_gtgd'].append(gtgd_cp + gtgd_tp)\n",
    "    statistic_dict['doanh_thu_phi_giao_dich'].append(phi_gd_cp + phi_gd_tp)\n",
    "    statistic_dict['doanh_thu_phi_phai_sinh'].append(df_9401[df_9401['tai_khoan'].isin(tai_khoan_list)]['phi_giao_dich'].sum())\n",
    "    statistic_dict['doanh_thu_cho_vay_uttbck'].append(df_9270[df_9270['tai_khoan'].isin(tai_khoan_list)]['lai_ung_truoc'].sum())\n",
    "    statistic_dict['doanh_thu_moi_gioi_khac'].append(df_9063[df_9063['tai_khoan'].isin(tai_khoan_list)]['phi_gia_han'].sum())\n",
    "    statistic_dict['doanh_thu_phi_luu_ki'].append(df_9213[df_9213['tai_khoan'].isin(tai_khoan_list)]['so_tien'].sum())\n",
    "    statistic_dict['doanh_thu_tien_kkh'].append(df_3306[df_3306['tai_khoan'].isin(tai_khoan_list)]['lai'].sum())\n",
    "\n",
    "    temp_9580 = df_9850[df_9850['tai_khoan'].isin(tai_khoan_list)]\n",
    "    statistic_dict['doanh_thu_margin'].append(temp_9580['thu_lai_trong_ky'].sum() + temp_9580['du_thu_lai_cuoi_thang'].sum())\n",
    "    statistic_dict['du_no_binh_quan'].append(df_9388[df_9388['tai_khoan'].isin(tai_khoan_list)]['du_no_binh_quan'].sum())\n",
    "\n",
    "    statistic_dict['khach_hang_sleeping'].append(temp_3128[temp_3128['trang_thai'] == 'Sleeping'].shape[0])\n",
    "    statistic_dict['khach_hang_close'].append(temp_3128[temp_3128['trang_thai'] == 'Close'].shape[0])\n",
    "    statistic_dict['doanh_thu_phi_luu_ki_da_thu'].append(df_9213_da_thu[df_9213_da_thu['tai_khoan'].isin(tai_khoan_list)]['so_tien'].sum())\n",
    "    statistic_dict['doanh_thu_phi_luu_ki_con_no'].append(df_9213_con_no[df_9213_con_no['tai_khoan'].isin(tai_khoan_list)]['so_tien'].sum())\n",
    "    statistic_dict['doanh_thu_phi_giao_dich_co_phieu'].append(phi_gd_cp)\n",
    "    statistic_dict['doanh_thu_phi_giao_dich_trai_phieu'].append(phi_gd_tp)\n",
    "    statistic_dict['gtgd_co_phieu'].append(gtgd_cp)\n",
    "    statistic_dict['gtgd_trai_phieu'].append(gtgd_tp)\n",
    "    \n",
    "tsc_df = pd.DataFrame.from_dict(statistic_dict, orient='index', columns=nvcs_list)"
   ]
  },
  {
   "cell_type": "markdown",
   "metadata": {},
   "source": [
    "- Báo cáo chi nhánh"
   ]
  },
  {
   "cell_type": "code",
   "execution_count": 14,
   "metadata": {},
   "outputs": [],
   "source": [
    "statistic_dict = {\n",
    "    'khach_hang_active': [],\n",
    "    'khach_hang_reactive': [],\n",
    "    'khach_hang_new': [],\n",
    "    'du_no_binh_quan': [],\n",
    "    'tong_gtgd': [],\n",
    "    'doanh_thu_phi_giao_dich': [],\n",
    "    'doanh_thu_phi_phai_sinh': [],\n",
    "    'doanh_thu_margin': [],\n",
    "    'doanh_thu_cho_vay_uttbck': [],\n",
    "    'doanh_thu_moi_gioi_khac': [],\n",
    "    'doanh_thu_phi_luu_ki': [],\n",
    "    'doanh_thu_tien_kkh': [],\n",
    "    'khach_hang_sleeping': [],\n",
    "    'khach_hang_close': [],\n",
    "    'doanh_thu_phi_luu_ki_da_thu': [],\n",
    "    'doanh_thu_phi_luu_ki_con_no': [],\n",
    "    'doanh_thu_phi_giao_dich_co_phieu': [],\n",
    "    'doanh_thu_phi_giao_dich_trai_phieu': [],\n",
    "    'gtgd_co_phieu': [],\n",
    "    'gtgd_trai_phieu': [],\n",
    "}\n",
    "\n",
    "cn_list = df_3128_cn[df_3128_cn['diem_giao_dich'] != '100_Trụ Sở Chính CTS']['diem_giao_dich'].unique().tolist()\n",
    "for ma_cn in cn_list:\n",
    "\n",
    "    temp_3128 = df_3128_cn[df_3128_cn['diem_giao_dich'] == ma_cn]\n",
    "    statistic_dict['khach_hang_active'].append(temp_3128[temp_3128['trang_thai'] == 'Active'].shape[0])\n",
    "    statistic_dict['khach_hang_reactive'].append(temp_3128[temp_3128['trang_thai'] == 'Reactive'].shape[0])\n",
    "    statistic_dict['khach_hang_new'].append(temp_3128[temp_3128['trang_thai'] == 'New'].shape[0])\n",
    "\n",
    "    tai_khoan_list = temp_3128['tai_khoan'].tolist()\n",
    "    \n",
    "    phi_gd_cp = df_9107_cp[df_9107_cp['tai_khoan'].isin(tai_khoan_list)]['tong_phi'].sum()\n",
    "    gtgd_cp = df_9107_cp[df_9107_cp['tai_khoan'].isin(tai_khoan_list)]['tong_gtgd'].sum()\n",
    "    phi_gd_tp = df_9107_tp[df_9107_tp['tai_khoan'].isin(tai_khoan_list)]['tong_phi'].sum()\n",
    "    gtgd_tp = df_9107_tp[df_9107_tp['tai_khoan'].isin(tai_khoan_list)]['tong_gtgd'].sum()\n",
    "\n",
    "    statistic_dict['tong_gtgd'].append(gtgd_cp + gtgd_tp)\n",
    "    statistic_dict['doanh_thu_phi_giao_dich'].append(phi_gd_cp + phi_gd_tp)\n",
    "    statistic_dict['doanh_thu_phi_phai_sinh'].append(df_9401[df_9401['tai_khoan'].isin(tai_khoan_list)]['phi_giao_dich'].sum())\n",
    "    statistic_dict['doanh_thu_cho_vay_uttbck'].append(df_9270[df_9270['tai_khoan'].isin(tai_khoan_list)]['lai_ung_truoc'].sum())\n",
    "    statistic_dict['doanh_thu_moi_gioi_khac'].append(df_9063[df_9063['tai_khoan'].isin(tai_khoan_list)]['phi_gia_han'].sum())\n",
    "    statistic_dict['doanh_thu_phi_luu_ki'].append(df_9213[df_9213['tai_khoan'].isin(tai_khoan_list)]['so_tien'].sum())\n",
    "    statistic_dict['doanh_thu_tien_kkh'].append(df_3306[df_3306['tai_khoan'].isin(tai_khoan_list)]['lai'].sum())\n",
    "\n",
    "    temp_9850 = df_9850[df_9850['tai_khoan'].isin(tai_khoan_list)]\n",
    "    statistic_dict['doanh_thu_margin'].append(temp_9850['thu_lai_trong_ky'].sum() + temp_9850['du_thu_lai_cuoi_thang'].sum())\n",
    "    statistic_dict['du_no_binh_quan'].append(df_9388[df_9388['tai_khoan'].isin(tai_khoan_list)]['du_no_binh_quan'].sum())\n",
    "    \n",
    "    statistic_dict['khach_hang_sleeping'].append(temp_3128[temp_3128['trang_thai'] == 'Sleeping'].shape[0])\n",
    "    statistic_dict['khach_hang_close'].append(temp_3128[temp_3128['trang_thai'] == 'Close'].shape[0])\n",
    "    statistic_dict['doanh_thu_phi_luu_ki_da_thu'].append(df_9213_da_thu[df_9213_da_thu['tai_khoan'].isin(tai_khoan_list)]['so_tien'].sum())\n",
    "    statistic_dict['doanh_thu_phi_luu_ki_con_no'].append(df_9213_con_no[df_9213_con_no['tai_khoan'].isin(tai_khoan_list)]['so_tien'].sum())\n",
    "    statistic_dict['doanh_thu_phi_giao_dich_co_phieu'].append(phi_gd_cp)\n",
    "    statistic_dict['doanh_thu_phi_giao_dich_trai_phieu'].append(phi_gd_tp)\n",
    "    statistic_dict['gtgd_co_phieu'].append(gtgd_cp)\n",
    "    statistic_dict['gtgd_trai_phieu'].append(gtgd_tp)\n",
    "\n",
    "cn_df = pd.DataFrame.from_dict(statistic_dict, orient='index', columns=cn_list)"
   ]
  },
  {
   "cell_type": "markdown",
   "metadata": {},
   "source": [
    "- Báo cáo tra cứu"
   ]
  },
  {
   "cell_type": "code",
   "execution_count": 27,
   "metadata": {},
   "outputs": [],
   "source": [
    "tai_khoan_df = pd.DataFrame()\n",
    "\n",
    "nvcs_list = df_3128_tsc['nvcs'].unique().tolist()\n",
    "for ma_nvcs in nvcs_list:\n",
    "    temp_df = df_3128_tsc[df_3128_tsc['nvcs'] == ma_nvcs].set_index('tai_khoan')\n",
    "    tai_khoan_list = temp_df.index.tolist()\n",
    "\n",
    "    grouped_9107_gtgd_cp = df_9107_cp.groupby('tai_khoan')['tong_gtgd'].sum()\n",
    "    temp_df['gtgd_cp'] = temp_df.index.map(grouped_9107_gtgd_cp).fillna(0)\n",
    "\n",
    "    grouped_9107_gtgd_tp = df_9107_tp.groupby('tai_khoan')['tong_gtgd'].sum()\n",
    "    temp_df['gtgd_tp'] = temp_df.index.map(grouped_9107_gtgd_tp).fillna(0)\n",
    "\n",
    "    grouped_9107_phi_cp = df_9107_cp.groupby('tai_khoan')['tong_phi'].sum()\n",
    "    temp_df['phi_giao_dich_cp'] = temp_df.index.map(grouped_9107_phi_cp).fillna(0)\n",
    "\n",
    "    grouped_9107_phi_tp = df_9107_tp.groupby('tai_khoan')['tong_phi'].sum()\n",
    "    temp_df['phi_giao_dich_tp'] = temp_df.index.map(grouped_9107_phi_tp).fillna(0)\n",
    "\n",
    "    grouped_9401 = df_9401.groupby('tai_khoan')['phi_giao_dich'].sum()\n",
    "    temp_df['phi_giao_dich_ps'] = temp_df.index.map(grouped_9401).fillna(0)\n",
    "\n",
    "    grouped_9270 = df_9270.groupby('tai_khoan')['lai_ung_truoc'].sum()\n",
    "    temp_df['phi_uttbck'] = temp_df.index.map(grouped_9270).fillna(0)\n",
    "\n",
    "    grouped_9063 = df_9063.groupby('tai_khoan')['phi_gia_han'].sum()\n",
    "    temp_df['phi_gia_han'] = temp_df.index.map(grouped_9063).fillna(0)\n",
    "\n",
    "    grouped_9850 = df_9850.groupby('tai_khoan')[['thu_lai_trong_ky', 'du_thu_lai_cuoi_thang']].sum()\n",
    "    grouped_9850_sum = grouped_9850['thu_lai_trong_ky'] + grouped_9850['du_thu_lai_cuoi_thang']\n",
    "    temp_df['doanh_thu_margin'] = temp_df.index.map(grouped_9850_sum).fillna(0)\n",
    "\n",
    "    grouped_9388 = df_9388.groupby('tai_khoan')['du_no_binh_quan'].sum()\n",
    "    temp_df['du_no_binh_quan'] = temp_df.index.map(grouped_9388).fillna(0)\n",
    "\n",
    "    tai_khoan_df = pd.concat([tai_khoan_df, temp_df], axis=0)\n",
    "\n",
    "cn_list = df_3128_cn[df_3128_cn['diem_giao_dich'] != '100_Trụ Sở Chính CTS']['diem_giao_dich'].unique().tolist()\n",
    "for ma_cn in cn_list:\n",
    "    temp_df = df_3128_cn[df_3128_cn['diem_giao_dich'] == ma_cn].set_index('tai_khoan')\n",
    "    tai_khoan_list = temp_df.index.tolist()\n",
    "\n",
    "    grouped_9107_gtgd_cp = df_9107_cp.groupby('tai_khoan')['tong_gtgd'].sum()\n",
    "    temp_df['gtgd_cp'] = temp_df.index.map(grouped_9107_gtgd_cp).fillna(0)\n",
    "\n",
    "    grouped_9107_gtgd_tp = df_9107_tp.groupby('tai_khoan')['tong_gtgd'].sum()\n",
    "    temp_df['gtgd_tp'] = temp_df.index.map(grouped_9107_gtgd_tp).fillna(0)\n",
    "\n",
    "    grouped_9107_phi_cp = df_9107_cp.groupby('tai_khoan')['tong_phi'].sum()\n",
    "    temp_df['phi_giao_dich_cp'] = temp_df.index.map(grouped_9107_phi_cp).fillna(0)\n",
    "\n",
    "    grouped_9107_phi_tp = df_9107_tp.groupby('tai_khoan')['tong_phi'].sum()\n",
    "    temp_df['phi_giao_dich_tp'] = temp_df.index.map(grouped_9107_phi_tp).fillna(0)\n",
    "\n",
    "    grouped_9401 = df_9401.groupby('tai_khoan')['phi_giao_dich'].sum()\n",
    "    temp_df['phi_giao_dich_ps'] = temp_df.index.map(grouped_9401).fillna(0)\n",
    "\n",
    "    grouped_9270 = df_9270.groupby('tai_khoan')['lai_ung_truoc'].sum()\n",
    "    temp_df['phi_uttbck'] = temp_df.index.map(grouped_9270).fillna(0)\n",
    "    \n",
    "    grouped_9063 = df_9063.groupby('tai_khoan')['phi_gia_han'].sum()\n",
    "    temp_df['phi_gia_han'] = temp_df.index.map(grouped_9063).fillna(0)\n",
    "\n",
    "    grouped_9850 = df_9850.groupby('tai_khoan')[['thu_lai_trong_ky', 'du_thu_lai_cuoi_thang']].sum()\n",
    "    grouped_9850_sum = grouped_9850['thu_lai_trong_ky'] + grouped_9850['du_thu_lai_cuoi_thang']\n",
    "    temp_df['doanh_thu_margin'] = temp_df.index.map(grouped_9850_sum).fillna(0)\n",
    "\n",
    "    grouped_9388 = df_9388.groupby('tai_khoan')['du_no_binh_quan'].sum()\n",
    "    temp_df['du_no_binh_quan'] = temp_df.index.map(grouped_9388).fillna(0)\n",
    "\n",
    "    tai_khoan_df = pd.concat([tai_khoan_df, temp_df], axis=0)\n",
    "\n",
    "tai_khoan_df = tai_khoan_df.reset_index()\n",
    "tai_khoan_df = tai_khoan_df.groupby(['diem_giao_dich','tai_khoan','ten_kh'], as_index=False).agg({\n",
    "    'nvcs': 'last',             \n",
    "    'gtgd_cp': 'sum',\n",
    "    'gtgd_tp': 'sum',\n",
    "    'phi_giao_dich_cp': 'sum',\n",
    "    'phi_giao_dich_tp': 'sum',\n",
    "    'phi_giao_dich_ps': 'sum',\n",
    "    'phi_uttbck': 'sum',\n",
    "    'phi_gia_han': 'sum',\n",
    "    'doanh_thu_margin': 'sum',\n",
    "    'du_no_binh_quan': 'sum'\n",
    "})\n",
    "tai_khoan_df = tai_khoan_df[['nvcs','diem_giao_dich','tai_khoan','ten_kh','gtgd_cp','gtgd_tp','phi_giao_dich_cp','phi_giao_dich_tp','phi_giao_dich_ps','phi_uttbck','phi_gia_han','doanh_thu_margin','du_no_binh_quan']]\n",
    "\n",
    "tai_khoan_df['nav_kh'] = tai_khoan_df['tai_khoan'].map(df_9004.groupby('tai_khoan')['gia_tri'].sum()).fillna(0)\n",
    "tai_khoan_df['type_kh'] = tai_khoan_df['nav_kh'].apply(lambda x:\n",
    "                                                    'V4' if x > 20000000000 else\n",
    "                                                    'V3' if 10000000000 < x <= 20000000000 else\n",
    "                                                    'V2' if 2000000000 < x <= 10000000000 else\n",
    "                                                    'V1' if 1000000 < x <= 2000000000 else\n",
    "                                                    'V0')\n"
   ]
  },
  {
   "cell_type": "code",
   "execution_count": 56,
   "metadata": {},
   "outputs": [],
   "source": [
    "tsc_count_df = tai_khoan_df[tai_khoan_df['diem_giao_dich'] == '100_Trụ Sở Chính CTS'][['nvcs', 'type_kh']]\n",
    "tsc_count_df = pd.crosstab(tsc_count_df['nvcs'], tsc_count_df['type_kh']).reset_index().rename(columns={'nvcs': 'id'})\n",
    "tsc_count_df.columns.name = None\n",
    "\n",
    "cn_count_df = tai_khoan_df[tai_khoan_df['diem_giao_dich'] != '100_Trụ Sở Chính CTS'][['diem_giao_dich', 'type_kh']]\n",
    "cn_count_df = pd.crosstab(cn_count_df['diem_giao_dich'], cn_count_df['type_kh']).reset_index().rename(columns={'diem_giao_dich': 'id'})\n",
    "cn_count_df.columns.name = None\n",
    "\n",
    "tk_count_df = pd.concat([tsc_count_df, cn_count_df], axis=0).fillna(0)"
   ]
  },
  {
   "cell_type": "markdown",
   "metadata": {},
   "source": [
    "- Lưu vào excel"
   ]
  },
  {
   "cell_type": "code",
   "execution_count": 59,
   "metadata": {},
   "outputs": [
    {
     "name": "stdout",
     "output_type": "stream",
     "text": [
      "✅ Tạo thành công file ../output/kpi/cts-kpi-report.xlsx\n"
     ]
    }
   ],
   "source": [
    "date_df = pd.DataFrame({\n",
    "    'ngay_bat_dau': [df_9107_cp['ngay'].min()],\n",
    "    'ngay_ket_thuc': [df_9107_cp['ngay'].max()]\n",
    "})\n",
    "\n",
    "with pd.ExcelWriter('../output/kpi/cts-kpi-report.xlsx', engine='openpyxl') as writer:\n",
    "    tsc_df.to_excel(writer, sheet_name='Trụ Sở Chính')\n",
    "    cn_df.to_excel(writer, sheet_name='Chi Nhánh')\n",
    "    tai_khoan_df.to_excel(writer, sheet_name='Thống kê tài khoản', index=False)\n",
    "    tk_count_df.to_excel(writer, sheet_name='Thống kê loại khách hàng', index=False)\n",
    "    date_df.to_excel(writer, sheet_name='Ngày báo cáo', index=False)\n",
    "\n",
    "print('✅ Tạo thành công file ../output/kpi/cts-kpi-report.xlsx')"
   ]
  }
 ],
 "metadata": {
  "kernelspec": {
   "display_name": "base",
   "language": "python",
   "name": "python3"
  },
  "language_info": {
   "codemirror_mode": {
    "name": "ipython",
    "version": 3
   },
   "file_extension": ".py",
   "mimetype": "text/x-python",
   "name": "python",
   "nbconvert_exporter": "python",
   "pygments_lexer": "ipython3",
   "version": "3.12.7"
  }
 },
 "nbformat": 4,
 "nbformat_minor": 2
}
