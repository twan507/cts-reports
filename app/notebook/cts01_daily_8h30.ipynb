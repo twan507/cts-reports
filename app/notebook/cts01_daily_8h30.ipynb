{
 "cells": [
  {
   "cell_type": "markdown",
   "id": "6a9be442",
   "metadata": {},
   "source": [
    "# AI cập nhật dữ liệu mới nhất cho bản tin 8h30"
   ]
  },
  {
   "cell_type": "code",
   "execution_count": 59,
   "id": "e2882d76",
   "metadata": {},
   "outputs": [],
   "source": [
    "import sys\n",
    "import os\n",
    "import importlib\n",
    "sys.path.append(os.path.join(os.path.dirname(os.getcwd()), 'import'))\n",
    "sys.path.append(os.path.join(os.path.dirname(os.getcwd()), 'module'))\n",
    "\n",
    "import import_default\n",
    "import import_database\n",
    "import import_other\n",
    "import get_and_crawl_data\n",
    "import gemini_model\n",
    "import plotly_and_upload\n",
    "\n",
    "importlib.reload(import_default)\n",
    "importlib.reload(import_database)\n",
    "importlib.reload(import_other)\n",
    "importlib.reload(get_and_crawl_data)\n",
    "importlib.reload(gemini_model)\n",
    "importlib.reload(plotly_and_upload)\n",
    "\n",
    "from import_default import *\n",
    "from import_database import *\n",
    "from import_other import *\n",
    "from get_and_crawl_data import *\n",
    "from gemini_model import *\n",
    "from plotly_and_upload import *"
   ]
  },
  {
   "cell_type": "markdown",
   "id": "6483c5e1",
   "metadata": {},
   "source": [
    "### Phần dữ liệu lịch sử các ticker"
   ]
  },
  {
   "cell_type": "markdown",
   "id": "ee5140b1",
   "metadata": {},
   "source": [
    "#### Dữ liệu từ Mongo và AlphaVantage"
   ]
  },
  {
   "cell_type": "markdown",
   "id": "b45db089",
   "metadata": {},
   "source": [
    "- Lấy dữ liệu từ Mongo"
   ]
  },
  {
   "cell_type": "code",
   "execution_count": null,
   "id": "34672717",
   "metadata": {},
   "outputs": [],
   "source": [
    "date_series = get_mongo_collection(ref_db, 'date_series')\n",
    "time_series = get_mongo_collection(ref_db, 'time_series')\n",
    "name_map = get_mongo_collection(ref_db, \"name_map\")\n",
    "name_map_dict = name_map.set_index('code')['full_name'].to_dict()\n",
    "full_stock_classification_df = get_mongo_collection(ref_db, 'full_stock_classification')"
   ]
  },
  {
   "cell_type": "code",
   "execution_count": null,
   "id": "edf0fe9c",
   "metadata": {},
   "outputs": [],
   "source": [
    "projection = {\"_id\": 0,\"date\": 1,\"ticker\": 1,\"open\": 1,\"high\": 1,\"low\": 1,\"close\": 1,'volume': 1}\n",
    "today_index_df = get_mongo_collection(stock_db, \"today_index\", projection=projection)\n",
    "history_index_df = get_mongo_collection(stock_db, \"history_index\", projection=projection)\n",
    "full_index_df = pd.concat([today_index_df, history_index_df], axis=0, ignore_index=True)\n",
    "\n",
    "other_ticker_df = get_mongo_collection(stock_db, 'other_ticker', projection=projection)\n",
    "nntd_index_df = get_mongo_collection(stock_db, 'nntd_index')\n",
    "nntd_stock_df = get_mongo_collection(stock_db, 'nntd_stock')"
   ]
  },
  {
   "cell_type": "markdown",
   "id": "3ea78013",
   "metadata": {},
   "source": [
    "- Lấy dữ liệu từ AlphaVantage"
   ]
  },
  {
   "cell_type": "code",
   "execution_count": null,
   "id": "804e5b3a",
   "metadata": {},
   "outputs": [],
   "source": [
    "# Lấy dữ liệu các tỷ giá cần thiết từ Alpha Vantage\n",
    "fx_pairs = [\n",
    "    ('USD', 'VND', 'USD_VND'),\n",
    "    ('USD', 'SEK', 'USD_SEK')\n",
    "]\n",
    "\n",
    "data_frames = []\n",
    "for from_curr, to_curr, col_name in fx_pairs:\n",
    "    df = get_data_from_av(from_curr, to_curr, col_name)\n",
    "    if df is not None:\n",
    "        data_frames.append(df)\n",
    "\n",
    "av_ticker_df = pd.concat(data_frames, axis=1)\n",
    "av_ticker_df = av_ticker_df.fillna(method='ffill').dropna()"
   ]
  },
  {
   "cell_type": "markdown",
   "id": "bd8ddf02",
   "metadata": {},
   "source": [
    "#### Chuẩn bị các dữ liệu cần thiết"
   ]
  },
  {
   "cell_type": "markdown",
   "id": "48a94490",
   "metadata": {},
   "source": [
    "- Tính toán DXY từ các cặp tiền"
   ]
  },
  {
   "cell_type": "code",
   "execution_count": null,
   "id": "86a197bb",
   "metadata": {},
   "outputs": [],
   "source": [
    "currency_config = {\n",
    "    'EUR_USD': {'source': 'other_ticker_df', 'weight': -0.576},\n",
    "    'USD_JPY': {'source': 'other_ticker_df', 'weight': 0.136},\n",
    "    'GBP_USD': {'source': 'other_ticker_df', 'weight': -0.119},\n",
    "    'USD_CAD': {'source': 'other_ticker_df', 'weight': 0.091},\n",
    "    'USD_CHF': {'source': 'other_ticker_df', 'weight': 0.036},\n",
    "    'USD_SEK': {'source': 'av_ticker_df', 'weight': 0.042}\n",
    "}\n",
    "\n",
    "# Tạo DataFrame cho mỗi cặp tiền tệ\n",
    "currency_data = {}\n",
    "for pair, config in currency_config.items():\n",
    "    if config['source'] == 'other_ticker_df':\n",
    "        df = other_ticker_df[other_ticker_df['ticker'] == pair][['date', 'close']].set_index('date')\n",
    "        df.columns = [pair]\n",
    "    else:\n",
    "        df = av_ticker_df[['USD_SEK']].copy()\n",
    "        df.columns = [pair]\n",
    "    \n",
    "    currency_data[pair] = df\n",
    "\n",
    "# Kết hợp tất cả dữ liệu tỷ giá\n",
    "dxy_calculation_df = pd.concat(currency_data.values(), axis=1, sort=True)\n",
    "dxy_calculation_df = dxy_calculation_df.sort_index().bfill().ffill()\n",
    "\n",
    "# Tính toán chỉ số DXY theo công thức chuẩn\n",
    "dxy_base = 50.14348112\n",
    "dxy_calculation = dxy_base\n",
    "for pair, config in currency_config.items():\n",
    "    dxy_calculation *= (dxy_calculation_df[pair] ** config['weight'])\n",
    "\n",
    "dxy_calculation_df['ticker'] = 'DXY'\n",
    "dxy_calculation_df['close'] = dxy_calculation\n",
    "dxy_calculation_df = dxy_calculation_df[['ticker', 'close']].reset_index()"
   ]
  },
  {
   "cell_type": "markdown",
   "id": "eeb0a080",
   "metadata": {},
   "source": [
    "- Chuẩn bị tỉ giá USD/VND"
   ]
  },
  {
   "cell_type": "code",
   "execution_count": null,
   "id": "2965394e",
   "metadata": {},
   "outputs": [],
   "source": [
    "usd_vnd_df = av_ticker_df[['USD_VND']].rename(columns={'USD_VND': 'close'})\n",
    "usd_vnd_df['ticker'] = 'USD_VND'\n",
    "usd_vnd_df = usd_vnd_df.reset_index()"
   ]
  },
  {
   "cell_type": "markdown",
   "id": "94c74f44",
   "metadata": {},
   "source": [
    "- Ghép tất cả vào ticker_dict"
   ]
  },
  {
   "cell_type": "code",
   "execution_count": null,
   "id": "adeb5812",
   "metadata": {},
   "outputs": [],
   "source": [
    "FINAL_DAYS = 20\n",
    "TICKER_CONFIG = {\n",
    "    # Chỉ số Việt Nam\n",
    "    'VNINDEX':   {'df': full_index_df, 'market': 'hose', 'type': 'vn'},\n",
    "    'VN30':      {'df': full_index_df, 'market': 'hose', 'type': 'vn'},\n",
    "    'VN30F1M':   {'df': full_index_df, 'market': 'derivatives', 'type': 'vn'},\n",
    "    \n",
    "    # Chỉ số quốc tế\n",
    "    'DJI':       {'df': other_ticker_df, 'market': 'us', 'type': 'international'},\n",
    "    'FTSE':      {'df': other_ticker_df, 'market': 'eu', 'type': 'international'},\n",
    "    'SSEC':      {'df': other_ticker_df, 'market': 'asia', 'type': 'international'},\n",
    "    \n",
    "    # Fx\n",
    "    'XAU_USD':   {'df': other_ticker_df, 'market': 'commodity', 'type': 'other'},\n",
    "    'DXY':       {'df': dxy_calculation_df, 'market': 'fx', 'type': 'other'},\n",
    "    'USD_VND':   {'df': usd_vnd_df, 'market': 'fx', 'type': 'other'},\n",
    "}\n",
    "FINAL_COLUMNS = ['date', 'ticker', 'close', '1d_diff', '1d_change', 'cum_change', 'market', 'type']\n",
    "\n",
    "\n",
    "# 2. XỬ LÝ THEO LUỒNG MỚI\n",
    "final_df_list = []\n",
    "for ticker, config in TICKER_CONFIG.items():\n",
    "    # Lấy và sắp xếp dữ liệu nguồn\n",
    "    source_df = config['df']\n",
    "    temp_df = source_df[source_df['ticker'] == ticker].sort_values('date', ascending=False).copy()\n",
    "\n",
    "    # TÍNH TOÁN TRƯỚC trên toàn bộ chuỗi dữ liệu đã sắp xếp để đảm bảo chính xác\n",
    "    temp_df['1d_diff'] = temp_df['close'][::-1].diff()[::-1].fillna(0)\n",
    "    temp_df['1d_change'] = temp_df['close'][::-1].pct_change()[::-1].fillna(0)\n",
    "    \n",
    "    # Gán các thông tin phân loại\n",
    "    temp_df['market'] = config['market']\n",
    "    temp_df['type'] = config['type']\n",
    "\n",
    "    # CẮT 1 LẦN DUY NHẤT về 20 ngày sau khi đã tính toán xong\n",
    "    temp_df = temp_df.head(FINAL_DAYS)\n",
    "\n",
    "    # Tính toán cuối cùng trên 20 dòng đã cắt\n",
    "    temp_df['cum_change'] = temp_df['1d_change'][::-1].cumsum()[::-1]\n",
    "\n",
    "    final_df_list.append(temp_df)\n",
    "\n",
    "# 3. KẾT QUẢ CUỐI CÙNG\n",
    "daily_8h30_data_df = pd.concat(final_df_list, ignore_index=True)[FINAL_COLUMNS]\n"
   ]
  },
  {
   "cell_type": "markdown",
   "id": "807f4ec0",
   "metadata": {},
   "source": [
    "### Phần dữ liệu cho tin tức"
   ]
  },
  {
   "cell_type": "code",
   "execution_count": null,
   "id": "22fb9568",
   "metadata": {},
   "outputs": [],
   "source": [
    "# Thiết lập kết nối với cơ sở dữ liệu\n",
    "genai.configure(api_key=load_env(\"GEMINI_API\"))\n",
    "\n",
    "# Sắp xếp danh sách model theo thứ tự ổn định\n",
    "fast_model_list = select_fast_models(get_gemini_models())\n",
    "standard_model_list = select_standard_models(get_gemini_models())\n",
    "# Tạo dictionary cho các model\n",
    "fast_model_dict = {model_name: genai.GenerativeModel(model_name) for model_name in fast_model_list}\n",
    "standard_model_dict = {model_name: genai.GenerativeModel(model_name) for model_name in standard_model_list}"
   ]
  },
  {
   "cell_type": "code",
   "execution_count": 60,
   "id": "ccd07747",
   "metadata": {},
   "outputs": [],
   "source": [
    "vietstock_rss_url_dict = {\n",
    "    'trong_nuoc': {\n",
    "        'vi_mo': 'https://vietstock.vn/761/kinh-te/vi-mo.rss',\n",
    "    },\n",
    "    'quoc_te': {\n",
    "        'tai_chinh_quoc_te': 'https://vietstock.vn/772/the-gioi/tai-chinh-quoc-te.rss',\n",
    "        'chung_khoan_the_gioi': 'https://vietstock.vn/773/the-gioi/chung-khoan-the-gioi.rss',\n",
    "    },\n",
    "    'doanh_nghiep': {\n",
    "        'hoat_dong_kinh_doanh': 'https://vietstock.vn/737/doanh-nghiep/hoat-dong-kinh-doanh.rss',\n",
    "    }\n",
    "}\n",
    "\n",
    "cafef_rss_url_dict = {\n",
    "    'trong_nuoc': {\n",
    "        'kinh_te_vi_mo': 'https://cafef.vn/vi-mo-dau-tu.chn',\n",
    "        'chung_khoan': 'https://cafef.vn/thi-truong-chung-khoan.chn',\n",
    "    },\n",
    "    'quoc_te': {\n",
    "        'tai_chinh_quoc_te': 'https://cafef.vn/tai-chinh-quoc-te.chn',\n",
    "    },\n",
    "    'doanh_nghiep': {\n",
    "        'doanh_nghiep': 'https://cafef.vn/doanh-nghiep.chn',\n",
    "    }\n",
    "}\n",
    "\n",
    "vietnambiz_rss_url_dict = {\n",
    "    'trong_nuoc': {\n",
    "        'chung_khoan': 'https://vietnambiz.vn/chung-khoan/thi-truong.htm',\n",
    "        'nha_dat': 'https://vietnambiz.vn/nha-dat/thi-truong.htm',\n",
    "    },\n",
    "    'quoc_te': {\n",
    "        'tai_chinh_chung_khoan': 'https://vietnambiz.vn/quoc-te/tai-chinh-chung-khoan.htm',\n",
    "    },\n",
    "    'doanh_nghiep': {\n",
    "        'ket_qua_kinh_doanh': 'https://vietnambiz.vn/doanh-nghiep/ket-qua-kinh-doanh.htm',\n",
    "    }\n",
    "}"
   ]
  },
  {
   "cell_type": "code",
   "execution_count": 61,
   "id": "6d417bda",
   "metadata": {},
   "outputs": [],
   "source": [
    "vietstock_count_dict = {\n",
    "    'trong_nuoc': {\n",
    "        'vi_mo': 2,\n",
    "    },\n",
    "    'quoc_te': {\n",
    "        'tai_chinh_quoc_te': 2,\n",
    "        'chung_khoan_the_gioi': 2,\n",
    "    },\n",
    "    'doanh_nghiep': {\n",
    "        'hoat_dong_kinh_doanh': 4,\n",
    "    }\n",
    "}\n",
    "\n",
    "cafef_count_dict = {\n",
    "    'trong_nuoc': {\n",
    "        'kinh_te_vi_mo': 2,\n",
    "        'chung_khoan': 2,\n",
    "    },\n",
    "    'quoc_te': {\n",
    "        'tai_chinh_quoc_te': 3,\n",
    "    },\n",
    "    'doanh_nghiep': {\n",
    "        'doanh_nghiep': 3,\n",
    "    }\n",
    "}\n",
    "\n",
    "vietnambiz_count_dict = {\n",
    "    'trong_nuoc': {\n",
    "        'chung_khoan': 2,\n",
    "        'nha_dat': 2,\n",
    "    },\n",
    "    'quoc_te': {\n",
    "        'tai_chinh_chung_khoan': 3\n",
    "    },\n",
    "    'doanh_nghiep': {\n",
    "        'ket_qua_kinh_doanh': 3\n",
    "    }\n",
    "}"
   ]
  },
  {
   "cell_type": "code",
   "execution_count": 62,
   "id": "e2e03292",
   "metadata": {},
   "outputs": [],
   "source": [
    "full_news_df_dict = {}\n",
    "\n",
    "# Khởi tạo dictionary với list rỗng cho mỗi news_type\n",
    "for news_type in ['trong_nuoc', 'quoc_te', 'doanh_nghiep']:\n",
    "    full_news_df_dict[news_type] = []\n",
    "\n",
    "# Lấy tin từ VietStock\n",
    "for news_type, url_dict in vietstock_rss_url_dict.items():\n",
    "    for category_name, url in url_dict.items():\n",
    "        max_entries = vietstock_count_dict[news_type][category_name]\n",
    "        feed = feedparser.parse(url)\n",
    "        \n",
    "        # Lấy các bài mới nhất theo max_entries\n",
    "        for entry in feed.entries[:max_entries]:\n",
    "            # Get both content and image URL\n",
    "            content, image_url = get_article_vietstock(entry['id'])\n",
    "            \n",
    "            # Lấy thời gian đăng bài từ RSS feed\n",
    "            published_time = \"\"\n",
    "            if hasattr(entry, 'published') and entry.published:\n",
    "                published_time = entry.published\n",
    "            \n",
    "            full_news_df_dict[news_type].append({\n",
    "                'source': 'VietStock',\n",
    "                'title': entry['title'], \n",
    "                'content': summary_daily_article(fast_model_dict, content, news_type),\n",
    "                'image_url': image_url,\n",
    "                'article_url': entry['id'],\n",
    "                'published_time': published_time,\n",
    "            })\n",
    "            time.sleep(3)\n",
    "            \n",
    "# Lấy tin từ CafeF\n",
    "for news_type, url_dict in cafef_rss_url_dict.items():\n",
    "    for category_name, url in url_dict.items():\n",
    "        max_entries = cafef_count_dict[news_type][category_name]\n",
    "        # Lấy danh sách bài viết từ trang danh mục (tạo feed giả)\n",
    "        feed_entries = get_cafef_articles_list(url, max_entries)\n",
    "        \n",
    "        # Lấy các bài mới nhất theo max_entries\n",
    "        for entry in feed_entries[:max_entries]:\n",
    "            # Get both content and image URL (giống VietStock)\n",
    "            content, image_url = get_article_cafef(entry['id'])\n",
    "            \n",
    "            # Lấy thời gian đăng bài từ bài viết\n",
    "            published_time = get_cafef_published_time(entry['id'])\n",
    "            \n",
    "            full_news_df_dict[news_type].append({\n",
    "                'source': 'CafeF',\n",
    "                'title': entry['title'], \n",
    "                'content': summary_daily_article(fast_model_dict, content, news_type),\n",
    "                'image_url': image_url,\n",
    "                'article_url': entry['id'],\n",
    "                'published_time': published_time,\n",
    "            })\n",
    "            time.sleep(3)\n",
    "\n",
    "# Lấy tin từ Vietnambiz \n",
    "for news_type, url_dict in vietnambiz_rss_url_dict.items():\n",
    "    for category_name, url in url_dict.items():\n",
    "        max_entries = vietnambiz_count_dict[news_type][category_name]\n",
    "        # Lấy danh sách bài viết từ trang danh mục (tạo feed giả)\n",
    "        feed_entries = get_vietnambiz_articles_list(url, max_entries)\n",
    "        \n",
    "        # Lấy các bài mới nhất theo max_entries\n",
    "        for entry in feed_entries[:max_entries]:\n",
    "            # Get both content and image URL (giống VietStock)\n",
    "            content, image_url = get_article_vietnambiz(entry['id'])\n",
    "            \n",
    "            # Lấy thời gian đăng bài từ bài viết\n",
    "            published_time = get_vietnambiz_published_time(entry['id'])\n",
    "            \n",
    "            full_news_df_dict[news_type].append({\n",
    "                'source': 'Vietnambiz',\n",
    "                'title': entry['title'], \n",
    "                'content': summary_daily_article(fast_model_dict, content, news_type),\n",
    "                'image_url': image_url,\n",
    "                'article_url': entry['id'],\n",
    "                'published_time': published_time,\n",
    "            })\n",
    "            time.sleep(3)"
   ]
  },
  {
   "cell_type": "code",
   "execution_count": 63,
   "id": "ad694608",
   "metadata": {},
   "outputs": [
    {
     "name": "stdout",
     "output_type": "stream",
     "text": [
      "CẢNH BÁO: Model 'gemini-2.5-flash' lỗi lần 1/2. Lý do: Unknown.\n",
      "CẢNH BÁO: Model 'gemini-2.5-flash' lỗi lần 2/2. Lý do: Unknown.\n",
      "CẢNH BÁO: Model 'gemini-2.5-flash-preview-05-20' lỗi lần 1/2. Lý do: Unknown.\n",
      "CẢNH BÁO: Model 'gemini-2.5-flash-preview-05-20' lỗi lần 2/2. Lý do: Unknown.\n",
      "CẢNH BÁO: Model 'gemini-2.5-flash-lite' lỗi lần 1/2. Lý do: Unknown.\n",
      "CẢNH BÁO: Model 'gemini-2.5-flash-lite' lỗi lần 2/2. Lý do: Unknown.\n"
     ]
    }
   ],
   "source": [
    "# Chuyển đổi dictionary thành pandas DataFrame\n",
    "all_news_list = []\n",
    "for news_type, articles in full_news_df_dict.items():\n",
    "    for article in articles:\n",
    "        # Thêm cột news_type vào mỗi article\n",
    "        article_with_type = article.copy()\n",
    "        article_with_type['news_type'] = news_type\n",
    "        all_news_list.append(article_with_type)\n",
    "\n",
    "# Tạo DataFrame\n",
    "daily_8h30_news_df = pd.DataFrame(all_news_list)\n",
    "daily_8h30_news_df['published_time'] = daily_8h30_news_df['published_time'].apply(convert_published_time)\n",
    "daily_8h30_news_df = daily_8h30_news_df[['news_type'] + [col for col in daily_8h30_news_df.columns if col != 'news_type']]\n",
    "\n",
    "# Thêm các cột cần thiết\n",
    "daily_8h30_news_df['word_count'] = daily_8h30_news_df['content'].str.split().str.len()\n",
    "daily_8h30_news_df['impact'] = analyze_news_impact(standard_model_dict, daily_8h30_news_df)\n",
    "daily_8h30_news_df['major_news'] = identify_major_news(standard_model_dict, daily_8h30_news_df)"
   ]
  },
  {
   "cell_type": "markdown",
   "id": "900a3633",
   "metadata": {},
   "source": [
    "### Lưu dữ liệu vào MSSQL"
   ]
  },
  {
   "cell_type": "code",
   "execution_count": 64,
   "id": "e033fa82",
   "metadata": {},
   "outputs": [],
   "source": [
    "daily_8h30_time_df = pd.DataFrame([{\n",
    "    'time': time_series.iloc[0].item().strftime('%H:%M'),\n",
    "    'date': date_series.iloc[0].item().strftime('%d/%m/%Y')\n",
    "}])"
   ]
  },
  {
   "cell_type": "code",
   "execution_count": 65,
   "id": "addb7ea2",
   "metadata": {},
   "outputs": [],
   "source": [
    "%%capture\n",
    "save_to_mssql(cts_engine, daily_8h30_data_df, 'daily_8h30_data')\n",
    "save_to_mssql(cts_engine, daily_8h30_news_df, 'daily_8h30_news')\n",
    "save_to_mssql(cts_engine, daily_8h30_time_df, 'daily_8h30_time')\n"
   ]
  }
 ],
 "metadata": {
  "kernelspec": {
   "display_name": "base",
   "language": "python",
   "name": "python3"
  },
  "language_info": {
   "codemirror_mode": {
    "name": "ipython",
    "version": 3
   },
   "file_extension": ".py",
   "mimetype": "text/x-python",
   "name": "python",
   "nbconvert_exporter": "python",
   "pygments_lexer": "ipython3",
   "version": "3.12.7"
  }
 },
 "nbformat": 4,
 "nbformat_minor": 5
}
