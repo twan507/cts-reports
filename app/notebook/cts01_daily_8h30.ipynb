{
 "cells": [
  {
   "cell_type": "markdown",
   "id": "6a9be442",
   "metadata": {},
   "source": [
    "# AI cập nhật dữ liệu mới nhất cho bản tin 8h30"
   ]
  },
  {
   "cell_type": "code",
   "execution_count": 66,
   "id": "e2882d76",
   "metadata": {},
   "outputs": [],
   "source": [
    "import sys\n",
    "import os\n",
    "import importlib\n",
    "sys.path.append(os.path.join(os.path.dirname(os.getcwd()), 'import'))\n",
    "sys.path.append(os.path.join(os.path.dirname(os.getcwd()), 'module'))\n",
    "\n",
    "import import_default\n",
    "import import_database\n",
    "import import_other\n",
    "import import_gemini\n",
    "import gemini_analyze_fuction\n",
    "import gemini_comment_fuction\n",
    "import gemini_summary_function\n",
    "import get_and_crawl_data\n",
    "import plotly_and_upload\n",
    "import other_source_data\n",
    "\n",
    "importlib.reload(import_default)\n",
    "importlib.reload(import_database)\n",
    "importlib.reload(import_other)\n",
    "importlib.reload(import_gemini)\n",
    "importlib.reload(gemini_analyze_fuction)\n",
    "importlib.reload(gemini_comment_fuction)\n",
    "importlib.reload(gemini_summary_function)\n",
    "importlib.reload(get_and_crawl_data)\n",
    "importlib.reload(plotly_and_upload)\n",
    "importlib.reload(other_source_data)\n",
    "\n",
    "from import_default import *\n",
    "from import_database import *\n",
    "from import_other import *\n",
    "from import_gemini import *\n",
    "from gemini_analyze_fuction import *\n",
    "from gemini_comment_fuction import *\n",
    "from gemini_summary_function import *\n",
    "from get_and_crawl_data import *\n",
    "from plotly_and_upload import *\n",
    "from other_source_data import *"
   ]
  },
  {
   "cell_type": "markdown",
   "id": "6483c5e1",
   "metadata": {},
   "source": [
    "### Phần dữ liệu lịch sử các ticker"
   ]
  },
  {
   "cell_type": "markdown",
   "id": "ee5140b1",
   "metadata": {},
   "source": [
    "#### Dữ liệu từ Mongo và AlphaVantage"
   ]
  },
  {
   "cell_type": "markdown",
   "id": "b45db089",
   "metadata": {},
   "source": [
    "- Lấy dữ liệu từ Mongo"
   ]
  },
  {
   "cell_type": "code",
   "execution_count": 67,
   "id": "34672717",
   "metadata": {},
   "outputs": [],
   "source": [
    "date_series = get_mongo_collection(ref_db, 'date_series')\n",
    "time_series = get_mongo_collection(ref_db, 'time_series')\n",
    "name_map = get_mongo_collection(ref_db, \"name_map\")\n",
    "name_map_dict = name_map.set_index('code')['full_name'].to_dict()\n",
    "full_stock_classification_df = get_mongo_collection(ref_db, 'full_stock_classification')\n",
    "\n",
    "if date_series['date'].max() < get_today_date():\n",
    "    new_date = get_today_date()\n",
    "    date_series = pd.concat([date_series, pd.DataFrame({'date': [new_date]})]).sort_values(by='date', ascending=False).reset_index(drop=True)"
   ]
  },
  {
   "cell_type": "code",
   "execution_count": 68,
   "id": "edf0fe9c",
   "metadata": {},
   "outputs": [],
   "source": [
    "projection = {\"_id\": 0,\"date\": 1,\"ticker\": 1,\"open\": 1,\"high\": 1,\"low\": 1,\"close\": 1,'volume': 1}\n",
    "today_index_df = get_mongo_collection(stock_db, \"today_index\", projection=projection)\n",
    "history_index_df = get_mongo_collection(stock_db, \"history_index\", projection=projection)\n",
    "full_index_df = pd.concat([today_index_df, history_index_df], axis=0, ignore_index=True)\n",
    "\n",
    "other_ticker_df = get_mongo_collection(stock_db, 'other_ticker', projection=projection)\n",
    "nntd_index_df = get_mongo_collection(stock_db, 'nntd_index')\n",
    "nntd_stock_df = get_mongo_collection(stock_db, 'nntd_stock')"
   ]
  },
  {
   "cell_type": "markdown",
   "id": "3ea78013",
   "metadata": {},
   "source": [
    "- Lấy dữ liệu từ AlphaVantage"
   ]
  },
  {
   "cell_type": "code",
   "execution_count": 69,
   "id": "804e5b3a",
   "metadata": {},
   "outputs": [],
   "source": [
    "# Lấy dữ liệu các tỷ giá cần thiết từ Alpha Vantage\n",
    "fx_pairs = [\n",
    "    ('USD', 'SEK', 'USD_SEK')\n",
    "]\n",
    "\n",
    "data_frames = []\n",
    "for from_curr, to_curr, col_name in fx_pairs:\n",
    "    df = get_data_from_av(from_curr, to_curr, col_name)\n",
    "    if df is not None:\n",
    "        data_frames.append(df)\n",
    "\n",
    "av_ticker_df = pd.concat(data_frames, axis=1)\n",
    "av_ticker_df = av_ticker_df.fillna(method='ffill').dropna()"
   ]
  },
  {
   "cell_type": "markdown",
   "id": "bd8ddf02",
   "metadata": {},
   "source": [
    "#### Chuẩn bị các dữ liệu cần thiết"
   ]
  },
  {
   "cell_type": "markdown",
   "id": "48a94490",
   "metadata": {},
   "source": [
    "- Tính toán DXY từ các cặp tiền"
   ]
  },
  {
   "cell_type": "code",
   "execution_count": 70,
   "id": "86a197bb",
   "metadata": {},
   "outputs": [],
   "source": [
    "currency_config = {\n",
    "    'EUR_USD': {'source': 'other_ticker_df', 'weight': -0.576},\n",
    "    'USD_JPY': {'source': 'other_ticker_df', 'weight': 0.136},\n",
    "    'GBP_USD': {'source': 'other_ticker_df', 'weight': -0.119},\n",
    "    'USD_CAD': {'source': 'other_ticker_df', 'weight': 0.091},\n",
    "    'USD_CHF': {'source': 'other_ticker_df', 'weight': 0.036},\n",
    "    'USD_SEK': {'source': 'av_ticker_df', 'weight': 0.042}\n",
    "}\n",
    "\n",
    "# Tạo DataFrame cho mỗi cặp tiền tệ\n",
    "currency_data = {}\n",
    "for pair, config in currency_config.items():\n",
    "    if config['source'] == 'other_ticker_df':\n",
    "        df = other_ticker_df[other_ticker_df['ticker'] == pair][['date', 'close']].set_index('date')\n",
    "        df.columns = [pair]\n",
    "    else:\n",
    "        df = av_ticker_df[['USD_SEK']].copy()\n",
    "        df.columns = [pair]\n",
    "    \n",
    "    currency_data[pair] = df\n",
    "\n",
    "# Kết hợp tất cả dữ liệu tỷ giá\n",
    "dxy_calculation_df = pd.concat(currency_data.values(), axis=1, sort=True)\n",
    "dxy_calculation_df = dxy_calculation_df.sort_index().bfill().ffill()\n",
    "\n",
    "# Tính toán chỉ số DXY theo công thức chuẩn\n",
    "dxy_base = 50.14348112\n",
    "dxy_calculation = dxy_base\n",
    "for pair, config in currency_config.items():\n",
    "    dxy_calculation *= (dxy_calculation_df[pair] ** config['weight'])\n",
    "\n",
    "dxy_calculation_df['ticker'] = 'DXY'\n",
    "dxy_calculation_df['close'] = dxy_calculation\n",
    "dxy_calculation_df = dxy_calculation_df[['ticker', 'close']].reset_index()\n",
    "\n",
    "# usd_vnd_df = av_ticker_df[['USD_VND']].rename(columns={'USD_VND': 'close'})\n",
    "# usd_vnd_df['ticker'] = 'USD_VND'\n",
    "# usd_vnd_df = usd_vnd_df.reset_index()"
   ]
  },
  {
   "cell_type": "markdown",
   "id": "94c74f44",
   "metadata": {},
   "source": [
    "- Ghép tất cả vào ticker_dict"
   ]
  },
  {
   "cell_type": "code",
   "execution_count": 71,
   "id": "adeb5812",
   "metadata": {},
   "outputs": [],
   "source": [
    "FINAL_DAYS = 20\n",
    "TICKER_CONFIG = {\n",
    "    # Chỉ số chứng khoán Việt Nam\n",
    "    'VNINDEX':   {'df': full_index_df, 'market': 'hose', 'type': 'vn'},\n",
    "    'VN30':      {'df': full_index_df, 'market': 'hose', 'type': 'vn'},\n",
    "    'VN30F1M':   {'df': full_index_df, 'market': 'derivatives', 'type': 'vn'},\n",
    "    \n",
    "    # Chỉ số chứng khoán quốc tế\n",
    "    'DJI':       {'df': other_ticker_df, 'market': 'us', 'type': 'international'},\n",
    "    'FTSE':      {'df': other_ticker_df, 'market': 'eu', 'type': 'international'},\n",
    "    'SSEC':      {'df': other_ticker_df, 'market': 'asia', 'type': 'international'},\n",
    "    \n",
    "    # Khác\n",
    "    'XAU_USD':   {'df': other_ticker_df, 'market': 'commodity', 'type': 'other'},\n",
    "    'CLZ':       {'df': other_ticker_df, 'market': 'commodity', 'type': 'other'},\n",
    "    'DXY':       {'df': dxy_calculation_df, 'market': 'fx', 'type': 'other'},\n",
    "}\n",
    "FINAL_COLUMNS = ['date', 'ticker', 'close', '1d_diff', '1d_change', 'cum_change', 'market', 'type']\n",
    "\n",
    "\n",
    "# 2. XỬ LÝ THEO LUỒNG MỚI\n",
    "final_df_list = []\n",
    "for ticker, config in TICKER_CONFIG.items():\n",
    "    # Lấy và sắp xếp dữ liệu nguồn\n",
    "    source_df = config['df']\n",
    "    temp_df = source_df[source_df['ticker'] == ticker].sort_values('date', ascending=False).copy()\n",
    "\n",
    "    # TÍNH TOÁN TRƯỚC trên toàn bộ chuỗi dữ liệu đã sắp xếp để đảm bảo chính xác\n",
    "    temp_df['1d_diff'] = temp_df['close'][::-1].diff()[::-1].fillna(0)\n",
    "    temp_df['1d_change'] = temp_df['close'][::-1].pct_change()[::-1].fillna(0)\n",
    "    \n",
    "    # Gán các thông tin phân loại\n",
    "    temp_df['market'] = config['market']\n",
    "    temp_df['type'] = config['type']\n",
    "\n",
    "    # CẮT 1 LẦN DUY NHẤT về 20 ngày sau khi đã tính toán xong\n",
    "    temp_df = temp_df.head(FINAL_DAYS)\n",
    "\n",
    "    # Tính toán cuối cùng trên 20 dòng đã cắt\n",
    "    temp_df['cum_change'] = temp_df['1d_change'][::-1].cumsum()[::-1]\n",
    "\n",
    "    final_df_list.append(temp_df)\n",
    "\n",
    "# 3. KẾT QUẢ CUỐI CÙNG\n",
    "daily_8h30_data_df = pd.concat(final_df_list, ignore_index=True)[FINAL_COLUMNS]\n"
   ]
  },
  {
   "cell_type": "markdown",
   "id": "e741cbb8",
   "metadata": {},
   "source": [
    "### Phần dữ liệu tiền tệ"
   ]
  },
  {
   "cell_type": "markdown",
   "id": "ea772886",
   "metadata": {},
   "source": [
    "#### Lấy khung thời gian biểu đồ và dữ liệu từ FiinproX"
   ]
  },
  {
   "cell_type": "code",
   "execution_count": 72,
   "id": "d17a2bfe",
   "metadata": {},
   "outputs": [],
   "source": [
    "# Lấy khung thời gian biểu đồ\n",
    "chart_range = date_series['date'].iloc[:25]\n",
    "\n",
    "# Đọc tất cả các file FiinProX từ thư mục Downloads\n",
    "fiinprox_files = glob.glob(os.path.join(str(Path.home() / \"Downloads\"), \"*FiinProX*.xlsx\"))\n",
    "\n",
    "# Lọc lại các file chứa dữ liệu thị trường mở và có số cột > 6\n",
    "value_omo_fiinprox_files = []\n",
    "rate_omo_fiinprox_files = []\n",
    "rate_nhnn_finprox_files = []\n",
    "for file in fiinprox_files:\n",
    "    df = pd.read_excel(file)\n",
    "    omo_name_check = df.applymap(lambda x: isinstance(x, str) and \"Nghiệp vụ thị trường mở\" in x).any().any()\n",
    "    rate_name_check = df.applymap(lambda x: isinstance(x, str) and \"Lãi suất thống kê của NHNN\" in x).any().any()\n",
    "    if omo_name_check and len(df.columns) > 6:\n",
    "        value_omo_fiinprox_files.append(file)\n",
    "    elif omo_name_check and len(df.columns) == 6:\n",
    "        rate_omo_fiinprox_files.append(file)\n",
    "    elif rate_name_check:\n",
    "        rate_nhnn_finprox_files.append(file)\n",
    "if len(value_omo_fiinprox_files) == 0:\n",
    "    raise FileNotFoundError(\"❌ Chưa tải dữ liệu giá trị OMO từ FiinProX.\")\n",
    "elif len(rate_omo_fiinprox_files) == 0:\n",
    "    raise FileNotFoundError(\"❌ Chưa tải dữ liệu lãi suất OMO từ FiinProX.\")   \n",
    "elif len(rate_nhnn_finprox_files) == 0:\n",
    "    raise FileNotFoundError(\"❌ Chưa tải dữ liệu lãi suất thống kê của NHNN từ FiinProX.\")"
   ]
  },
  {
   "cell_type": "markdown",
   "id": "82e40afa",
   "metadata": {},
   "source": [
    "#### Dữ liệu cho bảng MM"
   ]
  },
  {
   "cell_type": "code",
   "execution_count": 73,
   "id": "ca54a646",
   "metadata": {},
   "outputs": [],
   "source": [
    "# Sắp xếp fiinprox_files theo thời gian tạo (tăng dần) và lấy file mới nhất\n",
    "last_value_omo_fiinprox_file = sorted(value_omo_fiinprox_files, key=os.path.getctime)[-1]\n",
    "value_omo_df = pd.read_excel(last_value_omo_fiinprox_file, skiprows=4)\n",
    "\n",
    "#Đọc dữ liệu daily OMO từ file mới nhất\n",
    "daily_omo_df = value_omo_df.iloc[[1, 2, 5, 6]].reset_index(drop=True)\n",
    "daily_omo_df = daily_omo_df.transpose().iloc[1:]\n",
    "daily_omo_df.columns = ['tin_phieu_phat_hanh', 'tin_phieu_dao_han', 'reverse_repo_phat_hanh', 'reverse_repo_dao_han']\n",
    "daily_omo_df.index = pd.to_datetime(daily_omo_df.index)\n",
    "daily_omo_df = daily_omo_df[daily_omo_df.index.isin(chart_range)]\n",
    "daily_omo_df = daily_omo_df.sort_index(ascending=False).fillna(0)\n",
    "daily_omo_df['omo_bom_tien'] = daily_omo_df['tin_phieu_dao_han'] + daily_omo_df['reverse_repo_phat_hanh']\n",
    "daily_omo_df['omo_hut_tien'] = daily_omo_df['tin_phieu_phat_hanh'] + daily_omo_df['reverse_repo_dao_han']\n",
    "daily_omo_df['omo_bom_hut_rong'] = daily_omo_df['omo_bom_tien'] + daily_omo_df['omo_hut_tien']\n",
    "daily_omo_df = daily_omo_df.iloc[:, [4, 5, 6]]\n",
    "\n",
    "#Đọc dữ liệu outstanding OMO từ file mới nhất\n",
    "outstanding_omo_df = value_omo_df.iloc[[3, 7]].reset_index(drop=True)\n",
    "outstanding_omo_df = outstanding_omo_df.transpose().iloc[1:].fillna(0)\n",
    "outstanding_omo_df.columns = ['tin_phieu_luu_hanh', 'reverse_repo_luu_hanh']\n",
    "outstanding_omo_df.index = pd.to_datetime(outstanding_omo_df.index)\n",
    "outstanding_omo_df['outstanding_omo_value'] = outstanding_omo_df['tin_phieu_luu_hanh'] + outstanding_omo_df['reverse_repo_luu_hanh']\n",
    "outstanding_omo_df = outstanding_omo_df.sort_index(ascending=False)\n",
    "outstanding_omo_df = outstanding_omo_df[outstanding_omo_df.index.isin(chart_range)]\n",
    "\n",
    "#Đọc dữ liệu LSLNH từ file mới nhất\n",
    "lslnh_df = pd.read_excel(last_value_omo_fiinprox_file, skiprows=4)\n",
    "lslnh_df = lslnh_df.iloc[[16, 19, 20]].reset_index(drop=True)\n",
    "lslnh_df = lslnh_df.transpose().iloc[1:]\n",
    "lslnh_df.columns = ['lslnh_on', 'lslnh_1m', 'lslnh_3m']\n",
    "lslnh_df.index = pd.to_datetime(lslnh_df.index)\n",
    "lslnh_df = lslnh_df.sort_index(ascending=False)\n",
    "lslnh_df = lslnh_df[lslnh_df.index.isin(chart_range)]\n",
    "\n",
    "#Đọc dữ liệu tỉ giá từ Vietnambiz\n",
    "for _ in range (5):\n",
    "    try:\n",
    "        dhtg_df = fetch_wichart_data(wichart_api_url_dict['tien_te'] + 'dhtg').set_index('date')\n",
    "        dhtg_df.columns = ['dhtg_trung_tam', 'dhtg_tran', 'dhtg_san', 'dhtg_nhtm_ban_ra', 'dhtg_tu_do_ban_ra']\n",
    "        dhtg_df = dhtg_df[['dhtg_trung_tam', 'dhtg_tran', 'dhtg_nhtm_ban_ra', 'dhtg_san', 'dhtg_tu_do_ban_ra']]\n",
    "        dhtg_df.index = pd.to_datetime(dhtg_df.index)\n",
    "        dhtg_df = dhtg_df[dhtg_df.index.isin(chart_range)]\n",
    "        break\n",
    "    except Exception as e:\n",
    "        raise Exception(f\"Lỗi khi lấy dữ liệu từ Wichart: {e}\")\n",
    "    \n",
    "# Kết hợp tất cả các bảng dữ liệu lãi suất và tiền tệ\n",
    "daily_8h30_mm_df = pd.concat([lslnh_df, dhtg_df, daily_omo_df, outstanding_omo_df], axis=1, join='outer')\n",
    "daily_8h30_mm_df = daily_8h30_mm_df.sort_index(ascending=False).bfill().reset_index().rename(columns={'index': 'date'})"
   ]
  },
  {
   "cell_type": "markdown",
   "id": "40c17faa",
   "metadata": {},
   "source": [
    "#### Dữ liệu cho bảng OMO"
   ]
  },
  {
   "cell_type": "code",
   "execution_count": 74,
   "id": "2ad7e8de",
   "metadata": {},
   "outputs": [],
   "source": [
    "# Khởi tạo dictionary lưu file OMO\n",
    "bill_omo_files = {}\n",
    "rp_omo_files = {}\n",
    "\n",
    "# Đọc dữ liệu lãi suất OMO từ các file FiinProX\n",
    "temp_rate_omo_dict = {}\n",
    "for file in rate_omo_fiinprox_files:\n",
    "    df = pd.read_excel(file, skiprows=4).dropna()\n",
    "    df = df.iloc[:, [0, 3, 4, 5]]\n",
    "    df.columns = ['date', 'value', 'rate', 'term']\n",
    "    df['date'] = pd.to_datetime(df['date'])\n",
    "    df['term'] = df['term'].str.replace(' ngày', '').astype(int)\n",
    "    temp_rate_omo_dict[file] = df\n",
    "\n",
    "# Tìm ngày cuối cùng chung của các file OMO\n",
    "omo_last_date_list = []\n",
    "for df in temp_rate_omo_dict.values():\n",
    "    omo_last_date_list.append(df['date'].max())\n",
    "omo_last_date = min(omo_last_date_list)\n",
    "\n",
    "# Tính trung bình kỳ hạn cho từng file OMO\n",
    "omo_mean_term_dict = {}\n",
    "for file, df in temp_rate_omo_dict.items():\n",
    "    temp_df = df[df['date'] <= omo_last_date]\n",
    "    omo_mean_term_dict[file] = temp_df['term'].mean()\n",
    "\n",
    "# Phân loại file OMO thành bill và repo\n",
    "bill_omo_files, repo_omo_files = clasify_omo_rate_df(omo_mean_term_dict)\n",
    "\n",
    "# Lấy file bill và repo mới nhất\n",
    "last_bill_omo_file = sorted(bill_omo_files, key=os.path.getctime)[-1]\n",
    "last_repo_omo_file = sorted(repo_omo_files, key=os.path.getctime)[-1]\n",
    "\n",
    "# Khởi tạo DataFrame lưu dữ liệu đáo hạn và phát hành OMO\n",
    "issue_omo_df = pd.DataFrame()\n",
    "for name, file in zip(['bill', 'repo'], [last_bill_omo_file, last_repo_omo_file]):\n",
    "    df = pd.read_excel(file, skiprows=4).dropna()\n",
    "    df = df.iloc[:, [0, 3, 4, 5]]\n",
    "    df.columns = ['date', 'value', 'rate', 'term']\n",
    "    df['date'] = pd.to_datetime(df['date'])\n",
    "    df['value'] = df['value'].apply(lambda x: -x if name == 'repo' else x)\n",
    "    df['term'] = df['term'].str.replace(' ngày', '').astype(int)\n",
    "    df['term'] = df['term'].apply(lambda x: 7 if x < 10 else x)\n",
    "    df['type'] = name\n",
    "    issue_omo_df = pd.concat([issue_omo_df, df], ignore_index=True)\n",
    "\n",
    "# Chuẩn hóa dữ liệu phát hành OMO\n",
    "daily_8h30_omo_df = transform_rate_omo_data(issue_omo_df)\n",
    "daily_8h30_omo_df = daily_8h30_omo_df.reset_index().rename(columns={'index': 'name'})"
   ]
  },
  {
   "cell_type": "markdown",
   "id": "23b377f2",
   "metadata": {},
   "source": [
    "#### Dữ liệu cho bảng NHTM"
   ]
  },
  {
   "cell_type": "code",
   "execution_count": 75,
   "id": "6d3fc484",
   "metadata": {},
   "outputs": [],
   "source": [
    "last_rate_nhnn_finprox_files = sorted(rate_nhnn_finprox_files, key=os.path.getctime)[-1]\n",
    "rate_nhnn_df = pd.read_excel(last_rate_nhnn_finprox_files, skiprows=4)\n",
    "rate_nhnn_df = rate_nhnn_df.iloc[[1, 2, 6, 7]].transpose().iloc[1:]\n",
    "rate_nhnn_df.columns = ['lshd_san', 'lshd_tran', 'lscv_san', 'lscv_tran']\n",
    "rate_nhnn_df['lshd_tb'] = (rate_nhnn_df['lshd_san'] + rate_nhnn_df['lshd_tran']) / 2\n",
    "rate_nhnn_df['lscv_tb'] = (rate_nhnn_df['lscv_san'] + rate_nhnn_df['lscv_tran']) / 2\n",
    "rate_nhnn_df.index = pd.to_datetime(rate_nhnn_df.index)\n",
    "rate_nhnn_df = rate_nhnn_df[['lshd_san', 'lshd_tran', 'lshd_tb', 'lscv_san', 'lscv_tran', 'lscv_tb']]\n",
    "\n",
    "dtnh_df = fetch_wichart_data(wichart_api_url_dict['tien_te'] + 'dtnh').set_index('date')\n",
    "dtnh_df.index = pd.to_datetime(dtnh_df.index)\n",
    "dtnh_df.index += pd.Timedelta(days=10)\n",
    "dtnh_df.index = dtnh_df.index.to_period('M').to_timestamp()\n",
    "dtnh_df.columns = ['dtnh']\n",
    "\n",
    "# Fill thêm dữ liệu vào các tháng chưa có\n",
    "new_index = pd.date_range(rate_nhnn_df.index.min(), date_series['date'].max(), freq='MS').sort_values()\n",
    "rate_nhnn_df_reindexed = rate_nhnn_df.reindex(new_index)\n",
    "dtnh_df_reindexed = dtnh_df.reindex(new_index)\n",
    "daily_8h30_nhtm_df = pd.concat([rate_nhnn_df_reindexed, dtnh_df_reindexed], axis=1).ffill().sort_index(ascending=False)\n",
    "daily_8h30_nhtm_df = daily_8h30_nhtm_df.reset_index().rename(columns={'index': 'date'})"
   ]
  },
  {
   "cell_type": "markdown",
   "id": "807f4ec0",
   "metadata": {},
   "source": [
    "### Phần dữ liệu cho tin tức"
   ]
  },
  {
   "cell_type": "markdown",
   "id": "d6446c14",
   "metadata": {},
   "source": [
    "#### Khởi tạo model và danh sách link báo"
   ]
  },
  {
   "cell_type": "code",
   "execution_count": 76,
   "id": "c041b4ab",
   "metadata": {},
   "outputs": [],
   "source": [
    "# Thiết lập kết nối với cơ sở dữ liệu\n",
    "genai.configure(api_key=load_env(\"GEMINI_API\"))\n",
    "\n",
    "# Sắp xếp danh sách model theo thứ tự ổn định\n",
    "# fast_model_list = select_fast_models(get_gemini_models())\n",
    "# standard_model_list = select_standard_models(get_gemini_models())\n",
    "fast_model_list = ['gemini-2.5-flash-lite', 'gemini-2.0-flash-lite', 'gemma-3-27b-it']\n",
    "standard_model_list = ['gemini-2.5-flash', 'gemini-2.0-flash', 'gemini-2.5-flash-lite', 'gemini-2.0-flash-lite', 'gemma-3-27b-it']\n",
    "\n",
    "# Tạo dictionary cho các model\n",
    "fast_model_dict = {model_name: genai.GenerativeModel(model_name) for model_name in fast_model_list}\n",
    "standard_model_dict = {model_name: genai.GenerativeModel(model_name) for model_name in standard_model_list}"
   ]
  },
  {
   "cell_type": "code",
   "execution_count": 77,
   "id": "3f619827",
   "metadata": {},
   "outputs": [],
   "source": [
    "article_url_dict = {\n",
    "    'VietStock': {\n",
    "        'https://vietstock.vn/775/the-gioi/kinh-te-nganh.rss': 3,\n",
    "        'https://vietstock.vn/768/kinh-te/kinh-te-dau-tu.rss': 3,\n",
    "        'https://vietstock.vn/830/chung-khoan/co-phieu.rss': 3,\n",
    "        'https://vietstock.vn/761/kinh-te/vi-mo.rss': 3,\n",
    "        'https://vietstock.vn/772/the-gioi/tai-chinh-quoc-te.rss': 3,\n",
    "        'https://vietstock.vn/773/the-gioi/chung-khoan-the-gioi.rss': 3,\n",
    "        'https://vietstock.vn/737/doanh-nghiep/hoat-dong-kinh-doanh.rss': 3,\n",
    "    },\n",
    "    'CafeF': {\n",
    "        'https://cafef.vn/vi-mo-dau-tu.chn': 5,\n",
    "        'https://cafef.vn/thi-truong-chung-khoan.chn': 5,\n",
    "        'https://cafef.vn/tai-chinh-quoc-te.chn': 5,\n",
    "        'https://cafef.vn/doanh-nghiep.chn': 5,\n",
    "    },\n",
    "    'Vietnambiz': {\n",
    "        'https://vietnambiz.vn/tai-chinh.htm': 5,\n",
    "        'https://vietnambiz.vn/quoc-te.htm': 5,\n",
    "        'https://vietnambiz.vn/chung-khoan.htm': 5,\n",
    "        'https://vietnambiz.vn/doanh-nghiep.htm': 5,\n",
    "    },\n",
    "    'VnEconomy': {\n",
    "        'https://vneconomy.vn/kinh-te-the-gioi.rss': 5,\n",
    "        'https://vneconomy.vn/tai-chinh.rss': 5,\n",
    "        'https://vneconomy.vn/chung-khoan.rss': 5,\n",
    "    }\n",
    "}"
   ]
  },
  {
   "cell_type": "markdown",
   "id": "4956c70a",
   "metadata": {},
   "source": [
    "#### Lấy các bài báo từ website"
   ]
  },
  {
   "cell_type": "code",
   "execution_count": 78,
   "id": "7320be87",
   "metadata": {},
   "outputs": [],
   "source": [
    "# 1. Tạo dictionary cấu hình để quản lý cả 2 pattern xử lý\n",
    "source_handlers = {\n",
    "    'VnEconomy': {\n",
    "        'type': 'batch',\n",
    "        'process_batch': get_article_vneconomy \n",
    "    },\n",
    "    'VietStock': {\n",
    "        'type': 'item_by_item',\n",
    "        'get_articles': lambda url, num: feedparser.parse(url).entries[:num],\n",
    "        'get_details': lambda entry: get_article_vietstock(entry['id']),\n",
    "        'get_published_time': lambda entry: getattr(entry, 'published', '') or ''\n",
    "    },\n",
    "    'CafeF': {\n",
    "        'type': 'item_by_item',\n",
    "        'get_articles': get_cafef_articles_list,\n",
    "        'get_details': lambda entry: get_article_cafef(entry['id']),\n",
    "        'get_published_time': lambda entry: get_cafef_published_time(entry['id'])\n",
    "    },\n",
    "    'Vietnambiz': {\n",
    "        'type': 'item_by_item',\n",
    "        'get_articles': get_vietnambiz_articles_list,\n",
    "        'get_details': lambda entry: get_article_vietnambiz(entry['id']),\n",
    "        'get_published_time': lambda entry: get_vietnambiz_published_time(entry['id'])\n",
    "    }\n",
    "}\n",
    "\n",
    "# 2. Vòng lặp xử lý chính, giờ đây đã trở nên gọn gàng\n",
    "raw_news_list = []\n",
    "for source, rss_list in article_url_dict.items():\n",
    "    for rss_url, num_articles in rss_list.items():\n",
    "        \n",
    "        handler = source_handlers.get(source)\n",
    "        if not handler:\n",
    "            print(f\"Warning: No handler found for source '{source}'. Skipping.\")\n",
    "            continue\n",
    "\n",
    "        # Phân luồng xử lý dựa trên 'type' đã định nghĩa trong handler\n",
    "        if handler['type'] == 'batch':\n",
    "            # Xử lý các nguồn trả về một danh sách hoàn chỉnh\n",
    "            temp_news_list = handler['process_batch'](rss_url, num_articles)\n",
    "            raw_news_list.extend(temp_news_list) # Dùng extend hiệu quả hơn là +\n",
    "\n",
    "        elif handler['type'] == 'item_by_item':\n",
    "            # Xử lý các nguồn cần lấy chi tiết từng tin\n",
    "            feed_entries = handler['get_articles'](rss_url, num_articles)\n",
    "            for entry in feed_entries:\n",
    "                content, image_url = handler['get_details'](entry)\n",
    "                published_time = handler['get_published_time'](entry)\n",
    "                \n",
    "                raw_news_list.append({\n",
    "                    'source': source,\n",
    "                    'title': entry['title'], \n",
    "                    'content': content,\n",
    "                    'image_url': image_url,\n",
    "                    'article_url': entry['id'],\n",
    "                    'published_time': published_time,\n",
    "                })\n",
    "\n",
    "# 3. Chuyển đổi danh sách tin thành DataFrame\n",
    "raw_news_df = pd.DataFrame(raw_news_list)\n",
    "raw_news_df['published_time'] = raw_news_df['published_time'].apply(convert_published_time)"
   ]
  },
  {
   "cell_type": "markdown",
   "id": "4fb66db6",
   "metadata": {},
   "source": [
    "#### Lọc, tóm tắt và chọn tin nổi bật"
   ]
  },
  {
   "cell_type": "code",
   "execution_count": 79,
   "id": "6d2ee7f4",
   "metadata": {},
   "outputs": [
    {
     "name": "stdout",
     "output_type": "stream",
     "text": [
      "✅ Model 'gemini-2.5-flash' thành công lần 1/2 tại hàm get_filtered_news_index.\n"
     ]
    }
   ],
   "source": [
    "#Lọc bớt các tin có tiêu đề dài > 20 từ\n",
    "raw_news_df = raw_news_df[(raw_news_df['title'].str.split().str.len() <= 22) & (raw_news_df['title'].str.split().str.len() > 8)].reset_index(drop=True)\n",
    "\n",
    "# Lọc và phân loại các tin nổi bật\n",
    "fithered_news_df = raw_news_df.copy()\n",
    "filtered_news_index_dict = get_filtered_news_index(standard_model_dict, fithered_news_df, num_articles=10)\n",
    "\n",
    "# Tạo dictionary ánh xạ từ tên nhóm đến index của các tin nổi bật\n",
    "news_type_map = {}\n",
    "for k, idx_list in filtered_news_index_dict.items():\n",
    "    for idx in idx_list:\n",
    "        news_type_map[idx] = k\n",
    "\n",
    "# Thêm cột news_type vào fithered_news_df và lọc ra các dòng có news_type\n",
    "fithered_news_df['news_type'] = fithered_news_df.index.map(news_type_map)\n",
    "fithered_news_df = fithered_news_df[fithered_news_df['news_type'].notnull()]\n",
    "fithered_news_df = fithered_news_df.sort_values(by=['news_type', 'published_time'], ascending=[False, False]).reset_index(drop=True)"
   ]
  },
  {
   "cell_type": "code",
   "execution_count": 80,
   "id": "a1195286",
   "metadata": {},
   "outputs": [
    {
     "name": "stdout",
     "output_type": "stream",
     "text": [
      "✅ Model 'gemini-2.5-flash-lite' thành công lần 1/2 tại hàm summary_daily_article.\n",
      "✅ Model 'gemini-2.5-flash-lite' thành công lần 1/2 tại hàm summary_daily_article.\n",
      "✅ Model 'gemini-2.5-flash-lite' thành công lần 1/2 tại hàm summary_daily_article.\n",
      "✅ Model 'gemini-2.5-flash-lite' thành công lần 1/2 tại hàm summary_daily_article.\n",
      "✅ Model 'gemini-2.5-flash-lite' thành công lần 1/2 tại hàm summary_daily_article.\n",
      "✅ Model 'gemini-2.5-flash-lite' thành công lần 1/2 tại hàm summary_daily_article.\n",
      "✅ Model 'gemini-2.5-flash-lite' thành công lần 1/2 tại hàm summary_daily_article.\n",
      "✅ Model 'gemini-2.5-flash-lite' thành công lần 1/2 tại hàm summary_daily_article.\n",
      "✅ Model 'gemini-2.5-flash-lite' thành công lần 1/2 tại hàm summary_daily_article.\n",
      "✅ Model 'gemini-2.5-flash-lite' thành công lần 1/2 tại hàm summary_daily_article.\n",
      "✅ Model 'gemini-2.5-flash-lite' thành công lần 1/2 tại hàm summary_daily_article.\n",
      "✅ Model 'gemini-2.5-flash-lite' thành công lần 1/2 tại hàm summary_daily_article.\n",
      "✅ Model 'gemini-2.5-flash-lite' thành công lần 1/2 tại hàm summary_daily_article.\n",
      "✅ Model 'gemini-2.5-flash-lite' thành công lần 1/2 tại hàm summary_daily_article.\n",
      "✅ Model 'gemini-2.5-flash-lite' thành công lần 1/2 tại hàm summary_daily_article.\n",
      "✅ Model 'gemini-2.5-flash-lite' thành công lần 1/2 tại hàm summary_daily_article.\n",
      "✅ Model 'gemini-2.5-flash-lite' thành công lần 2/2 tại hàm summary_daily_article.\n",
      "✅ Model 'gemini-2.0-flash-lite' thành công lần 1/2 tại hàm summary_daily_article.\n",
      "✅ Model 'gemini-2.0-flash-lite' thành công lần 1/2 tại hàm summary_daily_article.\n",
      "✅ Model 'gemini-2.0-flash-lite' thành công lần 1/2 tại hàm summary_daily_article.\n",
      "✅ Model 'gemini-2.0-flash-lite' thành công lần 1/2 tại hàm summary_daily_article.\n",
      "✅ Model 'gemini-2.0-flash-lite' thành công lần 1/2 tại hàm summary_daily_article.\n",
      "✅ Model 'gemini-2.0-flash-lite' thành công lần 1/2 tại hàm summary_daily_article.\n",
      "✅ Model 'gemini-2.0-flash-lite' thành công lần 1/2 tại hàm summary_daily_article.\n",
      "✅ Model 'gemini-2.0-flash-lite' thành công lần 1/2 tại hàm summary_daily_article.\n",
      "✅ Model 'gemini-2.0-flash-lite' thành công lần 1/2 tại hàm summary_daily_article.\n",
      "✅ Model 'gemini-2.0-flash-lite' thành công lần 1/2 tại hàm summary_daily_article.\n",
      "✅ Model 'gemini-2.5-flash-lite' thành công lần 1/2 tại hàm summary_daily_article.\n",
      "✅ Model 'gemini-2.5-flash-lite' thành công lần 2/2 tại hàm summary_daily_article.\n",
      "✅ Model 'gemini-2.5-flash-lite' thành công lần 1/2 tại hàm summary_daily_article.\n",
      "✅ Model 'gemini-2.5-flash-lite' thành công lần 1/2 tại hàm summary_daily_article.\n",
      "✅ Model 'gemini-2.5-flash-lite' thành công lần 1/2 tại hàm summary_daily_article.\n",
      "✅ Model 'gemini-2.5-flash-lite' thành công lần 1/2 tại hàm summary_daily_article.\n",
      "✅ Model 'gemini-2.5-flash-lite' thành công lần 1/2 tại hàm summary_daily_article.\n",
      "✅ Model 'gemini-2.5-flash-lite' thành công lần 1/2 tại hàm summary_daily_article.\n",
      "✅ Model 'gemini-2.5-flash-lite' thành công lần 1/2 tại hàm summary_daily_article.\n",
      "✅ Model 'gemini-2.5-flash-lite' thành công lần 1/2 tại hàm summary_daily_article.\n",
      "✅ Model 'gemini-2.5-flash-lite' thành công lần 1/2 tại hàm summary_daily_article.\n",
      "✅ Model 'gemini-2.5-flash-lite' thành công lần 1/2 tại hàm summary_daily_article.\n",
      "✅ Model 'gemini-2.5-flash-lite' thành công lần 1/2 tại hàm summary_daily_article.\n",
      "✅ Model 'gemini-2.5-flash-lite' thành công lần 1/2 tại hàm summary_daily_article.\n",
      "✅ Model 'gemini-2.5-flash-lite' thành công lần 1/2 tại hàm summary_daily_article.\n",
      "✅ Model 'gemini-2.5-flash-lite' thành công lần 1/2 tại hàm summary_daily_article.\n",
      "✅ Model 'gemini-2.5-flash-lite' thành công lần 2/2 tại hàm summary_daily_article.\n",
      "✅ Model 'gemini-2.0-flash-lite' thành công lần 1/2 tại hàm summary_daily_article.\n",
      "✅ Model 'gemini-2.0-flash-lite' thành công lần 1/2 tại hàm summary_daily_article.\n",
      "✅ Model 'gemini-2.0-flash-lite' thành công lần 1/2 tại hàm summary_daily_article.\n",
      "✅ Model 'gemini-2.0-flash-lite' thành công lần 1/2 tại hàm summary_daily_article.\n",
      "✅ Model 'gemini-2.0-flash-lite' thành công lần 1/2 tại hàm summary_daily_article.\n",
      "✅ Model 'gemini-2.0-flash-lite' thành công lần 1/2 tại hàm summary_daily_article.\n",
      "✅ Model 'gemini-2.0-flash-lite' thành công lần 1/2 tại hàm summary_daily_article.\n",
      "✅ Model 'gemini-2.0-flash-lite' thành công lần 1/2 tại hàm summary_daily_article.\n",
      "✅ Model 'gemini-2.0-flash-lite' thành công lần 1/2 tại hàm summary_daily_article.\n",
      "✅ Model 'gemini-2.0-flash-lite' thành công lần 1/2 tại hàm summary_daily_article.\n",
      "✅ Model 'gemini-2.5-flash-lite' thành công lần 1/2 tại hàm summary_daily_article.\n",
      "✅ Model 'gemini-2.5-flash' thành công lần 1/2 tại hàm analyze_news_impact.\n"
     ]
    }
   ],
   "source": [
    "# Tạo danh sách tin hàng tuần với nội dung tóm tắt\n",
    "daily_8h30_news_df = fithered_news_df.copy()\n",
    "daily_8h30_news_df['content'] = daily_8h30_news_df['content'].apply(lambda x: summary_daily_article(fast_model_dict, x))\n",
    "\n",
    "# Thêm các cột cần thiết\n",
    "daily_8h30_news_df['word_count'] = daily_8h30_news_df['content'].str.split().str.len()\n",
    "daily_8h30_news_df['impact'] = analyze_news_impact(standard_model_dict, daily_8h30_news_df)"
   ]
  },
  {
   "cell_type": "code",
   "execution_count": 81,
   "id": "eecf6b1e",
   "metadata": {},
   "outputs": [
    {
     "name": "stdout",
     "output_type": "stream",
     "text": [
      "✅ Model 'gemini-2.5-flash' thành công lần 1/2 tại hàm identify_major_selected.\n",
      "✅ Model 'gemini-2.5-flash' thành công lần 1/2 tại hàm identify_major_selected.\n",
      "✅ Model 'gemini-2.5-flash' thành công lần 1/2 tại hàm identify_major_selected.\n",
      "✅ Model 'gemini-2.5-flash' thành công lần 1/2 tại hàm get_daily_top_news.\n",
      "✅ Model 'gemini-2.5-flash' thành công lần 1/2 tại hàm get_daily_top_news.\n",
      "✅ Model 'gemini-2.5-flash' thành công lần 1/2 tại hàm get_daily_top_news.\n"
     ]
    }
   ],
   "source": [
    "# Lựa chọn 1 tin tức nổi bật nhất cho mỗi nhóm\n",
    "daily_8h30_news_df['major_selected'] = identify_major_selected(standard_model_dict, daily_8h30_news_df)\n",
    "\n",
    "# Lựa chọn 3 tin tức phụ cho mỗi nhóm\n",
    "top_news_index_list = []\n",
    "for news_type in daily_8h30_news_df['news_type'].unique():\n",
    "    temp_news_index_list = get_daily_top_news(standard_model_dict, daily_8h30_news_df, news_type, num_articles = 3)\n",
    "    top_news_index_list = top_news_index_list + temp_news_index_list\n",
    "daily_8h30_news_df['sub_selected'] = daily_8h30_news_df.index.isin(top_news_index_list)\n",
    "daily_8h30_news_df['sub_selected'] = daily_8h30_news_df['sub_selected'].apply(lambda x: 'x' if x else '')\n",
    "\n",
    "# Gộp các tin được chọn vào cột ai_selected\n",
    "daily_8h30_news_df['ai_selected'] = daily_8h30_news_df.apply(lambda x: 'o' if x['major_selected'] == 'x' else ('x' if x['sub_selected'] == 'x' else ''), axis=1)\n",
    "daily_8h30_news_df = daily_8h30_news_df.drop(columns=['major_selected', 'sub_selected'])\n",
    "\n",
    "# Sắp xếp lại các cột\n",
    "daily_8h30_news_df['impact'] = pd.Categorical(daily_8h30_news_df['impact'], categories=['TÍCH CỰC', 'TRUNG LẬP', 'TIÊU CỰC'], ordered=True)\n",
    "daily_8h30_news_df.sort_values(by=['news_type', 'impact'], ascending=[False, True], inplace=True)"
   ]
  },
  {
   "cell_type": "markdown",
   "id": "900a3633",
   "metadata": {},
   "source": [
    "### Lưu dữ liệu vào MSSQL"
   ]
  },
  {
   "cell_type": "code",
   "execution_count": 82,
   "id": "e033fa82",
   "metadata": {},
   "outputs": [],
   "source": [
    "daily_8h30_time_df = pd.DataFrame([{\n",
    "    'time': time_series.iloc[0].item().strftime('%H:%M'),\n",
    "    'date': time_series.iloc[0].item().strftime('%d/%m/%Y')\n",
    "}])"
   ]
  },
  {
   "cell_type": "code",
   "execution_count": 83,
   "id": "addb7ea2",
   "metadata": {},
   "outputs": [],
   "source": [
    "%%capture\n",
    "save_to_mssql(cts_engine, daily_8h30_data_df, 'daily_8h30_data')\n",
    "save_to_mssql(cts_engine, daily_8h30_mm_df, 'daily_8h30_mm')\n",
    "save_to_mssql(cts_engine, daily_8h30_omo_df, 'daily_8h30_omo')\n",
    "save_to_mssql(cts_engine, daily_8h30_news_df, 'daily_8h30_news')\n",
    "save_to_mssql(cts_engine, daily_8h30_time_df, 'daily_8h30_time')\n"
   ]
  }
 ],
 "metadata": {
  "kernelspec": {
   "display_name": "base",
   "language": "python",
   "name": "python3"
  },
  "language_info": {
   "codemirror_mode": {
    "name": "ipython",
    "version": 3
   },
   "file_extension": ".py",
   "mimetype": "text/x-python",
   "name": "python",
   "nbconvert_exporter": "python",
   "pygments_lexer": "ipython3",
   "version": "3.12.7"
  }
 },
 "nbformat": 4,
 "nbformat_minor": 5
}
