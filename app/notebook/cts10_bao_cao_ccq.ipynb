{
 "cells": [
  {
   "cell_type": "markdown",
   "id": "961b5dbb",
   "metadata": {},
   "source": [
    "# Tạo Output thô sơ cho báo cáo chứng chỉ quỹ"
   ]
  },
  {
   "cell_type": "code",
   "execution_count": 29,
   "id": "12ce3b0b",
   "metadata": {},
   "outputs": [],
   "source": [
    "import sys\n",
    "import os\n",
    "import importlib\n",
    "sys.path.append(os.path.join(os.path.dirname(os.getcwd()), 'import'))\n",
    "sys.path.append(os.path.join(os.path.dirname(os.getcwd()), 'module'))\n",
    "\n",
    "import import_default\n",
    "import import_database\n",
    "import import_other\n",
    "\n",
    "importlib.reload(import_default)\n",
    "importlib.reload(import_database)\n",
    "importlib.reload(import_other)\n",
    "\n",
    "from import_default import *\n",
    "from import_database import *\n",
    "from import_other import *"
   ]
  },
  {
   "cell_type": "code",
   "execution_count": 30,
   "id": "ce5fbc75",
   "metadata": {},
   "outputs": [],
   "source": [
    "ctv_df = pd.read_excel('../input/ccq/cts02_danh_sach_ctv_ccq.xlsx')\n",
    "cn_df = pd.read_excel('../input/ccq/cts03_danh_sach_cn_ccq.xlsx')\n",
    "\n",
    "input_df = pd.read_excel('../input/ccq/cts01_phi_hop_tac_ccq.xlsx')\n",
    "input_df.columns = [\n",
    "    \"account_no\",\n",
    "    \"investor_name\",\n",
    "    \"dksh\",\n",
    "    \"fund\",\n",
    "    \"scheme\",\n",
    "    \"trading_date\",\n",
    "    \"txn_code\",\n",
    "    \"txn_type\",\n",
    "    \"ccq_unit\",\n",
    "    \"nav\",\n",
    "    \"gross_amount\",\n",
    "    \"net_amount\",\n",
    "    \"order_date\",\n",
    "    \"fee_amc\",\n",
    "    \"fund_fee\",\n",
    "    \"fee_dxx\",\n",
    "    \"fee_total\",\n",
    "    \"tax\",\n",
    "    \"register_partner_source_code\",\n",
    "    \"order_partner_source_code\",\n",
    "    \"channel_order\",\n",
    "    \"bda_name\",\n",
    "    \"rm_name\",\n",
    "    \"rm_code\",\n",
    "    \"branch_code\",\n",
    "    \"branch_name_rm\",\n",
    "    \"branch_name_account\"\n",
    "]\n",
    "input_df['dksh'] = input_df['dksh'].astype(str).str.zfill(12)"
   ]
  },
  {
   "cell_type": "markdown",
   "id": "aeafe78b",
   "metadata": {},
   "source": [
    "#### Xử lý OP1"
   ]
  },
  {
   "cell_type": "code",
   "execution_count": 31,
   "id": "8f54cc89",
   "metadata": {},
   "outputs": [],
   "source": [
    "def ten_cn_quan_ly_rm(code):\n",
    "    try:\n",
    "        branch_int = int(str(code)[-3:])\n",
    "        return cn_df[cn_df['ma_cn'] == branch_int]['ten_cn'].iloc[0] if len(cn_df[cn_df['ma_cn'] == branch_int]) > 0 else np.nan\n",
    "    except (ValueError, IndexError):\n",
    "        return np.nan\n",
    "    \n",
    "def ten_cn_quan_ly_tktt(code):\n",
    "    try:\n",
    "        branch_int = int(str(code)[:3])\n",
    "        return cn_df[cn_df['ma_cn'] == branch_int]['ten_cn'].iloc[0] if len(cn_df[cn_df['ma_cn'] == branch_int]) > 0 else np.nan\n",
    "    except (ValueError, IndexError):\n",
    "        return np.nan"
   ]
  },
  {
   "cell_type": "code",
   "execution_count": 32,
   "id": "4e722b9c",
   "metadata": {},
   "outputs": [],
   "source": [
    "op01_chi_tiet_thang = input_df.copy()\n",
    "op01_chi_tiet_thang['commision'] = op01_chi_tiet_thang.apply(lambda x: 0.0065*x['net_amount'] if x['fund'][:3] == 'VFF' else 0.0115*x['net_amount'], axis=1)\n",
    "op01_chi_tiet_thang['rm_name'] = op01_chi_tiet_thang['rm_name'].fillna(\"Dương Thuỳ Linh\")\n",
    "op01_chi_tiet_thang['rm_code_cts'] = op01_chi_tiet_thang['rm_code'].map(ctv_df[['ma_dinh_danh_vnc', 'ma_ctv_tai_cts']].set_index('ma_dinh_danh_vnc')['ma_ctv_tai_cts'].to_dict()).fillna(\"CTS\")\n",
    "op01_chi_tiet_thang['branch_code'] = op01_chi_tiet_thang['branch_code'].fillna(\"CTS\")\n",
    "op01_chi_tiet_thang['branch_name_rm'] = op01_chi_tiet_thang['branch_code'].apply(ten_cn_quan_ly_rm)\n",
    "op01_chi_tiet_thang['branch_name_account'] = op01_chi_tiet_thang['branch_name_account'].apply(ten_cn_quan_ly_tktt)\n",
    "op01_chi_tiet_thang.index = op01_chi_tiet_thang.index + 1\n",
    "\n",
    "op01_chi_tiet_thang = op01_chi_tiet_thang[['account_no', 'investor_name', 'dksh', 'fund', 'trading_date', 'txn_code', 'ccq_unit', 'nav', 'gross_amount', 'net_amount', 'commision', 'rm_code_cts', 'rm_name', 'rm_code', 'branch_code', 'branch_name_rm', 'branch_name_account']]"
   ]
  },
  {
   "cell_type": "markdown",
   "id": "e94a0ec3",
   "metadata": {},
   "source": [
    "#### Xử lý OP2"
   ]
  },
  {
   "cell_type": "code",
   "execution_count": null,
   "id": "8163b04a",
   "metadata": {},
   "outputs": [],
   "source": []
  },
  {
   "cell_type": "markdown",
   "id": "4fd09e2c",
   "metadata": {},
   "source": [
    "#### Xử lý OP3"
   ]
  },
  {
   "cell_type": "code",
   "execution_count": 33,
   "id": "d0b8e720",
   "metadata": {},
   "outputs": [],
   "source": [
    "op03a_ctv_detail = op01_chi_tiet_thang.copy()\n",
    "op03a_ctv_detail['phan_khuc'] = 'KHCN'\n",
    "op03a_ctv_detail['chi_nhanh_vietinbank'] = op03a_ctv_detail['branch_name_rm'].fillna(op03a_ctv_detail['branch_name_rm'])\n",
    "op03a_ctv_detail['ma_cn'] = op03a_ctv_detail['chi_nhanh_vietinbank'].map(cn_df[['ma_cn', 'ten_cn']].set_index('ten_cn')['ma_cn'].to_dict())\n",
    "op03a_ctv_detail['doanh_thu_ghi_nhan'] = op03a_ctv_detail.apply(lambda x: x['commision']*0.7 if x['rm_code_cts'] == 'CTS' else x['commision']*0.3, axis=1)\n",
    "op03a_ctv_detail['vung'] = op03a_ctv_detail['ma_cn'].map(cn_df.set_index('ma_cn')['vung'].to_dict())\n",
    "\n",
    "op03a_ctv_detail = op03a_ctv_detail[['account_no', 'investor_name', 'dksh', 'phan_khuc', 'rm_code_cts', 'ma_cn', 'chi_nhanh_vietinbank', 'net_amount', 'commision', 'doanh_thu_ghi_nhan', 'vung']]\n",
    "op03a_ctv_detail.index = op03a_ctv_detail.index + 1"
   ]
  },
  {
   "cell_type": "markdown",
   "id": "46ee6e97",
   "metadata": {},
   "source": [
    "#### Xuất dữ liệu"
   ]
  },
  {
   "cell_type": "code",
   "execution_count": 34,
   "id": "ea2b5471",
   "metadata": {},
   "outputs": [
    {
     "name": "stdout",
     "output_type": "stream",
     "text": [
      "✅ Tạo thành công file ../output/ccq/cts-ccq-report.xlsx\n"
     ]
    }
   ],
   "source": [
    "with pd.ExcelWriter('../output/ccq/cts-ccq-report.xlsx', engine='openpyxl') as writer:\n",
    "    op01_chi_tiet_thang.to_excel(writer, sheet_name='op01_chi_tiet_thang', index=False)\n",
    "    op03a_ctv_detail.to_excel(writer, sheet_name='op03a_ctv_detail', index=False)\n",
    "\n",
    "\n",
    "print('✅ Tạo thành công file ../output/ccq/cts-ccq-report.xlsx')"
   ]
  }
 ],
 "metadata": {
  "kernelspec": {
   "display_name": "base",
   "language": "python",
   "name": "python3"
  },
  "language_info": {
   "codemirror_mode": {
    "name": "ipython",
    "version": 3
   },
   "file_extension": ".py",
   "mimetype": "text/x-python",
   "name": "python",
   "nbconvert_exporter": "python",
   "pygments_lexer": "ipython3",
   "version": "3.12.7"
  }
 },
 "nbformat": 4,
 "nbformat_minor": 5
}
