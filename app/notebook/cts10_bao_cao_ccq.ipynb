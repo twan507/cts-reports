{
 "cells": [
  {
   "cell_type": "markdown",
   "id": "961b5dbb",
   "metadata": {},
   "source": [
    "# Tạo Output thô sơ cho báo cáo chứng chỉ quỹ"
   ]
  },
  {
   "cell_type": "code",
   "execution_count": 1,
   "id": "12ce3b0b",
   "metadata": {},
   "outputs": [],
   "source": [
    "# %%capture\n",
    "\n",
    "import sys\n",
    "import os\n",
    "import importlib\n",
    "sys.path.append(os.path.join(os.path.dirname(os.getcwd()), 'import'))\n",
    "sys.path.append(os.path.join(os.path.dirname(os.getcwd()), 'module'))\n",
    "\n",
    "import import_default\n",
    "import import_database\n",
    "import import_other\n",
    "\n",
    "importlib.reload(import_default)\n",
    "importlib.reload(import_database)\n",
    "importlib.reload(import_other)\n",
    "\n",
    "from import_default import *\n",
    "from import_database import *\n",
    "from import_other import *"
   ]
  },
  {
   "cell_type": "code",
   "execution_count": 51,
   "id": "ce5fbc75",
   "metadata": {},
   "outputs": [],
   "source": [
    "ctv_df = pd.read_excel('../data/ccq/cts02_danh_sach_ctv_ccq.xlsx')\n",
    "cn_df = pd.read_excel('../data/ccq/cts03_danh_sach_cn_ccq.xlsx')\n",
    "\n",
    "input_df = pd.read_excel('../data/ccq/cts01_phi_hop_tac_ccq.xlsx')\n",
    "input_df = input_df[['account_no','investor_name','dksh','fund','trading_date','order_code','ccq_unit','nav','gross_amount','net_amount','rm_name','ma_cn_qltk','rm_code_vncapital','branch_code_vncapital']]\n",
    "input_df = input_df.rename(columns={'order_code': 'txn_code'})"
   ]
  },
  {
   "cell_type": "markdown",
   "id": "aeafe78b",
   "metadata": {},
   "source": [
    "#### Xử lý OP1"
   ]
  },
  {
   "cell_type": "code",
   "execution_count": 49,
   "id": "8f54cc89",
   "metadata": {},
   "outputs": [],
   "source": [
    "def ten_cn_quan_ly_rm(code):\n",
    "    try:\n",
    "        branch_int = int(str(code)[-3:])\n",
    "        return cn_df[cn_df['ma_cn'] == branch_int]['ten_cn'].iloc[0] if len(cn_df[cn_df['ma_cn'] == branch_int]) > 0 else np.nan\n",
    "    except (ValueError, IndexError):\n",
    "        return np.nan\n",
    "    \n",
    "def ten_cn_quan_ly_tktt(code):\n",
    "    try:\n",
    "        branch_int = int(str(code)[:3])\n",
    "        return cn_df[cn_df['ma_cn'] == branch_int]['ten_cn'].iloc[0] if len(cn_df[cn_df['ma_cn'] == branch_int]) > 0 else np.nan\n",
    "    except (ValueError, IndexError):\n",
    "        return np.nan"
   ]
  },
  {
   "cell_type": "code",
   "execution_count": null,
   "id": "4e722b9c",
   "metadata": {},
   "outputs": [],
   "source": [
    "op01_chi_tiet_thang = input_df.copy()\n",
    "op01_chi_tiet_thang['rm_name'] = op01_chi_tiet_thang['rm_name'].fillna(\"Dương Thuỳ Linh\")\n",
    "op01_chi_tiet_thang['rm_code_cts'] = op01_chi_tiet_thang['rm_code_vncapital'].map(ctv_df[['ma_dinh_danh_vnc', 'ma_ctv_tai_cts']].set_index('ma_dinh_danh_vnc')['ma_ctv_tai_cts'].to_dict()).fillna(\"CTS\")\n",
    "op01_chi_tiet_thang['branch_code_vncapital'] = op01_chi_tiet_thang['branch_code_vncapital'].fillna(\"CTS\")\n",
    "op01_chi_tiet_thang['ten_cn_quan_ly_rm'] = op01_chi_tiet_thang['branch_code_vncapital'].apply(ten_cn_quan_ly_rm)\n",
    "op01_chi_tiet_thang['ten_cn_quan_ly_tktt'] = op01_chi_tiet_thang['ma_cn_qltk'].apply(ten_cn_quan_ly_tktt)"
   ]
  },
  {
   "cell_type": "markdown",
   "id": "e94a0ec3",
   "metadata": {},
   "source": [
    "#### Xử lý OP2"
   ]
  },
  {
   "cell_type": "code",
   "execution_count": null,
   "id": "8163b04a",
   "metadata": {},
   "outputs": [],
   "source": []
  },
  {
   "cell_type": "markdown",
   "id": "4fd09e2c",
   "metadata": {},
   "source": [
    "#### Xử lý OP3"
   ]
  },
  {
   "cell_type": "code",
   "execution_count": 98,
   "id": "d0b8e720",
   "metadata": {},
   "outputs": [],
   "source": [
    "op03a_ctv_detail = op01_chi_tiet_thang.copy()\n",
    "op03a_ctv_detail['phan_khuc'] = 'KHCN'\n",
    "op03a_ctv_detail['chi_nhanh_vietinbank'] = op03a_ctv_detail['ten_cn_quan_ly_rm'].fillna(op03a_ctv_detail['ten_cn_quan_ly_tktt'])\n",
    "op03a_ctv_detail['ma_cn'] = op03a_ctv_detail['chi_nhanh_vietinbank'].map(cn_df[['ma_cn', 'ten_cn']].set_index('ten_cn')['ma_cn'].to_dict())\n",
    "op03a_ctv_detail['phi_dv_doi_tac_tra_cts'] = op03a_ctv_detail['net_amount'].apply(lambda x: 0.0065*x if x == 'VFF' else 0.0115*x)\n",
    "op03a_ctv_detail['doanh_thu_ghi_nhan'] = op03a_ctv_detail.apply(lambda x: x['phi_dv_doi_tac_tra_cts']*0.7 if x['rm_code_cts'] == 'CTS' else x['phi_dv_doi_tac_tra_cts']*0.3, axis=1)\n",
    "op03a_ctv_detail['vung'] = op03a_ctv_detail['ma_cn'].map(cn_df.set_index('ma_cn')['vung'].to_dict())\n",
    "\n",
    "op03a_ctv_detail = op03a_ctv_detail[['account_no', 'investor_name', 'dksh', 'phan_khuc', 'rm_code_cts', 'ma_cn', 'chi_nhanh_vietinbank', 'net_amount', 'phi_dv_doi_tac_tra_cts', 'doanh_thu_ghi_nhan', 'vung']]"
   ]
  },
  {
   "cell_type": "markdown",
   "id": "46ee6e97",
   "metadata": {},
   "source": [
    "#### Xuất dữ liệu"
   ]
  },
  {
   "cell_type": "code",
   "execution_count": 101,
   "id": "ea2b5471",
   "metadata": {},
   "outputs": [
    {
     "name": "stdout",
     "output_type": "stream",
     "text": [
      "✅ Tạo thành công file ../output/ccq/cts-ccq-report.xlsx\n"
     ]
    }
   ],
   "source": [
    "with pd.ExcelWriter('../output/ccq/cts-ccq-report.xlsx', engine='openpyxl') as writer:\n",
    "    op01_chi_tiet_thang.to_excel(writer, sheet_name='op01_chi_tiet_thang')\n",
    "    op03a_ctv_detail.to_excel(writer, sheet_name='op03a_ctv_detail')\n",
    "\n",
    "\n",
    "print('✅ Tạo thành công file ../output/ccq/cts-ccq-report.xlsx')"
   ]
  }
 ],
 "metadata": {
  "kernelspec": {
   "display_name": "Python (Report Generator)",
   "language": "python",
   "name": "report-generator-venv"
  },
  "language_info": {
   "codemirror_mode": {
    "name": "ipython",
    "version": 3
   },
   "file_extension": ".py",
   "mimetype": "text/x-python",
   "name": "python",
   "nbconvert_exporter": "python",
   "pygments_lexer": "ipython3",
   "version": "3.12.7"
  }
 },
 "nbformat": 4,
 "nbformat_minor": 5
}
