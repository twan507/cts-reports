{
 "cells": [
  {
   "cell_type": "code",
   "execution_count": 2,
   "id": "9cb2b62e",
   "metadata": {},
   "outputs": [],
   "source": [
    "import sys\n",
    "import os\n",
    "import importlib\n",
    "sys.path.append(os.path.join(os.path.dirname(os.getcwd()), 'import'))\n",
    "sys.path.append(os.path.join(os.path.dirname(os.getcwd()), 'module'))\n",
    "\n",
    "import import_default\n",
    "import import_database\n",
    "import import_other\n",
    "import gemini_analyze_fuction\n",
    "import gemini_comment_fuction\n",
    "import gemini_setup_function\n",
    "import gemini_summary_function\n",
    "import get_and_crawl_data\n",
    "import plotly_and_upload\n",
    "\n",
    "importlib.reload(import_default)\n",
    "importlib.reload(import_database)\n",
    "importlib.reload(import_other)\n",
    "importlib.reload(gemini_analyze_fuction)\n",
    "importlib.reload(gemini_comment_fuction)\n",
    "importlib.reload(gemini_setup_function)\n",
    "importlib.reload(gemini_summary_function)\n",
    "importlib.reload(get_and_crawl_data)\n",
    "importlib.reload(plotly_and_upload)\n",
    "\n",
    "from import_default import *\n",
    "from import_database import *\n",
    "from import_other import *\n",
    "from gemini_analyze_fuction import *\n",
    "from gemini_comment_fuction import *\n",
    "from gemini_setup_function import *\n",
    "from gemini_summary_function import *\n",
    "from get_and_crawl_data import *\n",
    "from plotly_and_upload import *"
   ]
  },
  {
   "cell_type": "markdown",
   "id": "21b06e1a",
   "metadata": {},
   "source": [
    "#### Lấy dữ liệu Mongo"
   ]
  },
  {
   "cell_type": "code",
   "execution_count": 3,
   "id": "1135ce62",
   "metadata": {},
   "outputs": [],
   "source": [
    "date_series = get_mongo_collection(ref_db, 'date_series')\n",
    "time_series = get_mongo_collection(ref_db, 'time_series')\n",
    "name_map = get_mongo_collection(ref_db, \"name_map\")\n",
    "name_map_dict = name_map.set_index('code')['full_name'].to_dict()\n",
    "full_stock_classification_df = get_mongo_collection(ref_db, 'full_stock_classification')"
   ]
  },
  {
   "cell_type": "code",
   "execution_count": 4,
   "id": "57c02aab",
   "metadata": {},
   "outputs": [],
   "source": [
    "projection = {\n",
    "    \"_id\": 0,\n",
    "    \"date\": 1,\n",
    "    \"ticker\": 1,\n",
    "    \"open\": 1,\n",
    "    \"high\": 1,\n",
    "    \"low\": 1,\n",
    "    \"close\": 1,\n",
    "    \"pct_change\": 1,\n",
    "    \"diff\": 1,\n",
    "    \"volume\": 1,\n",
    "    \"option\": 1,\n",
    "    \"SMA_20\": 1,\n",
    "    \"SMA_60\": 1,\n",
    "    \"RSI_14\": 1,\n",
    "    \"week_prev_high\": 1,\n",
    "    \"week_prev_low\": 1,\n",
    "    \"week_open\": 1,\n",
    "    \"month_prev_high\": 1,\n",
    "    \"month_prev_low\": 1,\n",
    "    \"month_open\": 1,\n",
    "    \"quarter_prev_high\": 1,\n",
    "    \"quarter_prev_low\": 1,\n",
    "    \"quarter_open\": 1,\n",
    "    \"year_open\": 1,\n",
    "    \"MFIBO_0382\": 1,\n",
    "    \"MFIBO_0500\": 1,\n",
    "    \"MFIBO_0618\": 1,\n",
    "    \"QFIBO_0382\": 1,\n",
    "    \"QFIBO_0500\": 1,\n",
    "    \"QFIBO_0618\": 1,\n",
    "\t\"YFIBO_0382\": 1,\n",
    "    \"YFIBO_0500\": 1,\n",
    "    \"YFIBO_0618\": 1,\n",
    "    'WPIVOT_P': 1,\n",
    "    'MPIVOT_P': 1,\n",
    "}\n",
    "today_index_df = get_mongo_collection(stock_db, \"today_index\", projection=projection)\n",
    "history_index_df = get_mongo_collection(stock_db, \"history_index\", projection=projection)\n",
    "full_index_df = pd.concat([today_index_df, history_index_df], axis=0, ignore_index=True)"
   ]
  },
  {
   "cell_type": "code",
   "execution_count": 5,
   "id": "c6a41a52",
   "metadata": {},
   "outputs": [],
   "source": [
    "itd_index_df = get_mongo_collection(stock_db, \"itd_index\")\n",
    "other_ticker_df = get_mongo_collection(stock_db, 'other_ticker', projection=projection)\n",
    "nntd_index_df = get_mongo_collection(stock_db, 'nntd_index')\n",
    "nntd_stock_df = get_mongo_collection(stock_db, 'nntd_stock')"
   ]
  },
  {
   "cell_type": "markdown",
   "id": "78b0fa2e",
   "metadata": {},
   "source": [
    "#### Tạo các models cho gemini"
   ]
  },
  {
   "cell_type": "code",
   "execution_count": 6,
   "id": "da6958dc",
   "metadata": {},
   "outputs": [],
   "source": [
    "# Thiết lập kết nối với cơ sở dữ liệu\n",
    "genai.configure(api_key=load_env(\"GEMINI_API\"))\n",
    "\n",
    "# Sắp xếp danh sách model theo thứ tự ổn định\n",
    "# fast_model_list = select_fast_models(get_gemini_models())\n",
    "# standard_model_list = select_standard_models(get_gemini_models())\n",
    "fast_model_list = ['gemini-2.5-flash-lite', 'gemini-2.0-flash-lite', 'gemma-3-27b-it']\n",
    "standard_model_list = ['gemini-2.5-flash', 'gemini-2.0-flash', 'gemini-2.5-flash-lite', 'gemini-2.0-flash-lite', 'gemma-3-27b-it']\n",
    "\n",
    "# Tạo dictionary cho các model\n",
    "fast_model_dict = {model_name: genai.GenerativeModel(model_name) for model_name in fast_model_list}\n",
    "standard_model_dict = {model_name: genai.GenerativeModel(model_name) for model_name in standard_model_list}"
   ]
  },
  {
   "cell_type": "markdown",
   "id": "e88c042b",
   "metadata": {},
   "source": [
    "#### Dữ liệu thống kê giao dịch phiên hôm trước"
   ]
  },
  {
   "cell_type": "markdown",
   "id": "15ebf874",
   "metadata": {},
   "source": [
    "- Tính toán bảng dữ liệu"
   ]
  },
  {
   "cell_type": "code",
   "execution_count": 7,
   "id": "80230d50",
   "metadata": {},
   "outputs": [],
   "source": [
    "itd_vn30f1m_df = itd_index_df[itd_index_df['ticker'] == 'VN30F1M'].reset_index(drop=True)\n",
    "eod_vn30f1m_df = full_index_df[full_index_df['ticker'] == 'VN30F1M'].reset_index(drop=True)\n",
    "eod_vn30_df = full_index_df[full_index_df['ticker'] == 'VN30'].reset_index(drop=True)\n",
    "vn30f1m_close_prev = eod_vn30f1m_df[eod_vn30f1m_df['date'] < itd_vn30f1m_df['date'].iloc[-1].normalize()].iloc[0]['close'].item()\n",
    "vn30_close_prev = eod_vn30_df[eod_vn30_df['date'] < itd_vn30f1m_df['date'].iloc[-1].normalize()].iloc[0]['close'].item()\n",
    "\n",
    "itd_vn30f1m_df['cum_volume'] = itd_vn30f1m_df['volume'][::-1].cumsum()[::-1]\n",
    "itd_vn30f1m_df['pct_change'] = (itd_vn30f1m_df['close'] - vn30f1m_close_prev) / vn30f1m_close_prev\n",
    "itd_vn30f1m_df['diff'] = itd_vn30f1m_df['close'] - vn30f1m_close_prev\n",
    "itd_vn30f1m_df['basis'] = itd_vn30f1m_df['close'] - vn30_close_prev\n",
    "itd_vn30f1m_df['open_interest'] = eod_vn30f1m_df[eod_vn30f1m_df['date'] < itd_vn30f1m_df['date'].iloc[-1].normalize()].iloc[0]['option'].item()\n",
    "\n",
    "itd_vn30f1m_df['week_open'] = eod_vn30f1m_df[eod_vn30f1m_df['date'] < itd_vn30f1m_df['date'].iloc[-1].normalize()].iloc[0]['week_open'].item()\n",
    "itd_vn30f1m_df['week_prev_high'] = eod_vn30f1m_df[eod_vn30f1m_df['date'] < itd_vn30f1m_df['date'].iloc[-1].normalize()].iloc[0]['week_prev_high'].item()\n",
    "itd_vn30f1m_df['week_prev_low'] = eod_vn30f1m_df[eod_vn30f1m_df['date'] < itd_vn30f1m_df['date'].iloc[-1].normalize()].iloc[0]['week_prev_low'].item()\n",
    "itd_vn30f1m_df['week_pivot'] = eod_vn30f1m_df[eod_vn30f1m_df['date'] < itd_vn30f1m_df['date'].iloc[-1].normalize()].iloc[0]['WPIVOT_P'].item()\n",
    "\n",
    "itd_vn30f1m_df['month_open'] = eod_vn30f1m_df[eod_vn30f1m_df['date'] < itd_vn30f1m_df['date'].iloc[-1].normalize()].iloc[0]['month_open'].item()\n",
    "itd_vn30f1m_df['month_prev_high'] = eod_vn30f1m_df[eod_vn30f1m_df['date'] < itd_vn30f1m_df['date'].iloc[-1].normalize()].iloc[0]['month_prev_high'].item()\n",
    "itd_vn30f1m_df['month_prev_low'] = eod_vn30f1m_df[eod_vn30f1m_df['date'] < itd_vn30f1m_df['date'].iloc[-1].normalize()].iloc[0]['month_prev_low'].item()\n",
    "itd_vn30f1m_df['month_pivot'] = eod_vn30f1m_df[eod_vn30f1m_df['date'] < itd_vn30f1m_df['date'].iloc[-1].normalize()].iloc[0]['MPIVOT_P'].item()\n",
    "\n",
    "daily_8h45_itd_df = itd_vn30f1m_df.sort_values('date').copy()"
   ]
  },
  {
   "cell_type": "markdown",
   "id": "ccf5cf79",
   "metadata": {},
   "source": [
    "- Viêt nhận xét ngắn"
   ]
  },
  {
   "cell_type": "code",
   "execution_count": 8,
   "id": "eb7090e8",
   "metadata": {},
   "outputs": [
    {
     "name": "stdout",
     "output_type": "stream",
     "text": [
      "✅ Model 'gemini-2.5-flash' thành công lần 1/2 tại hàm daily_vn30f1m_overall_comment.\n"
     ]
    }
   ],
   "source": [
    "def daily_vn30f1m_overall_comment(df):\n",
    "    prompt = f\"\"\"\n",
    "    Đây là dữ liệu của chỉ số hợp đồng tương lai VN30F1M:\n",
    "    {df.to_csv(index=False, sep='|', lineterminator='\\n')}\n",
    "\n",
    "    **Bối cảnh:**\n",
    "    Hãy đóng vai là một nhà phân tích tài chính chuyên nghiệp và khách quan của một công ty chứng khoán. Nhiệm vụ của bạn là phân tích dữ liệu giá theo phút của hợp đồng tương lai (ticker VN30F1M) được cung cấp và viết một báo cáo ngắn gọn, súc tích về diễn biến của phiên giao dịch đó.\n",
    "\n",
    "    **Dữ liệu đầu vào:**\n",
    "    Dữ liệu là một chuỗi văn bản chứa thông tin giao dịch theo từng phút, bao gồm các cột: `date`, `ticker`, `open`, `high`, `low`, `close`.\n",
    "\n",
    "    **Yêu cầu đầu ra:**\n",
    "    Kết quả trả về phải tuân thủ nghiêm ngặt các quy tắc sau:\n",
    "\n",
    "    * **Định dạng:** Chỉ trả về **duy nhất** đoạn văn phân tích. **Tuyệt đối không** thêm bất kỳ câu dẫn dắt, tiêu đề, hay lời chào nào (ví dụ: không được viết \"Dưới đây là báo cáo...\" hoặc \"Sau khi phân tích...\").\n",
    "    * **Cấu trúc:** Đoạn văn phải có chính xác **3 câu**. Mỗi câu từ 25 đến 30 từ.\n",
    "    * **Giọng điệu:** Chuyên nghiệp, khách quan, mang tính tường thuật, không đưa ra khuyến nghị mua/bán.\n",
    "    * **Nguồn:** Mọi phân tích phải dựa hoàn toàn vào dữ liệu được cung cấp.\n",
    "    * **LUÔN LUÔN** sử dụng ngày dạng \"dd/mm\" trong bài viết khi được yêu cầu.\n",
    "\n",
    "    **Chi tiết hướng dẫn cho từng câu:**\n",
    "\n",
    "    * **Câu 1: Bối cảnh và Diễn biến mở đầu (khoảng 15-20 từ)**\n",
    "        * **Mục đích:** Giới thiệu bối cảnh phiên giao dịch và mô tả xu hướng ngay sau khi thị trường mở cửa.\n",
    "        * **Hướng dẫn nội dung:**\n",
    "            1.  Bắt đầu câu bằng cụm từ \"Trong phiên giao dịch ngày `[DD/MM/YYYY]`...\". Bạn phải tự động trích xuất và định dạng ngày từ cột `date` trong dữ liệu.\n",
    "            2.  Nhận xét ngắn gọn về trạng thái mở cửa (ví dụ: \"mở cửa khá ổn định\", \"mở cửa trong sắc xanh\", \"chịu áp lực ngay từ đầu\").\n",
    "            3.  Mô tả hành động giá ngay sau đó (ví dụ: \"nhưng nhanh chóng chịu áp lực bán\", \"tuy nhiên đà tăng không duy trì được\", \"và tiếp tục nới rộng đà giảm\").\n",
    "\n",
    "    * **Câu 2: Diễn biến chính và Mức biến động (khoảng 15-20 từ)**\n",
    "        * **Mục đích:** Tóm tắt xu hướng chủ đạo trong phiên và định lượng mức độ biến động mạnh nhất.\n",
    "        * **Hướng dẫn nội dung:**\n",
    "            1.  Mô tả xu hướng chính kéo dài trong phiên (ví dụ: \"Xu hướng tiêu cực này chiếm ưu thế\", \"Lực mua chủ động xuyên suốt phiên\").\n",
    "            2.  Làm nổi bật mức biến động lớn nhất bằng cách tính chênh lệch giữa giá trị `high` cao nhất và `low` thấp nhất trong toàn bộ dữ liệu. Diễn đạt nó dưới dạng \"đẩy chỉ số có thời điểm giảm hơn `X` điểm so với mức cao nhất\" hoặc \"giúp chỉ số có lúc tăng hơn `X` điểm so với mức điểm thấp nhất\" .\n",
    "\n",
    "    * **Câu 3: Tổng kết cuối phiên (khoảng 15-20 từ)**\n",
    "        * **Mục đích:** Mô tả các nỗ lực vào cuối phiên và chốt lại trạng thái của giá đóng cửa.\n",
    "        * **Hướng dẫn nội dung:**\n",
    "            1.  Nhận xét về các diễn biến trong giai đoạn cuối phiên (ví dụ: \"Mặc dù một nỗ lực phục hồi...\", \"Áp lực bán gia tăng trở lại...\", \"Xu hướng vẫn tiếp diễn...\").\n",
    "            2.  Đưa ra kết luận về giá đóng cửa so với mặt bằng chung của phiên (ví dụ: \"chỉ số vẫn duy trì ở vùng giá thấp\", \"bảo toàn được thành quả\", \"thu hẹp đáng kể đà giảm\").\n",
    "    \"\"\"\n",
    "    return prompt\n",
    "\n",
    "overall_vn30f1m_comment = generate_content_with_model_dict(standard_model_dict, daily_vn30f1m_overall_comment(itd_vn30f1m_df), 'daily_vn30f1m_overall_comment')"
   ]
  },
  {
   "cell_type": "markdown",
   "id": "b17a83fb",
   "metadata": {},
   "source": [
    "#### Lấy dữ liệu nntd VN30F1M"
   ]
  },
  {
   "cell_type": "code",
   "execution_count": 9,
   "id": "211dd3b4",
   "metadata": {},
   "outputs": [],
   "source": [
    "# Đọc tất cả các file FiinProX từ thư mục Downloads\n",
    "fiinprox_files = glob.glob(os.path.join(str(Path.home() / \"Downloads\"), \"*FiinProX*.xlsx\"))\n",
    "\n",
    "# Lọc lại các file chứa dữ liệu thị trường mở và có số cột > 6\n",
    "td_finprox_files = []\n",
    "for file in fiinprox_files:\n",
    "    df = pd.read_excel(file)\n",
    "    td_name_check = df.applymap(lambda x: isinstance(x, str) and \"Thống kê thị trường_Tự doanh-Chi tiết\" in x).any().any()\n",
    "    if td_name_check:\n",
    "        td_finprox_files.append(file)\n",
    "if len(td_finprox_files) == 0:\n",
    "    raise FileNotFoundError(\"❌ Chưa tải dữ liệu Tự Doanh từ FiinProX.\")\n",
    "\n",
    "# Sắp xếp fiinprox_files theo thời gian tạo (tăng dần) và lấy file mới nhất\n",
    "last_td_fiinprox_file = sorted(td_finprox_files, key=os.path.getctime)[-1]"
   ]
  },
  {
   "cell_type": "code",
   "execution_count": 10,
   "id": "d57f3edc",
   "metadata": {},
   "outputs": [
    {
     "name": "stdout",
     "output_type": "stream",
     "text": [
      "✅ Đã cập nhật dữ liệu Tự Doanh đã mới nhất. Ngày trong dữ liệu: 14-08-2025\n"
     ]
    }
   ],
   "source": [
    "#Đọc dữ liệu Tự Doanh từ file mới nhất\n",
    "td_vn30f1m_df = pd.read_excel(last_td_fiinprox_file, skiprows=8).iloc[:, :12]\n",
    "td_vn30f1m_df = td_vn30f1m_df.dropna().iloc[:20].reset_index(drop=True)\n",
    "td_vn30f1m_df = td_vn30f1m_df.drop(td_vn30f1m_df.columns[[3, 5, 7, 9]], axis=1)\n",
    "td_vn30f1m_df.columns = ['ticker', 'date', 'buy_volume', 'sell_volume', 'buy_value', 'sell_value', 'net_value', 'net_volume']\n",
    "td_vn30f1m_df['sell_volume'] = -td_vn30f1m_df['sell_volume']\n",
    "td_vn30f1m_df['sell_value'] = -td_vn30f1m_df['sell_value']\n",
    "td_vn30f1m_df[[col for col in td_vn30f1m_df.columns if '_value' in col]] = td_vn30f1m_df[[col for col in td_vn30f1m_df.columns if '_value' in col]]/1000\n",
    "td_vn30f1m_df['type'] = 'TD'\n",
    "\n",
    "#Kiểm tra xem dữ liệu Tự Doanh đã mới nhất chưa\n",
    "td_date_check = td_vn30f1m_df['date'].max()\n",
    "date_to_check = date_series.iloc[2].item()\n",
    "if td_date_check < date_to_check:\n",
    "    raise ValueError(f\"❌ Dữ liệu Tự Doanh không mới nhất. Ngày trong dữ liệu: {td_date_check}, ngày yêu cầu: {date_to_check}\")\n",
    "else:\n",
    "    print(f\"✅ Đã cập nhật dữ liệu Tự Doanh đã mới nhất. Ngày trong dữ liệu: {td_date_check.strftime('%d-%m-%Y')}\")\n",
    "\n",
    "#Lưu riêng ticker cho VN30F1M dùng sau này\n",
    "vn30f1m_ticker = td_vn30f1m_df['ticker'].unique()[0]\n",
    "\n",
    "#Dữ liệu NN từ Fireant\n",
    "nn_vn30f1m_df = nntd_index_df[(nntd_index_df['ticker'] == 'VN30F1M') & (nntd_index_df['type'] == 'NN')].reset_index(drop=True)\n",
    "nn_vn30f1m_df['ticker'] = vn30f1m_ticker\n",
    "\n",
    "#Ghép bảng NN và TD\n",
    "daily_8h45_nntd_df = pd.concat([nn_vn30f1m_df, td_vn30f1m_df], axis=0, ignore_index=True)"
   ]
  },
  {
   "cell_type": "markdown",
   "id": "72e0a0d5",
   "metadata": {},
   "source": [
    "#### Vẽ biểu đồ kĩ thuật"
   ]
  },
  {
   "cell_type": "code",
   "execution_count": null,
   "id": "b0c79b5c",
   "metadata": {},
   "outputs": [],
   "source": [
    "vn30f1m_chart_df = full_index_df[full_index_df['ticker'] == 'VN30F1M'].iloc[:120].sort_values('date').reset_index(drop=True)\n",
    "vn30f1m_chart_df['ticker'] = vn30f1m_ticker\n",
    "image_name = 'TA_DAILY_VN30F1M.png'\n",
    "\n",
    "line_name_dict = {\n",
    "    'SMA_20': 'SMA 20',\n",
    "    'SMA_60': 'SMA 60',\n",
    "    'week_open': 'WEEK OPEN',\n",
    "    'month_open': 'MONTH OPEN',\n",
    "    'quarter_open': 'QUARTER OPEN',\n",
    "    'year_open': 'YEAR OPEN',\n",
    "    'month_prev_high': 'LAST MHIGH',\n",
    "    'month_prev_low': 'LAST MLOW',\n",
    "    'quarter_prev_high': 'LAST QHIGH',\n",
    "    'quarter_prev_low': 'LAST QLOW',\n",
    "    'MFIBO_0382': 'MFIBO 0.382',\n",
    "    'MFIBO_0500': 'MFIBO 0.500',\n",
    "    'MFIBO_0618': 'MFIBO 0.618',\n",
    "    'QFIBO_0382': 'QFIBO 0.382',\n",
    "    'QFIBO_0500': 'QFIBO 0.500',\n",
    "    'QFIBO_0618': 'QFIBO 0.618',\n",
    "\t'YFIBO_0382': 'YFIBO 0.382',\n",
    "    'YFIBO_0500': 'YFIBO 0.500',\n",
    "    'YFIBO_0618': 'YFIBO 0.618'\n",
    "}\n",
    "\n",
    "chart_config = create_chart_config(\n",
    "\ttitle_font_size=30,\n",
    "\taxis_font_size=24,\n",
    "\ttag_font_size=24,\n",
    "\tprice_tag_font_size=24,\n",
    "    min_spacing_ratio = 0.042,\n",
    "\tmargin=dict(l=20, r=220, t=20, b=20, pad=10)\n",
    ")\n",
    "\n",
    "max_attempts = 5\n",
    "for attempt in range(max_attempts):\n",
    "    try:\n",
    "        fig, fig_images = create_financial_chart(\n",
    "            vn30f1m_chart_df, # DataFrame của bạn\n",
    "            width=1400,\n",
    "            height=1200,\n",
    "            line_name_dict=line_name_dict,\n",
    "            line_columns=list(line_name_dict.keys()),\n",
    "            chart_config=chart_config,\n",
    "            path='../output/daily/',\n",
    "            symbol_name='VN30F1M',\n",
    "            image_name = image_name\n",
    "        )\n",
    "        upload_to_r2(fig_images, image_name)\n",
    "        break\n",
    "    except Exception as e:\n",
    "        if attempt == max_attempts - 1:\n",
    "            raise e\n",
    "# fig.show()"
   ]
  },
  {
   "cell_type": "code",
   "execution_count": 14,
   "id": "d8cbb513",
   "metadata": {},
   "outputs": [
    {
     "name": "stdout",
     "output_type": "stream",
     "text": [
      "✅ Model 'gemini-2.5-flash' thành công lần 1/2 tại hàm daily_vn30f1m_ta_analysis.\n"
     ]
    }
   ],
   "source": [
    "def daily_vn30f1m_ta_analysis(itd_df, eod_df):\n",
    "    prompt = f\"\"\"\n",
    "Đây là dữ liệu trong phiên gần nhất của chỉ số hợp đồng tương lai VN30F1M:\n",
    "    {itd_df[['date', 'ticker', 'open', 'high', 'low', 'close']].to_csv(index=False, sep='|', lineterminator='\\\\n')}\n",
    "\n",
    "Đây là dữ liệu lịch sử của chỉ số hợp đồng tương lai VN30F1M:\n",
    "    {eod_df.to_csv(index=False, sep='|', lineterminator='\\\\n')}\n",
    "\n",
    "**Vai trò:** Bạn là một **nhà phân tích kỹ thuật cấp cao**, chuyên về phái sinh, có nhiệm vụ đưa ra nhận định kỹ thuật khách quan và sắc bén.\n",
    "\n",
    "**Nhiệm vụ:** Dựa trên dữ liệu và các chỉ báo kỹ thuật, hãy viết một báo cáo phân tích về trạng thái kỹ thuật của chỉ số cho **phiên kế tiếp**, tuân thủ nghiêm ngặt cấu trúc **8 câu, 3 đoạn**.\n",
    "\n",
    "**Yêu cầu về nội dung, cấu trúc và định dạng:**\n",
    "    Báo cáo phải gồm **8 câu, mỗi câu dài khoảng 20 đến 25 từ** và được chia thành **3 đoạn văn riêng biệt**. Bắt đầu thẳng vào nội dung, không có lời chào.\n",
    "\n",
    "    **Đoạn 1 (3 câu): Phân tích Phiên Gần Nhất dựa vào dự liệu trong phiên gần nhất**\n",
    "        * **Câu 1:** Viết một câu duy nhất mô tả phiên gần nhất theo đúng cấu trúc sau: **\"Trong phiên (dd/mm), chỉ số [Trạng thái mở cửa so với phiên trước] và [Diễn biến ngắn gọn đầu và cuối phiên]\"** đã hình thành nên một **\"[Mô tả ngắn gọn về cây nến (nến tăng, nến giảm hoặc nến lưỡng lự), sử dụng giá OHLC ngày cuối cùng]\"**, thể hiện **\"[Kết luận về phe thắng thế hoặc sự giằng co trong phiên]\"**.\n",
    "        * **Câu 2:** Phân tích vai trò của hai đường **SMA 20 và SMA 60** trong việc xác nhận xu hướng ngắn hạn và trung hạn hiện tại.\n",
    "        * **Câu 3:** Đánh giá chỉ báo **RSI 14**, nêu bật trạng thái hiện tại của chỉ báo (ví dụ: vùng trung tính, quá mua/bán) và ý nghĩa của nó.\n",
    "\n",
    "    **Đoạn 2 (3 câu): Xác định các Vùng giá Cốt lõi dựa vào giữ liệu lịch sử**\n",
    "        * **Câu 4:** Phân tích và xác định mốc hỗ trợ/kháng cự quan trọng theo **khung Tuần** (kết hợp O-H-L gần nhất và Fibonacci gần nhất).\n",
    "        * **Câu 5:** Phân tích và xác định mốc hỗ trợ/kháng cự quan trọng theo **khung Tháng** (kết hợp O-H-L gần nhất và Fibonacci gần nhất).\n",
    "        * **Câu 6:** Đưa ra kết luận và nhấn mạnh **một vùng hỗ trợ và một vùng kháng cự then chốt nhất** sẽ quyết định xu hướng trong các phiên tới.\n",
    "\n",
    "    **Đoạn 3 (2 câu): Kết luận Kỹ thuật**\n",
    "        * **Câu 7:** Đưa ra một câu nhận định tổng thể, khẳng định xu hướng kỹ thuật chủ đạo hiện tại của chỉ số (tăng, giảm hoặc đi ngang).\n",
    "        * **Câu 8:** Ngay sau đó, chỉ ra các vùng giá hỗ trợ và kháng cự then chốt sẽ là tâm điểm quyết định cho các phiên giao dịch tiếp theo và giải thích tại sao.\n",
    "\n",
    "**Yêu cầu về ngôn ngữ và trình bày:**\n",
    "    * **Văn phong:** Sắc bén, khách quan, quyết đoán và đa dạng, tránh lặp lại cấu trúc câu.\n",
    "    * **TUYỆT ĐỐI KHÔNG** sử dụng dấu ;.\n",
    "    * **TUYỆT ĐỐI KHÔNG** được viết tên cột dữ liệu gốc và **KHÔNG** có lời chào hay câu dẫn dắt.\n",
    "    * **TUYỆT ĐỐI KHÔNG** sử dụng các từ nối mang tính tổng kết ở đầu câu, cứ đi thẳng vào nội dung chính (ví dụ: \"Tóm lại\", \"Nhìn chung\", \"Do đó\", \"Theo đó\", \"Tổng thể\").\n",
    "    * **LUÔN LUÔN** sử dụng ngày dạng \"dd/mm\" trong bài viết khi được yêu cầu.\n",
    "    \"\"\"\n",
    "    return prompt\n",
    "\n",
    "ta_vn30f1m_comment = generate_content_with_model_dict(standard_model_dict, daily_vn30f1m_ta_analysis(itd_vn30f1m_df, vn30f1m_chart_df), 'daily_vn30f1m_ta_analysis')\n"
   ]
  },
  {
   "cell_type": "markdown",
   "id": "00e375a1",
   "metadata": {},
   "source": [
    "#### Chiến lược mua bán"
   ]
  },
  {
   "cell_type": "code",
   "execution_count": 18,
   "id": "a59e92e0",
   "metadata": {},
   "outputs": [
    {
     "name": "stdout",
     "output_type": "stream",
     "text": [
      "✅ Model 'gemini-2.5-flash' thành công lần 1/2 tại hàm daily_vn30f1m_long.\n"
     ]
    }
   ],
   "source": [
    "def prompt_vn30f1m_long(df, ta_vn30f1m_comment):\n",
    "    return f\"\"\"\n",
    "Đây là dữ liệu của chỉ số hợp đồng tương lai VN30F1M (OHLCV và chỉ báo):\n",
    "{df.to_csv(index=False, sep='|', lineterminator='\\\\n')}\n",
    "\n",
    "Đây là nhận định từ chuyên gia về xu hướng thị trường:\n",
    "{ta_vn30f1m_comment}\n",
    "\n",
    "**Bối cảnh và Vai trò**\n",
    "Bạn là một nhà phân tích kỹ thuật cao cấp tại quỹ đầu tư, chuyển hóa dữ liệu và nhận định thành kế hoạch hành động có thể thực thi ngay trong phiên kế tiếp. Giá hiện tại = giá Close của bản ghi cuối cùng.\n",
    "\n",
    "**Yêu cầu đầu ra — Cấu trúc và Nội dung**\n",
    "Đầu ra phải gồm ĐÚNG 3 đoạn văn, mỗi đoạn ĐÚNG 2 câu, và mỗi câu kết thúc bằng dấu chấm (.). Tuyệt đối không sử dụng dấu chấm phẩy (;) hoặc bất kỳ ký tự phân cách câu nào khác. Không có tiêu đề, không bullet, không câu dẫn, và không thêm bất kỳ câu hay đoạn văn nào khác ngoài 3 đoạn yêu cầu. Văn phong chuyên nghiệp, súc tích, khách quan, và có tính liền mạch. \n",
    "**Độ dài mỗi câu văn chính xác trong khoảng từ 20 tới 25 từ.**\n",
    "\n",
    "**Nội dung chi tiết cho từng đoạn:**\n",
    "\n",
    "**Đoạn 1: Điểm vào lệnh Long tiềm năng và lý do**\n",
    "- Trong hai câu, hãy trình bày hai vùng vào lệnh Long tiềm năng nhất, đồng thời nêu rõ lý do kỹ thuật cụ thể cho từng điểm vào.\n",
    "\n",
    "**Đoạn 2: Mục tiêu chốt lời tiềm năng và tiêu chí xác nhận**\n",
    "- Trong hai câu, hãy đề xuất hai mục tiêu Chốt Lời cho vị thế Long, xác định rõ mốc giá hoặc vùng cụ thể cùng với tiêu chí kỹ thuật cần đạt để xác nhận thành công mỗi mục tiêu.\n",
    "\n",
    "**Đoạn 3: Vùng cắt lỗ và tiêu chí xác nhận**\n",
    "- Trong hai câu, hãy xác định các vùng Cắt Lỗ cụ thể (cách các điểm vào lệnh đã trình bày ở trên bám sát mốc kỹ thuật quan trọng, ưu tiên mốc kĩ thuật gần nhất, nếu không có mốc nào gần thị gọn vùng tròn số cách khoảng 5 điểm), đồng thời nêu rõ tiêu chí kỹ thuật cần đạt để xác nhận việc cắt lỗ.\n",
    "\n",
    "- *Lưu ý quan trọng*: Chỉ dùng TIẾNG VIỆT và Tuyệt đối không dùng từ \"mua\" trong toàn bộ đầu ra, nên ưu tiên dùng \"vị thế Long\" hoặc các cụm từ mang hàm ý tương tự.\n",
    "    \"\"\"\n",
    "\n",
    "long_comment = generate_content_with_model_dict(standard_model_dict, prompt_vn30f1m_long(vn30f1m_chart_df, ta_vn30f1m_comment), 'daily_vn30f1m_long')"
   ]
  },
  {
   "cell_type": "code",
   "execution_count": null,
   "id": "8245f7de",
   "metadata": {},
   "outputs": [
    {
     "name": "stdout",
     "output_type": "stream",
     "text": [
      "✅ Model 'gemini-2.5-flash' thành công lần 1/2 tại hàm daily_vn30f1m_short.\n"
     ]
    }
   ],
   "source": [
    "def prompt_vn30f1m_short(df, ta_vn30f1m_comment):\n",
    "    return f\"\"\"\n",
    "Đây là dữ liệu của chỉ số hợp đồng tương lai VN30F1M (OHLCV và chỉ báo):\n",
    "{df.to_csv(index=False, sep='|', lineterminator='\\\\n')}\n",
    "\n",
    "Đây là nhận định từ chuyên gia về xu hướng thị trường:\n",
    "{ta_vn30f1m_comment}\n",
    "\n",
    "**Bối cảnh và Vai trò**\n",
    "Bạn là một nhà phân tích kỹ thuật cao cấp tại quỹ đầu tư, chuyển hóa dữ liệu và nhận định thành kế hoạch hành động có thể thực thi ngay trong phiên kế tiếp. Giá hiện tại = giá Close của bản ghi cuối cùng.\n",
    "\n",
    "**Yêu cầu đầu ra — Cấu trúc và Nội dung**\n",
    "Đầu ra phải gồm ĐÚNG 3 đoạn văn, mỗi đoạn ĐÚNG 2 câu, và mỗi câu kết thúc bằng dấu chấm (.). Tuyệt đối không sử dụng dấu chấm phẩy (;) hoặc bất kỳ ký tự phân cách câu nào khác. Không có tiêu đề, không bullet, không câu dẫn, và không thêm bất kỳ câu hay đoạn văn nào khác ngoài 3 đoạn yêu cầu. Văn phong chuyên nghiệp, súc tích, khách quan, và có tính liền mạch. \n",
    "**Độ dài mỗi câu văn chính xác trong khoảng từ 20 tới 25 từ.**\n",
    "\n",
    "**Nội dung chi tiết cho từng đoạn:**\n",
    "\n",
    "**Đoạn 1: Điểm vào lệnh Short tiềm năng và lý do**\n",
    "- Trong hai câu, hãy trình bày hai vùng vào lệnh Short tiềm năng nhất, đồng thời nêu rõ lý do kỹ thuật cụ thể cho từng điểm vào.\n",
    "\n",
    "**Đoạn 2: Mục tiêu chốt lời tiềm năng và tiêu chí xác nhận**\n",
    "- Trong hai câu, hãy đề xuất hai mục tiêu Chốt Lời cho vị thế Short, xác định rõ mốc giá hoặc vùng cụ thể cùng với tiêu chí kỹ thuật cần đạt để xác nhận thành công mỗi mục tiêu.\n",
    "\n",
    "**Đoạn 3: Vùng cắt lỗ và tiêu chí xác nhận**\n",
    "- Trong hai câu, hãy xác định các vùng Cắt Lỗ cụ thể (cách các điểm vào lệnh đã trình bày ở trên bám sát mốc kỹ thuật quan trọng, ưu tiên mốc kĩ thuật gần nhất, nếu không có mốc nào gần thì gọn vùng tròn số cách khoảng 5 điểm), đồng thời nêu rõ tiêu chí kỹ thuật cần đạt để xác nhận việc cắt lỗ.\n",
    "\n",
    "- *Lưu ý quan trọng*: Chỉ dùng TIẾNG VIỆT Tuyệt đối không dùng từ \"bán\" trong toàn bộ đầu ra, nên ưu tiên dùng \"vị thế Short\" hoặc các cụm từ mang hàm ý tương tự.\n",
    "    \"\"\"\n",
    "\n",
    "short_comment = generate_content_with_model_dict(standard_model_dict, prompt_vn30f1m_short(vn30f1m_chart_df, ta_vn30f1m_comment), 'daily_vn30f1m_short')"
   ]
  },
  {
   "cell_type": "code",
   "execution_count": 14,
   "id": "c883097b",
   "metadata": {},
   "outputs": [
    {
     "name": "stdout",
     "output_type": "stream",
     "text": [
      "✅ Model 'gemini-2.5-flash' thành công lần 1/2 tại hàm daily_vn30f1m_risk.\n"
     ]
    }
   ],
   "source": [
    "def prompt_vn30f1m_risk(long_comment, short_comment):\n",
    "    return f\"\"\"\n",
    "Đây là nhận định từ chuyên gia về vị thế Long:\n",
    "{long_comment}\n",
    "\n",
    "Đây là nhận định từ chuyên gia về vị thế Short:\n",
    "{short_comment}\n",
    "\n",
    "**Bối cảnh và Vai trò**\n",
    "Bạn là một nhà phân tích kỹ thuật cao cấp tại quỹ đầu tư, chuyển hóa dữ liệu và nhận định thành kế hoạch hành động có thể thực thi ngay trong phiên kế tiếp. Giá hiện tại = giá Close của bản ghi cuối cùng.\n",
    "\n",
    "**Yêu cầu đầu ra — Cấu trúc và Nội dung**\n",
    "Đầu ra phải gồm ĐÚNG 1 đoạn văn, trong đó có ĐÚNG 2 câu, và mỗi câu kết thúc bằng dấu chấm (.). Tuyệt đối không sử dụng dấu chấm phẩy (;) hoặc bất kỳ ký tự phân cách câu nào khác. Không có tiêu đề, không bullet, không câu dẫn, và không thêm bất kỳ câu hay đoạn văn nào khác ngoài 3 đoạn yêu cầu. Văn phong chuyên nghiệp, súc tích, khách quan, và có tính liền mạch. \n",
    "**Độ dài mỗi câu văn chính xác trong khoảng từ 20 tới 30 từ.**\n",
    "\n",
    "**Hướng dẫn chi tiết cho từng câu**\n",
    "- Từ các nhận xét về vị thế Long và Short, hãy trình bày các quy tắc quản trị vốn tổng quát (không trình bày riêng lẻ từng vị thế) bao gồm tỷ lệ rủi ro cho mỗi lệnh và tổng rủi ro, cùng với điều kiện giảm quy mô hoặc thoát một phần khi có biến động bất lợi.\n",
    "\"\"\"\n",
    "\n",
    "risk_comment = generate_content_with_model_dict(standard_model_dict, prompt_vn30f1m_risk(long_comment, short_comment), 'daily_vn30f1m_risk')"
   ]
  },
  {
   "cell_type": "code",
   "execution_count": 15,
   "id": "fa4c8807",
   "metadata": {},
   "outputs": [
    {
     "name": "stdout",
     "output_type": "stream",
     "text": [
      "✅ Model 'gemini-2.5-flash' thành công lần 1/2 tại hàm daily_vn30f1m_evaluation.\n"
     ]
    }
   ],
   "source": [
    "def prompt_vn30f1m_evaluation(df, ta_vn30f1m_comment):\n",
    "    return f\"\"\"\n",
    "Đây là dữ liệu của chỉ số hợp đồng tương lai VN30F1M (OHLCV và chỉ báo):\n",
    "{df.to_csv(index=False, sep='|', lineterminator='\\\\n')}\n",
    "\n",
    "Đây là nhận định từ chuyên gia về xu hướng thị trường:\n",
    "{ta_vn30f1m_comment}\n",
    "\n",
    "**Bối cảnh và Vai trò**\n",
    "Bạn là một nhà phân tích kỹ thuật cao cấp tại quỹ đầu tư, chuyển hóa dữ liệu và nhận định thành kế hoạch hành động có thể thực thi ngay trong phiên kế tiếp. Giá hiện tại = giá Close của bản ghi cuối cùng.\n",
    "\n",
    "**Yêu cầu đầu ra**\n",
    "\n",
    "- Viết ĐÚNG 1 đoạn văn duy nhất, trong đó có ĐÚNG 3 câu, **độ dài mỗi câu văn chính xác trong khoảng từ 20 tới 25 từ.**, bắt đầu trực tiếp, không có câu giới thiệu.\n",
    "- Mỗi câu kết thúc bằng dấu chấm (.). Tuyệt đối không sử dụng dấu chấm phẩy (;) hoặc bất kỳ ký tự phân cách câu nào khác. Không có tiêu đề, không bullet, không câu dẫn, và không thêm bất kỳ câu hay đoạn văn nào khác ngoài 3 đoạn yêu cầu. Văn phong chuyên nghiệp, súc tích, khách quan, và có tính liền mạch. \n",
    "\n",
    "** Hướng dẫn chi tiết cho từng câu:**\n",
    "- Câu 1: Kết luận nên ưu tiên Vị thế Long hay Vị thế Short trong giai đoạn này.\n",
    "- Câu 2: Giải thích ngắn gọn dựa trên trạng thái của giá so với các mốc kỹ thuật chủ đạo và xu hướng hiện tại trong dữ liệu/nhận định.\n",
    "- Câu 3: Nêu các lưu ý quan trọng nếu chọn chiến lược còn lại, gồm điều kiện vô hiệu, vùng cần xác nhận, và khuyến nghị quản trị rủi ro.\n",
    "\"\"\"\n",
    "\n",
    "evaluation_comment = generate_content_with_model_dict(standard_model_dict, prompt_vn30f1m_evaluation(vn30f1m_chart_df, ta_vn30f1m_comment), 'daily_vn30f1m_evaluation')"
   ]
  },
  {
   "cell_type": "markdown",
   "id": "413a90a8",
   "metadata": {},
   "source": [
    "#### Lưu vào MSSQL"
   ]
  },
  {
   "cell_type": "code",
   "execution_count": 22,
   "id": "0e58c949",
   "metadata": {},
   "outputs": [],
   "source": [
    "daily_8h45_comment_df = pd.DataFrame(\n",
    "    {\n",
    "        \"type\":     [\"overall\", \"ta_index\", \"long\", \"short\", \"risk\", \"evaluation\", \"date\", \"time\"],\n",
    "        \"comment\": [\n",
    "            overall_vn30f1m_comment,\n",
    "            ta_vn30f1m_comment,\n",
    "            long_comment,\n",
    "            short_comment,\n",
    "            risk_comment,\n",
    "            evaluation_comment,\n",
    "            time_series.iloc[0].item().strftime('%d/%m/%Y'),\n",
    "            time_series.iloc[0].item().strftime('%H:%M')\n",
    "        ],\n",
    "    }\n",
    ")\n"
   ]
  },
  {
   "cell_type": "code",
   "execution_count": 23,
   "id": "4eb521bc",
   "metadata": {},
   "outputs": [],
   "source": [
    "%%capture\n",
    "save_to_mssql(cts_engine, daily_8h45_comment_df, 'daily_8h45_comment')\n",
    "save_to_mssql(cts_engine, daily_8h45_itd_df, 'daily_8h45_itd')\n",
    "save_to_mssql(cts_engine, daily_8h45_nntd_df, 'daily_8h45_nntd')"
   ]
  }
 ],
 "metadata": {
  "kernelspec": {
   "display_name": "Python (Report Generator)",
   "language": "python",
   "name": "report-generator-venv"
  },
  "language_info": {
   "codemirror_mode": {
    "name": "ipython",
    "version": 3
   },
   "file_extension": ".py",
   "mimetype": "text/x-python",
   "name": "python",
   "nbconvert_exporter": "python",
   "pygments_lexer": "ipython3",
   "version": "3.12.7"
  }
 },
 "nbformat": 4,
 "nbformat_minor": 5
}
