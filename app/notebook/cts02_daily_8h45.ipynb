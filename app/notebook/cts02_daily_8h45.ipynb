{
 "cells": [
  {
   "cell_type": "code",
   "execution_count": 1,
   "id": "9cb2b62e",
   "metadata": {},
   "outputs": [],
   "source": [
    "import sys\n",
    "import os\n",
    "import importlib\n",
    "sys.path.append(os.path.join(os.path.dirname(os.getcwd()), 'import'))\n",
    "sys.path.append(os.path.join(os.path.dirname(os.getcwd()), 'module'))\n",
    "\n",
    "import import_default\n",
    "import import_database\n",
    "import import_other\n",
    "import gemini_analyze_fuction\n",
    "import gemini_comment_fuction\n",
    "import gemini_setup_function\n",
    "import gemini_summary_function\n",
    "import get_and_crawl_data\n",
    "import plotly_and_upload\n",
    "\n",
    "importlib.reload(import_default)\n",
    "importlib.reload(import_database)\n",
    "importlib.reload(import_other)\n",
    "importlib.reload(gemini_analyze_fuction)\n",
    "importlib.reload(gemini_comment_fuction)\n",
    "importlib.reload(gemini_setup_function)\n",
    "importlib.reload(gemini_summary_function)\n",
    "importlib.reload(get_and_crawl_data)\n",
    "importlib.reload(plotly_and_upload)\n",
    "\n",
    "from import_default import *\n",
    "from import_database import *\n",
    "from import_other import *\n",
    "from gemini_analyze_fuction import *\n",
    "from gemini_comment_fuction import *\n",
    "from gemini_setup_function import *\n",
    "from gemini_summary_function import *\n",
    "from get_and_crawl_data import *\n",
    "from plotly_and_upload import *"
   ]
  },
  {
   "cell_type": "markdown",
   "id": "21b06e1a",
   "metadata": {},
   "source": [
    "#### Lấy dữ liệu Mongo"
   ]
  },
  {
   "cell_type": "code",
   "execution_count": 2,
   "id": "1135ce62",
   "metadata": {},
   "outputs": [],
   "source": [
    "date_series = get_mongo_collection(ref_db, 'date_series')\n",
    "time_series = get_mongo_collection(ref_db, 'time_series')\n",
    "name_map = get_mongo_collection(ref_db, \"name_map\")\n",
    "name_map_dict = name_map.set_index('code')['full_name'].to_dict()\n",
    "full_stock_classification_df = get_mongo_collection(ref_db, 'full_stock_classification')"
   ]
  },
  {
   "cell_type": "code",
   "execution_count": 3,
   "id": "57c02aab",
   "metadata": {},
   "outputs": [],
   "source": [
    "projection = {\n",
    "    \"_id\": 0,\n",
    "    \"date\": 1,\n",
    "    \"ticker\": 1,\n",
    "    \"open\": 1,\n",
    "    \"high\": 1,\n",
    "    \"low\": 1,\n",
    "    \"close\": 1,\n",
    "    \"pct_change\": 1,\n",
    "    \"diff\": 1,\n",
    "    \"volume\": 1,\n",
    "    \"option\": 1,\n",
    "    \"SMA_20\": 1,\n",
    "    \"SMA_60\": 1,\n",
    "    \"RSI_14\": 1,\n",
    "    \"week_open\": 1,\n",
    "    \"month_prev_high\": 1,\n",
    "    \"month_prev_low\": 1,\n",
    "    \"month_open\": 1,\n",
    "    \"quarter_prev_high\": 1,\n",
    "    \"quarter_prev_low\": 1,\n",
    "    \"quarter_open\": 1,\n",
    "    \"year_open\": 1,\n",
    "    \"MFIBO_0382\": 1,\n",
    "    \"MFIBO_0500\": 1,\n",
    "    \"MFIBO_0618\": 1,\n",
    "    \"QFIBO_0382\": 1,\n",
    "    \"QFIBO_0500\": 1,\n",
    "    \"QFIBO_0618\": 1,\n",
    "\t\"YFIBO_0382\": 1,\n",
    "    \"YFIBO_0500\": 1,\n",
    "    \"YFIBO_0618\": 1,\n",
    "}\n",
    "today_index_df = get_mongo_collection(stock_db, \"today_index\", projection=projection)\n",
    "history_index_df = get_mongo_collection(stock_db, \"history_index\", projection=projection)\n",
    "full_index_df = pd.concat([today_index_df, history_index_df], axis=0, ignore_index=True)"
   ]
  },
  {
   "cell_type": "code",
   "execution_count": 4,
   "id": "c6a41a52",
   "metadata": {},
   "outputs": [],
   "source": [
    "other_ticker_df = get_mongo_collection(stock_db, 'other_ticker', projection=projection)\n",
    "nntd_index_df = get_mongo_collection(stock_db, 'nntd_index')\n",
    "nntd_stock_df = get_mongo_collection(stock_db, 'nntd_stock')"
   ]
  },
  {
   "cell_type": "markdown",
   "id": "2e9490d9",
   "metadata": {},
   "source": [
    "#### Tạo các models cho gemini"
   ]
  },
  {
   "cell_type": "code",
   "execution_count": 5,
   "id": "d52b6fda",
   "metadata": {},
   "outputs": [],
   "source": [
    "# Thiết lập kết nối với cơ sở dữ liệu\n",
    "genai.configure(api_key=load_env(\"GEMINI_API\"))\n",
    "\n",
    "# Sắp xếp danh sách model theo thứ tự ổn định\n",
    "# fast_model_list = select_fast_models(get_gemini_models())\n",
    "# standard_model_list = select_standard_models(get_gemini_models())\n",
    "fast_model_list = ['gemini-2.5-flash-lite', 'gemini-2.0-flash-lite', 'gemma-3-27b-it']\n",
    "standard_model_list = ['gemini-2.5-flash', 'gemini-2.0-flash', 'gemini-2.5-flash-lite', 'gemini-2.0-flash-lite', 'gemma-3-27b-it']\n",
    "\n",
    "# Tạo dictionary cho các model\n",
    "fast_model_dict = {model_name: genai.GenerativeModel(model_name) for model_name in fast_model_list}\n",
    "standard_model_dict = {model_name: genai.GenerativeModel(model_name) for model_name in standard_model_list}"
   ]
  },
  {
   "cell_type": "markdown",
   "id": "b17a83fb",
   "metadata": {},
   "source": [
    "#### Lấy dữ liệu lịch sử VN30F1M"
   ]
  },
  {
   "cell_type": "code",
   "execution_count": null,
   "id": "d57f3edc",
   "metadata": {},
   "outputs": [
    {
     "name": "stdout",
     "output_type": "stream",
     "text": [
      "✅ Đã cập nhật dữ liệu Tự Doanh đã mới nhất. Ngày trong dữ liệu: 2025-07-29 00:00:00\n"
     ]
    }
   ],
   "source": [
    "# Đọc tất cả các file FiinProX từ thư mục Downloads\n",
    "fiinprox_files = glob.glob(os.path.join(str(Path.home() / \"Downloads\"), \"*FiinProX*.xlsx\"))\n",
    "# Xoá đi các file không chứa dữ liệu Tự Doanh\n",
    "for file in fiinprox_files:\n",
    "    td_check = pd.read_excel(file).applymap(lambda x: isinstance(x, str) and \"Thống kê thị trường_Tự doanh-Chi tiết\" in x).any().any()\n",
    "    if not td_check:\n",
    "        fiinprox_files.remove(file)\n",
    "if len(fiinprox_files) == 0:\n",
    "    raise FileNotFoundError(\"❌ Chưa tải dữ liệu Tự Doanh từ FiinProX.\")\n",
    "\n",
    "# Sắp xếp fiinprox_files theo thời gian tạo (tăng dần) và lấy file mới nhất\n",
    "last_fiinprox_file = sorted(fiinprox_files, key=os.path.getctime)[-1]\n",
    "\n",
    "#Đọc dữ liệu Tự Doanh từ file mới nhất\n",
    "td_vn30f1m_df = pd.read_excel(last_fiinprox_file, skiprows=8).iloc[:, :12]\n",
    "td_vn30f1m_df = td_vn30f1m_df.dropna().iloc[:20].reset_index(drop=True)\n",
    "td_vn30f1m_df = td_vn30f1m_df.drop(td_vn30f1m_df.columns[[3, 5, 7, 9]], axis=1)\n",
    "td_vn30f1m_df.columns = ['ticker', 'date', 'buy_volume', 'sell_volume', 'buy_value', 'sell_value', 'net_value', 'net_volume']\n",
    "td_vn30f1m_df[[col for col in td_vn30f1m_df.columns if '_value' in col]] = td_vn30f1m_df[[col for col in td_vn30f1m_df.columns if '_value' in col]]/1000\n",
    "td_vn30f1m_df['type'] = 'TD'\n",
    "\n",
    "#Kiểm tra xem dữ liệu Tự Doanh đã mới nhất chưa\n",
    "td_date_check = td_vn30f1m_df['date'].max()\n",
    "date_to_check = date_series.iloc[2].item()\n",
    "if td_date_check <= date_to_check:\n",
    "    raise ValueError(f\"❌ Dữ liệu Tự Doanh không mới nhất. Ngày trong dữ liệu: {td_date_check}, ngày yêu cầu: {date_to_check}\")\n",
    "else:\n",
    "    print(f\"✅ Đã cập nhật dữ liệu Tự Doanh đã mới nhất. Ngày trong dữ liệu: {td_date_check}\")\n",
    "\n",
    "#Lưu riêng ticker cho VN30F1M dùng sau này\n",
    "vn30f1m_ticker = td_vn30f1m_df['ticker'].unique()[0]\n",
    "\n",
    "#Dữ liệu NN từ Fireant\n",
    "nn_vn30f1m_df = nntd_index_df[(nntd_index_df['ticker'] == 'VN30F1M') & (nntd_index_df['type'] == 'NN')].reset_index(drop=True)\n",
    "nn_vn30f1m_df['ticker'] = vn30f1m_ticker\n",
    "\n",
    "#Ghép bảng NN và TD\n",
    "daily_8h45_nntd_df = pd.concat([nn_vn30f1m_df, td_vn30f1m_df], axis=0, ignore_index=True)"
   ]
  },
  {
   "cell_type": "markdown",
   "id": "72e0a0d5",
   "metadata": {},
   "source": [
    "#### Vẽ biểu đồ kĩ thuật"
   ]
  },
  {
   "cell_type": "code",
   "execution_count": 63,
   "id": "b0c79b5c",
   "metadata": {},
   "outputs": [],
   "source": [
    "vn30f1m_chart_df = full_index_df[full_index_df['ticker'] == 'VN30F1M'].iloc[:120].sort_values('date').reset_index(drop=True)\n",
    "vn30f1m_chart_df['ticker'] = vn30f1m_ticker\n",
    "image_name = 'TA_DAILY_VN30F1M.png'\n",
    "\n",
    "line_name_dict = {\n",
    "    'SMA_20': 'SMA 20',\n",
    "    'SMA_60': 'SMA 60',\n",
    "    'week_open': 'WEEK OPEN',\n",
    "    'month_open': 'MONTH OPEN',\n",
    "    'quarter_open': 'QUARTER OPEN',\n",
    "    'year_open': 'YEAR OPEN',\n",
    "    'month_prev_high': 'LAST MHIGH',\n",
    "    'month_prev_low': 'LAST MLOW',\n",
    "    'quarter_prev_high': 'LAST QHIGH',\n",
    "    'quarter_prev_low': 'LAST QLOW',\n",
    "    'MFIBO_0382': 'MFIBO 0.382',\n",
    "    'MFIBO_0500': 'MFIBO 0.500',\n",
    "    'MFIBO_0618': 'MFIBO 0.618',\n",
    "    'QFIBO_0382': 'QFIBO 0.382',\n",
    "    'QFIBO_0500': 'QFIBO 0.500',\n",
    "    'QFIBO_0618': 'QFIBO 0.618',\n",
    "\t'YFIBO_0382': 'YFIBO 0.382',\n",
    "    'YFIBO_0500': 'YFIBO 0.500',\n",
    "    'YFIBO_0618': 'YFIBO 0.618'\n",
    "}\n",
    "\n",
    "chart_config = create_chart_config(\n",
    "\ttitle_font_size=30,\n",
    "\taxis_font_size=24,\n",
    "\ttag_font_size=24,\n",
    "\tprice_tag_font_size=24,\n",
    "    min_spacing_ratio = 0.042,\n",
    "\tmargin=dict(l=20, r=220, t=20, b=20, pad=10)\n",
    ")\n",
    "\n",
    "max_attempts = 5\n",
    "for attempt in range(max_attempts):\n",
    "    try:\n",
    "        fig, fig_images = create_financial_chart(\n",
    "            vn30f1m_chart_df, # DataFrame của bạn\n",
    "            width=1400,\n",
    "            height=1200,\n",
    "            line_name_dict=line_name_dict,\n",
    "            line_columns=list(line_name_dict.keys()),\n",
    "            chart_config=chart_config,\n",
    "            path='../output/cts_weekly_chart/',\n",
    "            symbol_name='VN30F1M',\n",
    "            image_name = image_name\n",
    "        )\n",
    "        upload_to_r2(fig_images, image_name)\n",
    "        break\n",
    "    except Exception as e:\n",
    "        if attempt == max_attempts - 1:\n",
    "            raise e\n",
    "# fig.show()"
   ]
  },
  {
   "cell_type": "code",
   "execution_count": 98,
   "id": "d8cbb513",
   "metadata": {},
   "outputs": [
    {
     "name": "stdout",
     "output_type": "stream",
     "text": [
      "✅ Model 'gemini-2.5-flash' thành công lần 1/2 tại hàm daily_vn30f1m_comment.\n"
     ]
    }
   ],
   "source": [
    "def daily_vn30f1m_comment_prompt(df):\n",
    "    prompt = f\"\"\"\n",
    "Đây là dữ liệu của chỉ số hợp đồng tương lai VN30F1M:\n",
    "    {df.to_csv(index=False, sep='|', lineterminator='\\n')}\n",
    "**Vai trò:** Bạn là một **nhà phân tích kỹ thuật cấp cao**, chuyên về giao dịch phái sinh, đưa ra nhận định **chiến thuật hàng ngày** cho nhà đầu tư.\n",
    "**Nhiệm vụ:** Dựa trên dữ liệu và các chỉ báo kỹ thuật, hãy viết một báo cáo phân tích và xây dựng chiến lược giao dịch 2 chiều cho **phiên kế tiếp**, tuân thủ nghiêm ngặt cấu trúc **10 câu, 4 đoạn**.\n",
    "**Yêu cầu về nội dung, cấu trúc và định dạng:**\n",
    "    Báo cáo phải gồm **10 câu, mỗi câu dài khoảng 20 đến 25 từ** và được chia thành **4 đoạn văn riêng biệt**. Bắt đầu thẳng vào nội dung, không có lời chào.\n",
    "    **Đoạn 1 (3 câu): Phân tích Phiên Gần Nhất**\n",
    "        * **Câu 1:** Nhận định tổng quan về diễn biến giá trong **phiên giao dịch gần nhất (ngày dd/mm)**.\n",
    "        * **Câu 2:** Phân tích vai trò của hai đường **SMA 20 và SMA 60** trong việc xác nhận xu hướng hiện tại.\n",
    "        * **Câu 3:** Đánh giá chỉ báo **RSI 14**, đặc biệt là các tín hiệu quá mua/quá bán và ý nghĩa của chúng cho phiên tới.\n",
    "    **Đoạn 2 (3 câu): Xác định các Vùng giá Cốt lõi**\n",
    "        * **Câu 4:** Phân tích mốc hỗ trợ/kháng cự quan trọng theo **khung Tuần** (kết hợp O-H-L gần nhất và Fibonacci gần nhất).\n",
    "        * **Câu 5:** Phân tích mốc hỗ trợ/kháng cự quan trọng theo **khung Tháng** (kết hợp O-H-L gần nhất và Fibonacci gần nhất).\n",
    "        * **Câu 6:** Tổng hợp và nhấn mạnh **một vùng hỗ trợ và một vùng kháng cự then chốt nhất** sẽ quyết định xu hướng **trong các phiên tới**.\n",
    "    **Đoạn 3 (2 câu): Kịch bản cho Vị thế LONG\n",
    "        * **Câu 7:** Trình bày các điểm vào lệnh tiềm năng cho vị thế LONG, gộp cả kịch bản vào lệnh LONG khi giá bứt phá kháng cự và khi giá điều chỉnh về hỗ trợ.\n",
    "        * **Câu 8: Xác định một mục tiêu chốt lời (TP) chung cho cả hai kịch bảnvà xác định lợi nhuận dữ kiến và các ngưỡng cắt lỗ (SL) riêng biệt cho từng kịch bản SHORT (ví dụ: '...với các ngưỡng cắt lỗ tương ứng tại X và Y')\n",
    "    **Đoạn 4 (2 câu): Kịch bản cho Vị thế SHORT\n",
    "        * **Câu 9:** Tương tự, trình bày các điểm vào lệnh cho vị thế SHORT, bao gồm kịch bản vào lệnh SHORT tại kháng cự và khi giá phá vỡ hỗ trợ.\n",
    "        * **Câu 10:** Thiết lập một mục tiêu chốt lời (TP) chung và xác định lợi nhuận dữ kiến và các ngưỡng cắt lỗ (SL) riêng biệt cho từng kịch bản SHORT (ví dụ: '...với các ngưỡng cắt lỗ tương ứng tại X và Y').\n",
    "**Yêu cầu về ngôn ngữ và trình bày:**\n",
    "    * **YÊU CẦU VỀ THUẬT NGỮ (CỰC KỲ QUAN TRỌNG): Luôn sử dụng đúng thuật ngữ phái sinh \"vị thế LONG\" và \"vị thế SHORT\". TUYỆT ĐỐI KHÔNG sử dụng các từ đồng nghĩa như \"mua\", \"bán\", \"kịch bản mua\", \"vị thế bán\", \"phe mua\", \"phe bán\" trong toàn bộ báo cáo.**\n",
    "    * **RÀNG BUỘC CHIẾN LƯỢC NGẮN HẠN:** Tất cả các điểm vào lệnh, chốt lời (TP) và cắt lỗ (SL) đề xuất phải nằm trong một phạm vi hợp lý. Khoảng cách từ điểm vào lệnh đến TP hoặc SL không nên vượt quá 50 điểm.\n",
    "    * **LƯU Ý QUAN TRỌNG:** Các khoảng cách cho TP và SL (bằng điểm) phải được tính từ **ĐIỂM VÀO LỆNH ĐỀ XUẤT**, không phải từ giá đóng cửa hiện tại.\n",
    "    * **Văn phong:** Sắc bén, khách quan, quyết đoán và đa dạng, tránh lặp lại cấu trúc câu.\n",
    "    * **TUYỆT ĐỐI KHÔNG** được viết tên cột dữ liệu gốc và **KHÔNG** có lời chào.\n",
    "    * **LUÔN LUÔN** sử dụng ngày dạng dd/mm trong bài viết.\n",
    "    \"\"\"\n",
    "    return prompt\n",
    "\n",
    "ta_vn30f1m_comment = generate_content_with_model_dict(standard_model_dict, daily_vn30f1m_comment_prompt(vn30f1m_chart_df), 'daily_vn30f1m_comment')\n"
   ]
  }
 ],
 "metadata": {
  "kernelspec": {
   "display_name": "Python (Report Generator)",
   "language": "python",
   "name": "report-generator-venv"
  },
  "language_info": {
   "codemirror_mode": {
    "name": "ipython",
    "version": 3
   },
   "file_extension": ".py",
   "mimetype": "text/x-python",
   "name": "python",
   "nbconvert_exporter": "python",
   "pygments_lexer": "ipython3",
   "version": "3.12.7"
  }
 },
 "nbformat": 4,
 "nbformat_minor": 5
}
