{
 "cells": [
  {
   "cell_type": "markdown",
   "id": "6a9be442",
   "metadata": {},
   "source": [
    "# AI cập nhật dữ liệu mới nhất cho bản tin 14h00"
   ]
  },
  {
   "cell_type": "code",
   "execution_count": null,
   "id": "e2882d76",
   "metadata": {},
   "outputs": [],
   "source": [
    "import sys\n",
    "import os\n",
    "import importlib\n",
    "sys.path.append(os.path.join(os.path.dirname(os.getcwd()), 'import'))\n",
    "sys.path.append(os.path.join(os.path.dirname(os.getcwd()), 'module'))\n",
    "\n",
    "import import_default\n",
    "import import_database\n",
    "import import_other\n",
    "import import_gemini\n",
    "import gemini_analyze_fuction\n",
    "import gemini_comment_fuction\n",
    "import gemini_summary_function\n",
    "import get_and_crawl_data\n",
    "import plotly_and_upload\n",
    "import other_source_data\n",
    "\n",
    "importlib.reload(import_default)\n",
    "importlib.reload(import_database)\n",
    "importlib.reload(import_other)\n",
    "importlib.reload(import_gemini)\n",
    "importlib.reload(gemini_analyze_fuction)\n",
    "importlib.reload(gemini_comment_fuction)\n",
    "importlib.reload(gemini_summary_function)\n",
    "importlib.reload(get_and_crawl_data)\n",
    "importlib.reload(plotly_and_upload)\n",
    "importlib.reload(other_source_data)\n",
    "\n",
    "from import_default import *\n",
    "from import_database import *\n",
    "from import_other import *\n",
    "from import_gemini import *\n",
    "from gemini_analyze_fuction import *\n",
    "from gemini_comment_fuction import *\n",
    "from gemini_summary_function import *\n",
    "from get_and_crawl_data import *\n",
    "from plotly_and_upload import *\n",
    "from other_source_data import *"
   ]
  },
  {
   "cell_type": "markdown",
   "id": "6483c5e1",
   "metadata": {},
   "source": [
    "### Phần dữ liệu lịch sử các ticker"
   ]
  },
  {
   "cell_type": "markdown",
   "id": "ee5140b1",
   "metadata": {},
   "source": [
    "#### Dữ liệu từ Mongo"
   ]
  },
  {
   "cell_type": "code",
   "execution_count": null,
   "id": "34672717",
   "metadata": {},
   "outputs": [],
   "source": [
    "date_series = get_mongo_collection(ref_db, 'date_series')\n",
    "time_series = get_mongo_collection(ref_db, 'time_series')\n",
    "name_map = get_mongo_collection(ref_db, \"name_map\")\n",
    "name_map_dict = name_map.set_index('code')['full_name'].to_dict()\n",
    "full_stock_classification_df = get_mongo_collection(ref_db, 'full_stock_classification')\n",
    "\n",
    "if date_series['date'].max() < get_today_date():\n",
    "    new_date = get_today_date()\n",
    "    date_series = pd.concat([date_series, pd.DataFrame({'date': [new_date]})]).sort_values(by='date', ascending=False).reset_index(drop=True)"
   ]
  },
  {
   "cell_type": "code",
   "execution_count": null,
   "id": "edf0fe9c",
   "metadata": {},
   "outputs": [],
   "source": [
    "projection = {\"_id\": 0,\"date\": 1,\"ticker\": 1,\"open\": 1,\"high\": 1,\"low\": 1,\"close\": 1,'volume': 1}\n",
    "today_index_df = get_mongo_collection(stock_db, \"today_index\", projection=projection)\n",
    "history_index_df = get_mongo_collection(stock_db, \"history_index\", projection=projection)\n",
    "full_index_df = pd.concat([today_index_df, history_index_df], axis=0, ignore_index=True)\n",
    "\n",
    "itd_index_df = get_mongo_collection(stock_db, \"itd_index\")\n",
    "other_ticker_df = get_mongo_collection(stock_db, 'other_ticker', projection=projection)\n",
    "nntd_index_df = get_mongo_collection(stock_db, 'nntd_index')\n",
    "nntd_stock_df = get_mongo_collection(stock_db, 'nntd_stock')"
   ]
  },
  {
   "cell_type": "markdown",
   "id": "bd8ddf02",
   "metadata": {},
   "source": [
    "#### Chuẩn bị các dữ liệu cần thiết"
   ]
  },
  {
   "cell_type": "code",
   "execution_count": null,
   "id": "551d57be",
   "metadata": {},
   "outputs": [],
   "source": [
    "itd_data_list = []\n",
    "for ticker in ['VNINDEX', 'VN30', 'HNXINDEX', 'UPINDEX', 'VN30F1M', 'VN30F2M']:\n",
    "    temp_itd_df = itd_index_df[itd_index_df['ticker'] == ticker].copy()\n",
    "    temp_eod_df = full_index_df[full_index_df['ticker'] == ticker].reset_index(drop=True)\n",
    "    temp_close_prev = temp_eod_df[temp_eod_df['date'] < temp_itd_df['date'].iloc[-1].normalize()].iloc[0]['close'].item()\n",
    "\n",
    "    temp_itd_df['pct_change'] = (temp_itd_df['close'] - temp_close_prev) / temp_close_prev\n",
    "    temp_itd_df['diff'] = temp_itd_df['close'] - temp_close_prev\n",
    "\n",
    "    # Chuyển cột date về datetime và làm index\n",
    "    temp_itd_df['date'] = pd.to_datetime(temp_itd_df['date'])\n",
    "    temp_itd_df = (\n",
    "        temp_itd_df\n",
    "        .set_index('date')\n",
    "        .resample('5T')\n",
    "        .agg({\n",
    "            'ticker': 'first',  # Giữ nguyên mã chứng khoán\n",
    "            'open':  'first',\n",
    "            'high':  'max',\n",
    "            'low':   'min',\n",
    "            'close': 'last',\n",
    "            'volume':'sum',\n",
    "            'pct_change': 'last',\n",
    "            'diff': 'last'\n",
    "        })\n",
    "        .dropna(subset=['open'])  # bỏ các khung thời gian không có dữ liệu\n",
    "        .reset_index()\n",
    "    )\n",
    "    itd_data_list.append(temp_itd_df)\n",
    "\n",
    "daily_14h00_data_df = pd.concat(itd_data_list, ignore_index=True)"
   ]
  },
  {
   "cell_type": "markdown",
   "id": "807f4ec0",
   "metadata": {},
   "source": [
    "### Phần dữ liệu cho tin tức"
   ]
  },
  {
   "cell_type": "markdown",
   "id": "d6446c14",
   "metadata": {},
   "source": [
    "#### Khởi tạo model và danh sách link báo"
   ]
  },
  {
   "cell_type": "code",
   "execution_count": null,
   "id": "c041b4ab",
   "metadata": {},
   "outputs": [],
   "source": [
    "# Thiết lập kết nối với cơ sở dữ liệu\n",
    "genai.configure(api_key=load_env(\"GEMINI_API\"))\n",
    "\n",
    "# Sắp xếp danh sách model theo thứ tự ổn định\n",
    "fast_model_list = ['gemini-2.5-flash-lite', 'gemini-2.0-flash-lite', 'gemma-3-27b-it']\n",
    "standard_model_list = ['gemini-2.5-flash', 'gemini-2.0-flash', 'gemini-2.5-flash-lite', 'gemini-2.0-flash-lite', 'gemma-3-27b-it']\n",
    "\n",
    "# Tạo dictionary cho các model\n",
    "fast_model_dict = {model_name: genai.GenerativeModel(model_name) for model_name in fast_model_list}\n",
    "standard_model_dict = {model_name: genai.GenerativeModel(model_name) for model_name in standard_model_list}"
   ]
  },
  {
   "cell_type": "code",
   "execution_count": null,
   "id": "3f619827",
   "metadata": {},
   "outputs": [],
   "source": [
    "article_url_dict = {\n",
    "    'VietStock': {\n",
    "        'https://vietstock.vn/775/the-gioi/kinh-te-nganh.rss': 3,\n",
    "        'https://vietstock.vn/768/kinh-te/kinh-te-dau-tu.rss': 3,\n",
    "        'https://vietstock.vn/830/chung-khoan/co-phieu.rss': 3,\n",
    "        'https://vietstock.vn/761/kinh-te/vi-mo.rss': 3,\n",
    "        'https://vietstock.vn/772/the-gioi/tai-chinh-quoc-te.rss': 3,\n",
    "        'https://vietstock.vn/773/the-gioi/chung-khoan-the-gioi.rss': 3,\n",
    "        'https://vietstock.vn/737/doanh-nghiep/hoat-dong-kinh-doanh.rss': 3,\n",
    "    },\n",
    "    'CafeF': {\n",
    "        'https://cafef.vn/vi-mo-dau-tu.chn': 5,\n",
    "        'https://cafef.vn/thi-truong-chung-khoan.chn': 5,\n",
    "        'https://cafef.vn/tai-chinh-quoc-te.chn': 5,\n",
    "        'https://cafef.vn/doanh-nghiep.chn': 5,\n",
    "    },\n",
    "    'Vietnambiz': {\n",
    "        'https://vietnambiz.vn/tai-chinh.htm': 5,\n",
    "        'https://vietnambiz.vn/quoc-te.htm': 5,\n",
    "        'https://vietnambiz.vn/chung-khoan.htm': 5,\n",
    "        'https://vietnambiz.vn/doanh-nghiep.htm': 5,\n",
    "    },\n",
    "    'VnEconomy': {\n",
    "        'https://vneconomy.vn/kinh-te-the-gioi.rss': 5,\n",
    "        'https://vneconomy.vn/tai-chinh.rss': 5,\n",
    "        'https://vneconomy.vn/chung-khoan.rss': 5,\n",
    "    }\n",
    "}"
   ]
  },
  {
   "cell_type": "markdown",
   "id": "4956c70a",
   "metadata": {},
   "source": [
    "#### Lấy các bài báo từ website"
   ]
  },
  {
   "cell_type": "code",
   "execution_count": null,
   "id": "7320be87",
   "metadata": {},
   "outputs": [],
   "source": [
    "# 1. Tạo dictionary cấu hình để quản lý cả 2 pattern xử lý\n",
    "source_handlers = {\n",
    "    'VnEconomy': {\n",
    "        'type': 'batch',\n",
    "        'process_batch': get_article_vneconomy \n",
    "    },\n",
    "    'VietStock': {\n",
    "        'type': 'item_by_item',\n",
    "        'get_articles': lambda url, num: feedparser.parse(url).entries[:num],\n",
    "        'get_details': lambda entry: get_article_vietstock(entry['id']),\n",
    "        'get_published_time': lambda entry: getattr(entry, 'published', '') or ''\n",
    "    },\n",
    "    'CafeF': {\n",
    "        'type': 'item_by_item',\n",
    "        'get_articles': get_cafef_articles_list,\n",
    "        'get_details': lambda entry: get_article_cafef(entry['id']),\n",
    "        'get_published_time': lambda entry: get_cafef_published_time(entry['id'])\n",
    "    },\n",
    "    'Vietnambiz': {\n",
    "        'type': 'item_by_item',\n",
    "        'get_articles': get_vietnambiz_articles_list,\n",
    "        'get_details': lambda entry: get_article_vietnambiz(entry['id']),\n",
    "        'get_published_time': lambda entry: get_vietnambiz_published_time(entry['id'])\n",
    "    }\n",
    "}\n",
    "\n",
    "# 2. Vòng lặp xử lý chính, giờ đây đã trở nên gọn gàng\n",
    "raw_news_list = []\n",
    "for source, rss_list in article_url_dict.items():\n",
    "    for rss_url, num_articles in rss_list.items():\n",
    "        \n",
    "        handler = source_handlers.get(source)\n",
    "        if not handler:\n",
    "            print(f\"Warning: No handler found for source '{source}'. Skipping.\")\n",
    "            continue\n",
    "\n",
    "        # Phân luồng xử lý dựa trên 'type' đã định nghĩa trong handler\n",
    "        if handler['type'] == 'batch':\n",
    "            # Xử lý các nguồn trả về một danh sách hoàn chỉnh\n",
    "            temp_news_list = handler['process_batch'](rss_url, num_articles)\n",
    "            raw_news_list.extend(temp_news_list) # Dùng extend hiệu quả hơn là +\n",
    "\n",
    "        elif handler['type'] == 'item_by_item':\n",
    "            # Xử lý các nguồn cần lấy chi tiết từng tin\n",
    "            feed_entries = handler['get_articles'](rss_url, num_articles)\n",
    "            for entry in feed_entries:\n",
    "                content, image_url = handler['get_details'](entry)\n",
    "                published_time = handler['get_published_time'](entry)\n",
    "                \n",
    "                raw_news_list.append({\n",
    "                    'source': source,\n",
    "                    'title': entry['title'], \n",
    "                    'content': content,\n",
    "                    'image_url': image_url,\n",
    "                    'article_url': entry['id'],\n",
    "                    'published_time': published_time,\n",
    "                })\n",
    "\n",
    "# 3. Chuyển đổi danh sách tin thành DataFrame\n",
    "raw_news_df = pd.DataFrame(raw_news_list)\n",
    "raw_news_df['published_time'] = raw_news_df['published_time'].apply(convert_published_time)"
   ]
  },
  {
   "cell_type": "markdown",
   "id": "4fb66db6",
   "metadata": {},
   "source": [
    "#### Lọc, tóm tắt và chọn tin nổi bật"
   ]
  },
  {
   "cell_type": "code",
   "execution_count": null,
   "id": "6d2ee7f4",
   "metadata": {},
   "outputs": [],
   "source": [
    "#Lọc bớt các tin có tiêu đề dài > 20 từ\n",
    "raw_news_df = raw_news_df[(raw_news_df['title'].str.split().str.len() <= 20)].reset_index(drop=True)\n",
    "\n",
    "# Lọc và phân loại các tin nổi bật\n",
    "fithered_news_df = raw_news_df.copy()\n",
    "filtered_news_index_dict = get_filtered_news_index(standard_model_dict, fithered_news_df, num_articles=10)\n",
    "\n",
    "# Tạo dictionary ánh xạ từ tên nhóm đến index của các tin nổi bật\n",
    "news_type_map = {}\n",
    "for k, idx_list in filtered_news_index_dict.items():\n",
    "    for idx in idx_list:\n",
    "        news_type_map[idx] = k\n",
    "\n",
    "# Thêm cột news_type vào fithered_news_df và lọc ra các dòng có news_type\n",
    "fithered_news_df['news_type'] = fithered_news_df.index.map(news_type_map)\n",
    "fithered_news_df = fithered_news_df[fithered_news_df['news_type'].notnull()]\n",
    "fithered_news_df = fithered_news_df.sort_values(by=['news_type', 'published_time'], ascending=[False, False]).reset_index(drop=True)"
   ]
  },
  {
   "cell_type": "code",
   "execution_count": null,
   "id": "a1195286",
   "metadata": {},
   "outputs": [],
   "source": [
    "%%capture\n",
    "# Tạo danh sách tin hàng tuần với nội dung tóm tắt\n",
    "daily_8h30_news_df = fithered_news_df.copy()\n",
    "daily_8h30_news_df['content'] = daily_8h30_news_df['content'].apply(lambda x: summary_daily_article(fast_model_dict, x))\n",
    "daily_8h30_news_df['title'] = daily_8h30_news_df.apply(lambda x: create_new_article_title(fast_model_dict, x['title'], x['content']), axis=1)\n",
    "\n",
    "# Thêm các cột cần thiết\n",
    "daily_8h30_news_df['word_count'] = daily_8h30_news_df['content'].str.split().str.len()\n",
    "daily_8h30_news_df['impact'] = analyze_news_impact(standard_model_dict, daily_8h30_news_df)"
   ]
  },
  {
   "cell_type": "code",
   "execution_count": null,
   "id": "eecf6b1e",
   "metadata": {},
   "outputs": [],
   "source": [
    "# Lựa chọn 1 tin tức nổi bật nhất cho mỗi nhóm\n",
    "daily_14h00_news_df['major_selected'] = identify_major_selected(standard_model_dict, daily_14h00_news_df)\n",
    "\n",
    "# Lựa chọn 3 tin tức phụ cho mỗi nhóm\n",
    "top_news_index_list = []\n",
    "for news_type in daily_14h00_news_df['news_type'].unique():\n",
    "    temp_news_index_list = get_daily_top_news(standard_model_dict, daily_14h00_news_df, news_type, num_articles = 3)\n",
    "    top_news_index_list = top_news_index_list + temp_news_index_list\n",
    "daily_14h00_news_df['sub_selected'] = daily_14h00_news_df.index.isin(top_news_index_list)\n",
    "daily_14h00_news_df['sub_selected'] = daily_14h00_news_df['sub_selected'].apply(lambda x: 'x' if x else '')\n",
    "\n",
    "# Gộp các tin được chọn vào cột ai_selected\n",
    "daily_14h00_news_df['ai_selected'] = daily_14h00_news_df.apply(lambda x: 'o' if x['major_selected'] == 'x' else ('x' if x['sub_selected'] == 'x' else ''), axis=1)\n",
    "daily_14h00_news_df = daily_14h00_news_df.drop(columns=['major_selected', 'sub_selected'])\n",
    "\n",
    "# Sắp xếp lại các cột\n",
    "daily_14h00_news_df['impact'] = pd.Categorical(daily_14h00_news_df['impact'], categories=['TÍCH CỰC', 'TRUNG LẬP', 'TIÊU CỰC'], ordered=True)\n",
    "daily_14h00_news_df.sort_values(by=['news_type', 'impact'], ascending=[False, True], inplace=True)"
   ]
  },
  {
   "cell_type": "markdown",
   "id": "900a3633",
   "metadata": {},
   "source": [
    "### Lưu dữ liệu vào MSSQL"
   ]
  },
  {
   "cell_type": "code",
   "execution_count": null,
   "id": "e033fa82",
   "metadata": {},
   "outputs": [],
   "source": [
    "daily_14h00_time_df = pd.DataFrame([{\n",
    "    'time': time_series.iloc[0].item().strftime('%H:%M'),\n",
    "    'date': time_series.iloc[0].item().strftime('%d/%m/%Y')\n",
    "}])"
   ]
  },
  {
   "cell_type": "code",
   "execution_count": null,
   "id": "addb7ea2",
   "metadata": {},
   "outputs": [],
   "source": [
    "%%capture\n",
    "save_to_mssql(cts_engine, daily_14h00_data_df, 'daily_14h00_data')\n",
    "save_to_mssql(cts_engine, daily_14h00_news_df, 'daily_14h00_news')\n",
    "save_to_mssql(cts_engine, daily_14h00_time_df, 'daily_14h00_time')\n"
   ]
  }
 ],
 "metadata": {
  "kernelspec": {
   "display_name": "base",
   "language": "python",
   "name": "python3"
  },
  "language_info": {
   "codemirror_mode": {
    "name": "ipython",
    "version": 3
   },
   "file_extension": ".py",
   "mimetype": "text/x-python",
   "name": "python",
   "nbconvert_exporter": "python",
   "pygments_lexer": "ipython3",
   "version": "3.12.7"
  }
 },
 "nbformat": 4,
 "nbformat_minor": 5
}
